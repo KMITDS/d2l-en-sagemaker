{
 "cells": [
  {
   "cell_type": "markdown",
   "metadata": {},
   "source": [
    "The following additional libraries are needed to run this\n",
    "notebook on Sagemaker."
   ]
  },
  {
   "cell_type": "code",
   "execution_count": null,
   "metadata": {},
   "outputs": [],
   "source": [
    "!pip install -U --pre mxnet-cu101mkl\n",
    "!pip install d2l\n"
   ]
  },
  {
   "cell_type": "markdown",
   "metadata": {},
   "source": [
    "# Transformer\n",
    "\n",
    ":label:`sec_transformer`\n",
    "\n",
    "\n",
    "In previous chapters, we have covered major neural network architectures such as convolution neural networks (CNNs) and  recurrent neural networks (RNNs). Let's recap their pros and cons:\n",
    "\n",
    "* **CNNs** are easy to parallelize at a layer but cannot capture the variable-length sequential dependency very well. \n",
    "\n",
    "* **RNNs** are able to capture the long-range, variable-length sequential information, but suffer from inability to parallelize within a sequence.\n",
    "\n",
    "To combine the advantages from both CNNs and RNNs, :cite:`Vaswani.Shazeer.Parmar.ea.2017` designed a novel architecture using the attention mechanism.\n",
    "This architecture, which is called as *Transformer*, achieves parallelization by capturing recurrence sequence with attention and at the same time encodes each item's position in the sequence. As a result, Transformer leads to a compatible model with significantly shorter training time.\n",
    "\n",
    "Similar to the seq2seq model in :numref:`sec_seq2seq`, Transformer is also based on the encoder-decoder architecture. However,  Transformer differs to the former by replacing the\n",
    "recurrent layers in seq2seq with *multi-head attention* layers, incorporating the position-wise information through *position encoding*, and applying *layer normalization*. \n",
    "We  compare  Transformer  and seq2seq  side-by-side in :numref:`fig_transformer`. \n",
    "\n",
    "Overall, these two models are similar to each other: the source sequence embeddings are fed into $n$ repeated blocks. The outputs of the last block are then used as attention memory for the decoder.  The target sequence embeddings are similarly fed into $n$ repeated blocks in the decoder, and the final outputs are obtained by applying a dense layer with vocabulary size to the last block's outputs.\n",
    "\n",
    "![The Transformer architecture.](../img/transformer.svg)\n",
    "\n",
    ":width:`500px`\n",
    "\n",
    "\n",
    ":label:`fig_transformer`\n",
    "\n",
    "\n",
    "\n",
    "On the flip side, Transformer differs from the seq2seq with attention model in the following:\n",
    "\n",
    "1. **Transformer block**: a recurrent layer in seq2seq is replaced by a *Transformer block*. This block contains a *multi-head attention* layer and a network with two *position-wise feed-forward network* layers for the encoder. For the decoder, another multi-head attention layer is used to take the encoder state.\n",
    "1. **Add and norm**: the inputs and outputs of both the multi-head attention layer or the position-wise feed-forward network, are processed by two \"add and norm\" layer that contains a residual structure and a *layer normalization* layer.\n",
    "1. **Position encoding**: since the self-attention layer does not distinguish the item order in a sequence, a positional encoding layer is used to add sequential information into each sequence item.\n",
    "\n",
    "\n",
    "In the rest of this section, we will equip you with each new component introduced by Transformer, and get you up and running to construct a machine translation model."
   ]
  },
  {
   "cell_type": "code",
   "execution_count": 1,
   "metadata": {
    "attributes": {
     "classes": [],
     "id": "",
     "n": "1"
    }
   },
   "outputs": [],
   "source": [
    "import d2l\n",
    "import math\n",
    "from mxnet import autograd, np, npx\n",
    "from mxnet.gluon import nn\n",
    "npx.set_np()"
   ]
  },
  {
   "cell_type": "markdown",
   "metadata": {},
   "source": [
    "## Multi-Head Attention\n",
    "\n",
    "Before the discussion of the *multi-head attention* layer, let's quick express the *self-attention* architecture. The self-attention model is a normal attention model, with its query, its key, and its value being copied exactly the same from each item of the sequential inputs. As we illustrate in :numref:`fig_self_attention`, self-attention outputs a same-length sequential output for each input item. Compared with a recurrent layer, output items of a self-attention layer can be computed in parallel and, therefore, it is easy to obtain a highly-efficient implementation.\n",
    "\n",
    "![Self-attention architecture.](../img/self-attention.svg)\n",
    "\n",
    ":label:`fig_self_attention`\n",
    "\n",
    "\n",
    "\n",
    "The *multi-head attention* layer consists of $h$ parallel self-attention layers, each one is called a *head*. For each head, before feeding into the attention layer, we project the queries, keys, and values with three dense layers with hidden sizes $p_q$, $p_k$, and $p_v$, respectively. The outputs of these $h$ attention heads are concatenated and then processed by a final dense layer.\n",
    "\n",
    "\n",
    "![Multi-head attention](../img/multi-head-attention.svg)\n",
    "\n",
    "\n",
    "Assume that the dimension for a query, a key, and a value are $d_q$, $d_k$, and $d_v$, respectively. Then, for each head $i=1,\\ldots, h$, we can train learnable parameters \n",
    "$\\mathbf W_q^{(i)}\\in\\mathbb R^{p_q\\times d_q}$,\n",
    "$\\mathbf W_k^{(i)}\\in\\mathbb R^{p_k\\times d_k}$,\n",
    "and $\\mathbf W_v^{(i)}\\in\\mathbb R^{p_v\\times d_v}$. Therefore, the output for each head is\n",
    "\n",
    "$$\\mathbf o^{(i)} = \\textrm{attention}(\\mathbf W_q^{(i)}\\mathbf q, \\mathbf W_k^{(i)}\\mathbf k,\\mathbf W_v^{(i)}\\mathbf v),$$\n",
    "\n",
    "where $\\textrm{attention}$ can be any attention layer, such as the `DotProductAttention` and `MLPAttention` as we introduced in :label:`sec_attention`. \n",
    "\n",
    "\n",
    "\n",
    "After that, the output with length $p_v$ from each of the $h$ attention heads are concatenated to be an output of length $h p_v$, which is then passed the final dense layer with $d_o$ hidden units. The weights of this dense layer can be denoted by $\\mathbf W_o\\in\\mathbb R^{d_o\\times h p_v}$. As a result, the multi-head attention output will be\n",
    "\n",
    "$$\\mathbf o = \\mathbf W_o \\begin{bmatrix}\\mathbf o^{(1)}\\\\\\vdots\\\\\\mathbf o^{(h)}\\end{bmatrix}.$$\n",
    "\n",
    "\n",
    "Now we can implement the multi-head attention. Assume that the multi-head attention contain the number heads `num_heads` $=h$, the hidden size `hidden_size` $=p_q=p_k=p_v$ are the same for the query,  key, and value dense layers. In addition, since the multi-head attention keeps the same dimensionality between its input and its output, we have the output feature size $d_o = $ `hidden_size` as well."
   ]
  },
  {
   "cell_type": "code",
   "execution_count": 2,
   "metadata": {
    "attributes": {
     "classes": [],
     "id": "",
     "n": "2"
    }
   },
   "outputs": [],
   "source": [
    "class MultiHeadAttention(nn.Block):\n",
    "    def __init__(self, hidden_size, num_heads, dropout, **kwargs):\n",
    "        super(MultiHeadAttention, self).__init__(**kwargs)\n",
    "        self.num_heads = num_heads\n",
    "        self.attention = d2l.DotProductAttention(dropout)\n",
    "        self.W_q = nn.Dense(hidden_size, use_bias=False, flatten=False)\n",
    "        self.W_k = nn.Dense(hidden_size, use_bias=False, flatten=False)\n",
    "        self.W_v = nn.Dense(hidden_size, use_bias=False, flatten=False)\n",
    "        self.W_o = nn.Dense(hidden_size, use_bias=False, flatten=False)\n",
    "\n",
    "    def forward(self, query, key, value, valid_length):\n",
    "        # query, key, and value shape: (batch_size, seq_len, dim),\n",
    "        # where seq_len is the length of input sequence\n",
    "        # valid_length shape is either (batch_size, )\n",
    "        # or (batch_size, seq_len).\n",
    "\n",
    "        # Project and transpose query, key, and value from\n",
    "        # (batch_size, seq_len, hidden_size * num_heads) to\n",
    "        # (batch_size * num_heads, seq_len, hidden_size).\n",
    "        query = transpose_qkv(self.W_q(query), self.num_heads)\n",
    "        key = transpose_qkv(self.W_k(key), self.num_heads)\n",
    "        value = transpose_qkv(self.W_v(value), self.num_heads)\n",
    "\n",
    "        if valid_length is not None:\n",
    "            # Copy valid_length by num_heads times\n",
    "            if valid_length.ndim == 1:\n",
    "                valid_length = np.tile(valid_length, self.num_heads)\n",
    "            else:\n",
    "                valid_length = np.tile(valid_length, (self.num_heads, 1))\n",
    "\n",
    "        output = self.attention(query, key, value, valid_length)\n",
    "\n",
    "        # Transpose from (batch_size * num_heads, seq_len, hidden_size) back\n",
    "        # to (batch_size, seq_len, hidden_size * num_heads)\n",
    "        output_concat = transpose_output(output, self.num_heads)\n",
    "        return self.W_o(output_concat)"
   ]
  },
  {
   "cell_type": "markdown",
   "metadata": {},
   "source": [
    "Here are the definitions of the transpose functions `transpose_qkv` and `transpose_output`, who are the inverse of each other."
   ]
  },
  {
   "cell_type": "code",
   "execution_count": 3,
   "metadata": {
    "attributes": {
     "classes": [],
     "id": "",
     "n": "3"
    }
   },
   "outputs": [],
   "source": [
    "def transpose_qkv(X, num_heads):\n",
    "    # Original X shape: (batch_size, seq_len, hidden_size * num_heads),\n",
    "    # -1 means inferring its value, after first reshape, X shape:\n",
    "    # (batch_size, seq_len, num_heads, hidden_size)\n",
    "    X = X.reshape(X.shape[0], X.shape[1], num_heads, -1)\n",
    "\n",
    "    # After transpose, X shape: (batch_size, num_heads, seq_len, hidden_size)\n",
    "    X = X.transpose(0, 2, 1, 3)\n",
    "\n",
    "    # Merge the first two dimensions. Use reverse=True to infer shape from\n",
    "    # right to left. \n",
    "    # output shape: (batch_size * num_heads, seq_len, hidden_size)\n",
    "    output = X.reshape(-1, X.shape[2], X.shape[3])\n",
    "    return output\n",
    "\n",
    "\n",
    "def transpose_output(X, num_heads):\n",
    "    # A reversed version of transpose_qkv\n",
    "    X = X.reshape(-1, num_heads, X.shape[1], X.shape[2])\n",
    "    X = X.transpose(0, 2, 1, 3)\n",
    "    return X.reshape(X.shape[0], X.shape[1], -1)"
   ]
  },
  {
   "cell_type": "markdown",
   "metadata": {},
   "source": [
    "Let's test the `MultiHeadAttention` model in the a toy example. Create a multi-head attention with the hidden size $d_o = 100$, the output will share the same batch size and sequence length as the input, but the last dimension will be equal to the `hidden_size` $= 100$."
   ]
  },
  {
   "cell_type": "code",
   "execution_count": 4,
   "metadata": {
    "attributes": {
     "classes": [],
     "id": "",
     "n": "4"
    }
   },
   "outputs": [],
   "source": [
    "cell = MultiHeadAttention(100, 10, 0.5)\n",
    "cell.initialize()\n",
    "X = np.ones((2, 4, 5))\n",
    "valid_length = np.array([2, 3])\n",
    "cell(X, X, X, valid_length).shape"
   ]
  },
  {
   "cell_type": "markdown",
   "metadata": {},
   "source": [
    "## Position-wise Feed-Forward Networks\n",
    "\n",
    "Another key component in the Transformer block is called *position-wise feed-forward network (FFN)*. It accepts a $3$-dimensional input with shape (batch size, sequence length, feature size). The position-wise FFN consists of two dense layers that applies to the last dimension. Since the same two dense layers are used for each position item in the sequence, we referred to it as *position-wise*. Indeed, it is equivalent to applying two $1 \\times 1$ convolution layers.\n",
    "\n",
    "Below, the `PositionWiseFFN` shows how to implement a position-wise FFN with two dense layers of hidden size `ffn_hidden_size` and `hidden_size_out`, respectively."
   ]
  },
  {
   "cell_type": "code",
   "execution_count": 5,
   "metadata": {
    "attributes": {
     "classes": [],
     "id": "",
     "n": "5"
    }
   },
   "outputs": [],
   "source": [
    "class PositionWiseFFN(nn.Block):\n",
    "    def __init__(self, ffn_hidden_size, hidden_size_out, **kwargs):\n",
    "        super(PositionWiseFFN, self).__init__(**kwargs)\n",
    "        self.ffn_1 = nn.Dense(ffn_hidden_size, flatten=False,\n",
    "                              activation='relu')\n",
    "        self.ffn_2 = nn.Dense(hidden_size_out, flatten=False)\n",
    "\n",
    "    def forward(self, X):\n",
    "        return self.ffn_2(self.ffn_1(X))"
   ]
  },
  {
   "cell_type": "markdown",
   "metadata": {},
   "source": [
    "Similar to the multi-head attention, the position-wise feed-forward network will only change the last dimension size of the input---the feature dimension. In addition, if two items in the input sequence are identical, the according outputs will be identical as well."
   ]
  },
  {
   "cell_type": "code",
   "execution_count": 6,
   "metadata": {
    "attributes": {
     "classes": [],
     "id": "",
     "n": "6"
    }
   },
   "outputs": [],
   "source": [
    "ffn = PositionWiseFFN(4, 8)\n",
    "ffn.initialize()\n",
    "ffn(np.ones((2, 3, 4)))[0]"
   ]
  },
  {
   "cell_type": "markdown",
   "metadata": {},
   "source": [
    "## Add and Norm\n",
    "\n",
    "Besides the above two components in the Transformer block, the \"add and norm\" within the block also plays a key role to connect the inputs and outputs of other layers smoothly. To explain, we add a layer that contains a residual structure and a *layer normalization* after both the multi-head attention layer and the position-wise FFN network. *Layer normalization* is similar to batch normalization in :numref:`sec_batch_norm`. One difference is that the mean and variances for the layer normalization are calculated along the last dimension, e.g `X.mean(axis=-1)` instead of the first batch dimension, e.g., `X.mean(axis=0)`. Layer normalization prevents the range of values in the layers from changing too much, which means that faster training and better generalization ability.\n",
    "\n",
    "MXNet has both `LayerNorm` and `BatchNorm` implemented within the `nn` block. Let's call both of them and see the difference in the  example below."
   ]
  },
  {
   "cell_type": "code",
   "execution_count": 7,
   "metadata": {
    "attributes": {
     "classes": [],
     "id": "",
     "n": "7"
    }
   },
   "outputs": [],
   "source": [
    "layer = nn.LayerNorm()\n",
    "layer.initialize()\n",
    "batch = nn.BatchNorm()\n",
    "batch.initialize()\n",
    "X = np.array([[1, 2], [2, 3]])\n",
    "# Compute mean and variance from X in the training mode\n",
    "with autograd.record():\n",
    "    print('layer norm:', layer(X), '\\nbatch norm:', batch(X))"
   ]
  },
  {
   "cell_type": "markdown",
   "metadata": {},
   "source": [
    "Now let's implement the connection block `AddNorm` together. `AddNorm` accepts two inputs $X$ and $Y$. We can deem $X$ as the original input in the residual network, and $Y$ as the outputs from either the multi-head attention layer or the position-wise FFN network. In addition, we apply dropout on $Y$ for regularization."
   ]
  },
  {
   "cell_type": "code",
   "execution_count": 8,
   "metadata": {
    "attributes": {
     "classes": [],
     "id": "",
     "n": "8"
    }
   },
   "outputs": [],
   "source": [
    "class AddNorm(nn.Block):\n",
    "    def __init__(self, dropout, **kwargs):\n",
    "        super(AddNorm, self).__init__(**kwargs)\n",
    "        self.dropout = nn.Dropout(dropout)\n",
    "        self.norm = nn.LayerNorm()\n",
    "\n",
    "    def forward(self, X, Y):\n",
    "        return self.norm(self.dropout(Y) + X)"
   ]
  },
  {
   "cell_type": "markdown",
   "metadata": {},
   "source": [
    "Due to the residual connection, $X$ and $Y$ should have the same shape."
   ]
  },
  {
   "cell_type": "code",
   "execution_count": 9,
   "metadata": {
    "attributes": {
     "classes": [],
     "id": "",
     "n": "9"
    }
   },
   "outputs": [],
   "source": [
    "add_norm = AddNorm(0.5)\n",
    "add_norm.initialize()\n",
    "add_norm(np.ones((2, 3, 4)), np.ones((2, 3, 4))).shape"
   ]
  },
  {
   "cell_type": "markdown",
   "metadata": {},
   "source": [
    "## Positional Encoding\n",
    "\n",
    "Unlike the recurrent layer, both the multi-head attention layer and the position-wise feed-forward network compute the output of each item in the sequence independently. This feature enables us to parallelize the computation, but it fails to model the sequential information for a given sequence. To better capture the sequential information, the Transformer model uses the *positional encoding* to maintain the positional information of the input sequence.\n",
    "\n",
    "To explain, assume that $X\\in\\mathbb R^{l\\times d}$ is the embedding of an example, where $l$ is the sequence length and $d$ is the embedding size. This positional encoding layer encodes X's position $P\\in\\mathbb R^{l\\times d}$ and outputs $P+X$. \n",
    "\n",
    "The position $P$ is a 2-D matrix, where $i$ refers to the order in the sentence, and $j$ refers to the position along the embedding vector dimension. In this way, each value in the origin sequence is then maintained using the equations below:\n",
    "\n",
    "$$P_{i, 2j} = \\sin(i/10000^{2j/d}),$$\n",
    "\n",
    "$$\\quad P_{i, 2j+1} = \\cos(i/10000^{2j/d}),$$\n",
    "\n",
    "for $i=0,\\ldots, l-1$ and $j=0,\\ldots,\\lfloor(d-1)/2\\rfloor$.\n",
    "\n",
    "\n",
    ":numref:`fig_positional_encoding` illustrates the positional encoding.\n",
    "\n",
    "![Positional encoding.](../img/positional_encoding.svg)\n",
    "\n",
    ":label:`fig_positional_encoding`"
   ]
  },
  {
   "cell_type": "code",
   "execution_count": 10,
   "metadata": {
    "attributes": {
     "classes": [],
     "id": "",
     "n": "10"
    }
   },
   "outputs": [],
   "source": [
    "class PositionalEncoding(nn.Block):\n",
    "    def __init__(self, embedding_size, dropout, max_len=1000):\n",
    "        super(PositionalEncoding, self).__init__()\n",
    "        self.dropout = nn.Dropout(dropout)\n",
    "        # Create a long enough P\n",
    "        self.P = np.zeros((1, max_len, embedding_size))\n",
    "        X = np.arange(0, max_len).reshape(-1, 1) / np.power(\n",
    "            10000, np.arange(0, embedding_size, 2)/embedding_size)\n",
    "        self.P[:, :, 0::2] = np.sin(X)\n",
    "        self.P[:, :, 1::2] = np.cos(X)\n",
    "\n",
    "    def forward(self, X):\n",
    "        X = X + self.P[:, :X.shape[1], :].as_in_context(X.context)\n",
    "        return self.dropout(X)"
   ]
  },
  {
   "cell_type": "markdown",
   "metadata": {},
   "source": [
    "Now we test the `PositionalEncoding` class with a toy model for 4 dimensions. As we can see, the $4^{\\mathrm{th}}$ dimension has the same frequency as the $5^{\\mathrm{th}}$ but with different offset. The $5^{\\mathrm{th}}$ and $6^{\\mathrm{th}}$ dimensions have a lower frequency."
   ]
  },
  {
   "cell_type": "code",
   "execution_count": 11,
   "metadata": {
    "attributes": {
     "classes": [],
     "id": "",
     "n": "11"
    }
   },
   "outputs": [],
   "source": [
    "pe = PositionalEncoding(20, 0)\n",
    "pe.initialize()\n",
    "Y = pe(np.zeros((1, 100, 20)))\n",
    "d2l.plot(np.arange(100), Y[0, :, 4:8].T, figsize=(6, 2.5),\n",
    "         legend=[\"dim %d\" % p for p in [4, 5, 6, 7]])"
   ]
  },
  {
   "cell_type": "markdown",
   "metadata": {},
   "source": [
    "## Encoder\n",
    "\n",
    "Armed with all the essential components of Transformer, let's first build a Transformer encoder block. This encoder contains a multi-head attention layer, a position-wise feed-forward network, and two \"add and norm\" connection blocks. As shown in the code, for both of the attention model and the positional FFN model in the `EncoderBlock`, their outputs' dimension are equal to the `embedding_size`. This is due to the nature of the residual block, as we need to add these outputs back to the original value during \"add and norm\"."
   ]
  },
  {
   "cell_type": "code",
   "execution_count": 12,
   "metadata": {
    "attributes": {
     "classes": [],
     "id": "",
     "n": "12"
    }
   },
   "outputs": [],
   "source": [
    "class EncoderBlock(nn.Block):\n",
    "    def __init__(self, embedding_size, ffn_hidden_size, num_heads,\n",
    "                 dropout, **kwargs):\n",
    "        super(EncoderBlock, self).__init__(**kwargs)\n",
    "        self.attention = MultiHeadAttention(embedding_size, num_heads,\n",
    "                                            dropout)\n",
    "        self.addnorm_1 = AddNorm(dropout)\n",
    "        self.ffn = PositionWiseFFN(ffn_hidden_size, embedding_size)\n",
    "        self.addnorm_2 = AddNorm(dropout)\n",
    "\n",
    "    def forward(self, X, valid_length):\n",
    "        Y = self.addnorm_1(X, self.attention(X, X, X, valid_length))\n",
    "        return self.addnorm_2(Y, self.ffn(Y))"
   ]
  },
  {
   "cell_type": "markdown",
   "metadata": {},
   "source": [
    "Due to the residual connections, this block will not change the input shape. It means that the `embedding_size` argument should be equal to the input size of the last dimension. In our toy example below,  `embedding_size` $= 24$, `ffn_hidden_size` $=48$, `num_heads` $= 8$, and `dropout` $= 0.5$."
   ]
  },
  {
   "cell_type": "code",
   "execution_count": 13,
   "metadata": {
    "attributes": {
     "classes": [],
     "id": "",
     "n": "13"
    }
   },
   "outputs": [],
   "source": [
    "X = np.ones((2, 100, 24))\n",
    "encoder_blk = EncoderBlock(24, 48, 8, 0.5)\n",
    "encoder_blk.initialize()\n",
    "encoder_blk(X, valid_length).shape"
   ]
  },
  {
   "cell_type": "markdown",
   "metadata": {},
   "source": [
    "Now it comes to the implementation of the entire Transformer encoder. With the Transformer encoder, $n$ blocks of `EncoderBlock` stack up one after another. Because of the residual connection, the embedding layer size $d$ is same as the Transformer block output size. Also note that we multiply the embedding output by $\\sqrt{d}$ to prevent its values from being too small."
   ]
  },
  {
   "cell_type": "code",
   "execution_count": 14,
   "metadata": {
    "attributes": {
     "classes": [],
     "id": "",
     "n": "14"
    }
   },
   "outputs": [],
   "source": [
    "class TransformerEncoder(d2l.Encoder):\n",
    "    def __init__(self, vocab_size, embedding_size, ffn_hidden_size,\n",
    "                 num_heads, num_layers, dropout, **kwargs):\n",
    "        super(TransformerEncoder, self).__init__(**kwargs)\n",
    "        self.embedding_size = embedding_size\n",
    "        self.embed = nn.Embedding(vocab_size, embedding_size)\n",
    "        self.pos_encoding = PositionalEncoding(embedding_size, dropout)\n",
    "        self.blks = nn.Sequential()\n",
    "        for i in range(num_layers):\n",
    "            self.blks.add(\n",
    "                EncoderBlock(embedding_size, ffn_hidden_size,\n",
    "                             num_heads, dropout))\n",
    "\n",
    "    def forward(self, X, valid_length, *args):\n",
    "        X = self.pos_encoding(self.embed(X) * math.sqrt(self.embedding_size))\n",
    "        for blk in self.blks:\n",
    "            X = blk(X, valid_length)\n",
    "        return X"
   ]
  },
  {
   "cell_type": "markdown",
   "metadata": {},
   "source": [
    "Let's create an encoder with two stacked  Transformer encoder blocks, whose hyperparameters are the same as before. Similar to the previous toy example's parameters, we add two more parameters `vocab_size` to be $200$ and `num_layers` to be $2$ here."
   ]
  },
  {
   "cell_type": "code",
   "execution_count": 15,
   "metadata": {
    "attributes": {
     "classes": [],
     "id": "",
     "n": "15"
    }
   },
   "outputs": [],
   "source": [
    "encoder = TransformerEncoder(200, 24, 48, 8, 2, 0.5)\n",
    "encoder.initialize()\n",
    "encoder(np.ones((2, 100)), valid_length).shape"
   ]
  },
  {
   "cell_type": "markdown",
   "metadata": {},
   "source": [
    "## Decoder\n",
    "\n",
    "The Transformer decoder block looks similar to the Transformer encoder block. However, besides the two sub-layers---the multi-head attention layer and the positional encoding network, the decoder Transformer block contains a third sub-layer, which applies multi-head attention on the output of the encoder stack. Similar to the  Transformer encoder block, the  Transformer decoder block employs \"add and norm\", i.e., the residual connections and the layer normalization to connect each of the sub-layers. \n",
    "\n",
    "To be specific, at timestep $t$, assume that $\\mathbf x_t$ is the current input, i.e., the query. As illustrated in :numref:`fig_self_attention_predict`, the keys and values of the self-attention layer consist of the current query with all the past queries $\\mathbf x_1, \\ldots, \\mathbf x_{t-1}$.\n",
    "\n",
    "![Predict at timestep $t$ for a self-attention layer.](../img/self-attention-predict.svg)\n",
    "\n",
    ":label:`fig_self_attention_predict`\n",
    "\n",
    "\n",
    "During training, the output for the $t$-query could observe all the previous key-value pairs. It results in an different behavior from prediction. Thus, during prediction we can eliminate the unnecessary information by specifying the valid length to be $t$ for the $t^\\textrm{th}$ query."
   ]
  },
  {
   "cell_type": "code",
   "execution_count": 16,
   "metadata": {
    "attributes": {
     "classes": [],
     "id": "",
     "n": "16"
    }
   },
   "outputs": [],
   "source": [
    "class DecoderBlock(nn.Block):\n",
    "    # i means it is the i-th block in the decoder\n",
    "    def __init__(self, embedding_size, ffn_hidden_size, num_heads,\n",
    "                 dropout, i, **kwargs):\n",
    "        super(DecoderBlock, self).__init__(**kwargs)\n",
    "        self.i = i\n",
    "        self.attention_1 = MultiHeadAttention(embedding_size, num_heads,\n",
    "                                              dropout)\n",
    "        self.addnorm_1 = AddNorm(dropout)\n",
    "        self.attention_2 = MultiHeadAttention(embedding_size, num_heads,\n",
    "                                              dropout)\n",
    "        self.addnorm_2 = AddNorm(dropout)\n",
    "        self.ffn = PositionWiseFFN(ffn_hidden_size, embedding_size)\n",
    "        self.addnorm_3 = AddNorm(dropout)\n",
    "\n",
    "    def forward(self, X, state):\n",
    "        enc_outputs, enc_valid_lengh = state[0], state[1]\n",
    "        # state[2][i] contains the past queries for this block\n",
    "        if state[2][self.i] is None:\n",
    "            key_values = X\n",
    "        else:\n",
    "            key_values = np.concatenate((state[2][self.i], X), axis=1)\n",
    "        state[2][self.i] = key_values\n",
    "        if autograd.is_training():\n",
    "            batch_size, seq_len, _ = X.shape\n",
    "            # Shape: (batch_size, seq_len), the values in the j-th column\n",
    "            # are j+1\n",
    "            valid_length = np.tile(np.arange(1, seq_len+1, ctx=X.context),\n",
    "                                   (batch_size, 1))\n",
    "        else:\n",
    "            valid_length = None\n",
    "\n",
    "        X2 = self.attention_1(X, key_values, key_values, valid_length)\n",
    "        Y = self.addnorm_1(X, X2)\n",
    "        Y2 = self.attention_2(Y, enc_outputs, enc_outputs, enc_valid_lengh)\n",
    "        Z = self.addnorm_2(Y, Y2)\n",
    "        return self.addnorm_3(Z, self.ffn(Z)), state"
   ]
  },
  {
   "cell_type": "markdown",
   "metadata": {},
   "source": [
    "Similar to the  Transformer encoder block, `embedding_size` should be equal to the last dimension size of $X$."
   ]
  },
  {
   "cell_type": "code",
   "execution_count": 17,
   "metadata": {
    "attributes": {
     "classes": [],
     "id": "",
     "n": "17"
    }
   },
   "outputs": [],
   "source": [
    "decoder_blk = DecoderBlock(24, 48, 8, 0.5, 0)\n",
    "decoder_blk.initialize()\n",
    "X = np.ones((2, 100, 24))\n",
    "state = [encoder_blk(X, valid_length), valid_length, [None]]\n",
    "decoder_blk(X, state)[0].shape"
   ]
  },
  {
   "cell_type": "markdown",
   "metadata": {},
   "source": [
    "The construction of the entire  Transformer decoder is identical to the  Transformer encoder, except for the additional dense layer to obtain the output confidence scores. \n",
    "\n",
    "Let's implement the  Transformer decoder `TransformerDecoder`. Besides the regular hyperparameters such as the `vocab_size` and `embedding_size`, the  Transformer decoder also needs the encoder Transformer's outputs `enc_outputs` and `env_valid_lengh`."
   ]
  },
  {
   "cell_type": "code",
   "execution_count": 18,
   "metadata": {
    "attributes": {
     "classes": [],
     "id": "",
     "n": "18"
    }
   },
   "outputs": [],
   "source": [
    "class TransformerDecoder(d2l.Decoder):\n",
    "    def __init__(self, vocab_size, embedding_size, ffn_hidden_size,\n",
    "                 num_heads, num_layers, dropout, **kwargs):\n",
    "        super(TransformerDecoder, self).__init__(**kwargs)\n",
    "        self.embedding_size = embedding_size\n",
    "        self.num_layers = num_layers\n",
    "        self.embed = nn.Embedding(vocab_size, embedding_size)\n",
    "        self.pos_encoding = PositionalEncoding(embedding_size, dropout)\n",
    "        self.blks = nn.Sequential()\n",
    "        for i in range(num_layers):\n",
    "            self.blks.add(\n",
    "                DecoderBlock(embedding_size, ffn_hidden_size, num_heads,\n",
    "                             dropout, i))\n",
    "        self.dense = nn.Dense(vocab_size, flatten=False)\n",
    "\n",
    "    def init_state(self, enc_outputs, env_valid_lengh, *args):\n",
    "        return [enc_outputs, env_valid_lengh, [None]*self.num_layers]\n",
    "\n",
    "    def forward(self, X, state):\n",
    "        X = self.pos_encoding(self.embed(X) * math.sqrt(self.embedding_size))\n",
    "        for blk in self.blks:\n",
    "            X, state = blk(X, state)\n",
    "        return self.dense(X), state"
   ]
  },
  {
   "cell_type": "markdown",
   "metadata": {},
   "source": [
    "## Training\n",
    "\n",
    "Finally, we can build a encoder-decoder model with Transformer architecture.\n",
    "Similar to the seq2seq with attention model in :numref:`sec_seq2seq_attention`, we use the following hyperparameters: two Transformer blocks with both the embedding size and the block output size to be $32$. In addition, we use $4$ heads, and set the hidden size to be twice larger than the output size."
   ]
  },
  {
   "cell_type": "code",
   "execution_count": 31,
   "metadata": {
    "attributes": {
     "classes": [],
     "id": "",
     "n": "31"
    }
   },
   "outputs": [],
   "source": [
    "embed_size, embedding_size, num_layers, dropout = 32, 32, 2, 0.0\n",
    "batch_size, num_steps = 64, 10\n",
    "lr, num_epochs, ctx = 0.005, 100, d2l.try_gpu()\n",
    "num_hiddens, num_heads = 64, 4\n",
    "\n",
    "src_vocab, tgt_vocab, train_iter = d2l.load_data_nmt(batch_size, num_steps)\n",
    "\n",
    "encoder = TransformerEncoder(\n",
    "    len(src_vocab), embedding_size, num_hiddens, num_heads, num_layers,\n",
    "    dropout)\n",
    "decoder = TransformerDecoder(\n",
    "    len(src_vocab), embedding_size, num_hiddens, num_heads, num_layers,\n",
    "    dropout)\n",
    "model = d2l.EncoderDecoder(encoder, decoder)\n",
    "d2l.train_s2s_ch9(model, train_iter, lr, num_epochs, ctx)"
   ]
  },
  {
   "cell_type": "markdown",
   "metadata": {},
   "source": [
    "As we can see from the training time and accuracy, compared with the seq2seq model with attention model, Transformer runs faster per epoch, and converges faster at the beginning.\n",
    "\n",
    "We can use the trained Transformer to translate some simple sentences."
   ]
  },
  {
   "cell_type": "code",
   "execution_count": 28,
   "metadata": {
    "attributes": {
     "classes": [],
     "id": "",
     "n": "28"
    }
   },
   "outputs": [],
   "source": [
    "for sentence in ['Go .', 'Wow !', \"I'm OK .\", 'I won !']:\n",
    "    print(sentence + ' => ' + d2l.predict_s2s_ch9(\n",
    "        model, sentence, src_vocab, tgt_vocab, num_steps, ctx))"
   ]
  },
  {
   "cell_type": "markdown",
   "metadata": {},
   "source": [
    "## Summary\n",
    "\n",
    "* The Transformer model is based on the encoder-decoder architecture. \n",
    "* Multi-head attention layer contains $h$ parallel attention layers.\n",
    "* Position-wise feed-forward network consists of two dense layers that apply to the last dimension.\n",
    "* Layer normalization differs from batch normalization by normalizing along the last dimension (the feature dimension) instead of the first (batch size) dimension.\n",
    "* Positional encoding is the only place that adds positional information to the Transformer model.\n",
    "\n",
    "\n",
    "## Exercises\n",
    "\n",
    "1. Try a larger size of epochs and compare the loss between seq2seq model and Transformer model.\n",
    "1. Can you think of any other benefit of positional encoding?\n",
    "1. Compare layer normalization and batch normalization, when shall we apply which?\n",
    "\n",
    "\n",
    "## [Discussions](https://discuss.mxnet.io/t/4344)\n",
    "\n",
    "![](../img/qr_transformer.svg)"
   ]
  }
 ],
 "metadata": {
  "kernelspec": {
   "display_name": "conda_mxnet_p36",
   "name": "conda_mxnet_p36"
  },
  "language_info": {
   "name": "python"
  }
 },
 "nbformat": 4,
 "nbformat_minor": 2
}