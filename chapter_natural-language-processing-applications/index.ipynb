{
 "cells": [
  {
   "cell_type": "markdown",
   "metadata": {},
   "source": [
    "# Natural Language Processing: Applications\n",
    "\n",
    ":label:`chap_nlp_app`\n",
    "\n",
    "\n",
    "\n",
    "![Pretrained text representation can be fed to various deep learning architectures for different downstream NLP tasks. This chapter focuses on how to design models for different downstream NLP tasks.](../img/nlp-map-app.svg)\n",
    "\n",
    ":label:`fig_nlp-map-app`\n",
    "\n",
    "\n",
    "TODO@astonzhang"
   ]
  },
  {
   "cell_type": "markdown",
   "metadata": {},
   "source": [
    " - [sentiment-analysis](sentiment-analysis.ipynb)\n",
    " - [sentiment-analysis-rnn](sentiment-analysis-rnn.ipynb)\n",
    " - [sentiment-analysis-cnn](sentiment-analysis-cnn.ipynb)\n",
    " - [natural-language-inference-and-dataset](natural-language-inference-and-dataset.ipynb)\n",
    " - [natural-language-inference-attention](natural-language-inference-attention.ipynb)\n"
   ]
  }
 ],
 "metadata": {
  "kernelspec": {
   "display_name": "conda_mxnet_p36",
   "name": "conda_mxnet_p36"
  },
  "language_info": {
   "name": "python"
  }
 },
 "nbformat": 4,
 "nbformat_minor": 2
}