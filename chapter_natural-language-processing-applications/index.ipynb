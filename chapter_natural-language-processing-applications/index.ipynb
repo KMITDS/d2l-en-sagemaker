{
 "cells": [
  {
   "cell_type": "markdown",
   "metadata": {},
   "source": [
    "# Natural Language Processing: Applications\n",
    "\n",
    ":label:`chap_nlp_app`\n",
    "\n",
    "\n",
    "\n",
    "![Focus of this chapter are models for applications. ](../img/nlp-map-app.svg)\n",
    "\n",
    ":label:`fig_nlp-map-app`\n",
    "\n",
    "\n",
    "TODO@astonzhang"
   ]
  },
  {
   "cell_type": "markdown",
   "metadata": {},
   "source": [
    " - [similarity-analogy](similarity-analogy.ipynb)\n",
    " - [sentiment-analysis](sentiment-analysis.ipynb)\n",
    " - [sentiment-analysis-rnn](sentiment-analysis-rnn.ipynb)\n",
    " - [sentiment-analysis-cnn](sentiment-analysis-cnn.ipynb)\n",
    " - [natural-language-inference-and-dataset](natural-language-inference-and-dataset.ipynb)\n",
    " - [natural-language-inference-attention](natural-language-inference-attention.ipynb)\n"
   ]
  }
 ],
 "metadata": {
  "kernelspec": {
   "display_name": "conda_mxnet_p36",
   "name": "conda_mxnet_p36"
  },
  "language_info": {
   "name": "python"
  }
 },
 "nbformat": 4,
 "nbformat_minor": 2
}