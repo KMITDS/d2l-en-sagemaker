{
 "cells": [
  {
   "cell_type": "markdown",
   "metadata": {},
   "source": [
    "# Natural Language Processing: Applications\n",
    "\n",
    ":label:`chap_nlp_app`\n",
    "\n",
    "\n",
    "We have seen how to represent text tokens and train their representation in :numref:`chap_nlp_pretrain`.\n",
    "Such pretrained text representation can be fed to various models for different downstream natural language processing tasks.\n",
    "\n",
    "This book does not intend to cover natural language processing applications in a comprehensive manner.\n",
    "Our focus is on *how to apply (deep) representation learning of languages to addressing natural language processing problems*.\n",
    "Nonetheless, we have already discussed several natural language processing applications without pretraining in earlier chapters,\n",
    "just for explaining deep learning architectures.\n",
    "For instance, in :numref:`chap_rnn`,\n",
    "we have relied on RNNs to design language models to generate novella-like text.\n",
    "In :numref:`chap_modern_rnn` and :numref:`chap_attention`,\n",
    "we have also designed models based on RNNs and attention mechanisms\n",
    "for machine translation.\n",
    "Given pretrained text representation,\n",
    "in this chapter, we will consider two more downstream natural language processing tasks:\n",
    "sentiment analysis and natural language inference.\n",
    "These are popular and representative natural language processing tasks:\n",
    "the former analyzes single text and the latter analyzes relationships of text pairs.\n",
    "\n",
    "![Pretrained text representation can be fed to various deep learning architectures for different downstream natural language processing tasks. This chapter focuses on how to design models for different downstream natural language processing tasks.](../img/nlp-map-app.svg)\n",
    "\n",
    ":label:`fig_nlp-map-app`\n",
    "\n",
    "\n",
    "As depicted in :numref:`fig_nlp-map-app`,\n",
    "this chapter focuses on describing the basic ideas of designing natural language processing models using different types of deep learning architectures, such as MLPs, CNNs, RNNs, and attention.\n",
    "Though it is possible to combine any pretrained text representation with any architecture for either downstream natural language processing task in :numref:`fig_nlp-map-app`,\n",
    "we consider a few representative combinations.\n",
    "Specifically, we will explore popular architectures based on RNNs and CNNs for sentiment analysis.\n",
    "For natural language inference, we choose attention and MLPs to demonstrate how to analyze text pairs.\n",
    "In the experiments, we will see how to apply GloVe embeddings and fine-tune BERT in natural language processing downstream tasks."
   ]
  },
  {
   "cell_type": "markdown",
   "metadata": {},
   "source": [
    " - [sentiment-analysis-and-dataset](sentiment-analysis-and-dataset.ipynb)\n",
    " - [sentiment-analysis-rnn](sentiment-analysis-rnn.ipynb)\n",
    " - [sentiment-analysis-cnn](sentiment-analysis-cnn.ipynb)\n",
    " - [natural-language-inference-and-dataset](natural-language-inference-and-dataset.ipynb)\n",
    " - [natural-language-inference-attention](natural-language-inference-attention.ipynb)\n",
    " - [finetuning-bert](finetuning-bert.ipynb)\n",
    " - [natural-language-inference-bert](natural-language-inference-bert.ipynb)\n"
   ]
  }
 ],
 "metadata": {
  "kernelspec": {
   "display_name": "conda_mxnet_p36",
   "name": "conda_mxnet_p36"
  },
  "language_info": {
   "name": "python"
  }
 },
 "nbformat": 4,
 "nbformat_minor": 2
}