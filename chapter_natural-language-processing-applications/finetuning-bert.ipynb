{
 "cells": [
  {
   "cell_type": "markdown",
   "metadata": {},
   "source": [
    "# Fine-Tuning BERT for Sequence-Level and Token-Level Tasks\n",
    "\n",
    ":label:`sec_finetuning-bert`\n",
    "\n",
    "\n",
    "*This section is under construction.*\n",
    "\n",
    "\n",
    "![Fine-tuning BERT for single text classification tasks, such as sentiment analysis.](../img/bert-one-seq.svg)\n",
    "\n",
    ":label:`fig_bert-one-seq`\n",
    "\n",
    "\n",
    "...\n",
    "![Fine-tuning BERT for text pair classification tasks, such as natural language inference.](../img/bert-two-seqs.svg)\n",
    "\n",
    ":label:`fig_bert-two-seqs`\n",
    "\n",
    "\n",
    "...\n",
    "![Fine-tuning BERT for text tagging tasks, such as part-of-speech tagging](../img/bert-tagging.svg)\n",
    "\n",
    ":label:`fig_bert-tagging`\n",
    "\n",
    "\n",
    "...\n",
    "![Fine-tuning BERT for question answering](../img/bert-qa.svg)\n",
    "\n",
    ":label:`fig_bert-qa`\n",
    "\n",
    "...\n",
    "\n",
    "## Summary\n",
    "\n",
    "* Fine-tune BERT.\n",
    "\n",
    "## Exercises\n",
    "\n",
    "1. Suppose that we want to design a search engine algorithm for news articles. When the system receives an query (e.g., \"oil industry in coronavirus crisis\"), it should return a ranked list of news articles that are most relevant to the query. What data do you need to collect? How can we use BERT in the algorithm design?\n",
    "1. How can we leverage BERT in text generation tasks such as machine translation?\n",
    "\n",
    "\n",
    "\n",
    "## [Discussions](https://discuss.mxnet.io/t/5882)\n",
    "\n",
    "![](../img/qr_finetuning-bert.svg)"
   ]
  }
 ],
 "metadata": {
  "kernelspec": {
   "display_name": "conda_mxnet_p36",
   "name": "conda_mxnet_p36"
  },
  "language_info": {
   "name": "python"
  }
 },
 "nbformat": 4,
 "nbformat_minor": 2
}