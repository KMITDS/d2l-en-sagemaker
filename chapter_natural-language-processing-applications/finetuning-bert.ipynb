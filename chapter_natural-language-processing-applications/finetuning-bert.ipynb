{
 "cells": [
  {
   "cell_type": "markdown",
   "metadata": {},
   "source": [
    "# Fine-Tuning BERT for Sequence-Level and Token-Level Tasks\n",
    "\n",
    "...\n",
    "\n",
    "\n",
    "![Fine-tuning BERT for single text classification tasks, such as sentiment analysis.](../img/bert-one-seq.svg)\n",
    "\n",
    ":label:`fig_bert-one-seq`\n",
    "\n",
    "\n",
    "...\n",
    "![Fine-tuning BERT for text pair classification tasks, such as natural language inference.](../img/bert-two-seqs.svg)\n",
    "\n",
    ":label:`fig_bert-two-seqs`\n",
    "\n",
    "\n",
    "...\n",
    "![Fine-tuning BERT for question answering](../img/bert-qa.svg)\n",
    "\n",
    ":label:`fig_bert-qa`\n",
    "\n",
    "\n",
    "...\n",
    "![Fine-tuning BERT for text tagging tasks, such as part-of-speech tagging](../img/bert-tagging.svg)\n",
    "\n",
    ":label:`fig_bert-tagging`\n",
    "\n",
    "..."
   ]
  }
 ],
 "metadata": {
  "kernelspec": {
   "display_name": "conda_mxnet_p36",
   "name": "conda_mxnet_p36"
  },
  "language_info": {
   "name": "python"
  }
 },
 "nbformat": 4,
 "nbformat_minor": 2
}