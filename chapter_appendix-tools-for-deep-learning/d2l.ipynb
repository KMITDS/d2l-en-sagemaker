{
 "cells": [
  {
   "cell_type": "markdown",
   "metadata": {
    "origin_pos": 0
   },
   "source": [
    "# `d2l` API Document\n",
    ":label:`sec_d2l`\n"
   ]
  },
  {
   "cell_type": "markdown",
   "metadata": {},
   "source": [
    "```eval_rst\n",
    "\n",
    ".. raw:: html\n",
    "\n",
    "    <div class=\"mdl-tabs mdl-js-tabs mdl-js-ripple-effect\"><div class=\"mdl-tabs__tab-bar text\"><a href=\"#mxnet-1-0\" class=\"mdl-tabs__tab is-active\">mxnet</a><a href=\"#pytorch-1-1\" class=\"mdl-tabs__tab \">pytorch</a></div>\n",
    "```"
   ]
  },
  {
   "cell_type": "markdown",
   "metadata": {},
   "source": [
    "```eval_rst\n",
    ".. raw:: html\n",
    "\n",
    "    <div class=\"mdl-tabs__panel is-active\" id=\"mxnet-1-0\">\n",
    "```"
   ]
  },
  {
   "cell_type": "markdown",
   "metadata": {
    "origin_pos": 1,
    "tab": "mxnet"
   },
   "source": [
    "\n",
    "The implementations of the following members of the `d2l` package and sections where they are defined and explained can be found in the [source file](https://github.com/d2l-ai/d2l-en/blob/master/d2l/d2l.py).\n",
    "\n",
    "```eval_rst\n",
    "\n",
    ".. automodule:: d2l\n",
    "   :members:\n",
    "   :imported-members:\n",
    "\n",
    "```\n",
    "\n"
   ]
  },
  {
   "cell_type": "markdown",
   "metadata": {},
   "source": [
    "```eval_rst\n",
    ".. raw:: html\n",
    "\n",
    "    </div>\n",
    "```"
   ]
  },
  {
   "cell_type": "markdown",
   "metadata": {},
   "source": [
    "```eval_rst\n",
    ".. raw:: html\n",
    "\n",
    "    <div class=\"mdl-tabs__panel \" id=\"pytorch-1-1\">\n",
    "```"
   ]
  },
  {
   "cell_type": "markdown",
   "metadata": {
    "origin_pos": 2,
    "tab": "pytorch"
   },
   "source": [
    "\n",
    "```eval_rst\n",
    "\n",
    ".. automodule:: d2l_pytorch\n",
    "   :members:\n",
    "   :imported-members:\n",
    "\n",
    "```\n",
    "\n"
   ]
  },
  {
   "cell_type": "markdown",
   "metadata": {},
   "source": [
    "```eval_rst\n",
    ".. raw:: html\n",
    "\n",
    "    </div>\n",
    "```"
   ]
  },
  {
   "cell_type": "markdown",
   "metadata": {},
   "source": [
    "```eval_rst\n",
    ".. raw:: html\n",
    "\n",
    "    </div>\n",
    "```"
   ]
  }
 ],
 "metadata": {
  "kernelspec": {
   "display_name": "conda_mxnet_p36",
   "name": "conda_mxnet_p36"
  },
  "language_info": {
   "name": "python"
  }
 },
 "nbformat": 4,
 "nbformat_minor": 4
}