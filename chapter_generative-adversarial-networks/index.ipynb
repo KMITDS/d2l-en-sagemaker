{
 "cells": [
  {
   "cell_type": "markdown",
   "metadata": {},
   "source": [
    "# Generative Adversarial Networks\n",
    "\n",
    ":label:`chap_gans`"
   ]
  },
  {
   "cell_type": "markdown",
   "metadata": {},
   "source": [
    " - [gan](gan.ipynb)\n",
    " - [dcgan](dcgan.ipynb)\n"
   ]
  }
 ],
 "metadata": {
  "kernelspec": {
   "display_name": "conda_mxnet_p36",
   "name": "conda_mxnet_p36"
  },
  "language_info": {
   "name": "python"
  }
 },
 "nbformat": 4,
 "nbformat_minor": 2
}