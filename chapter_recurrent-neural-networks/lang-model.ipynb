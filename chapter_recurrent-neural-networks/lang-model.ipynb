{
 "cells": [
  {
   "cell_type": "markdown",
   "metadata": {},
   "source": [
    "The following additional libraries are needed to run this\n",
    "notebook on Sagemaker."
   ]
  },
  {
   "cell_type": "code",
   "execution_count": null,
   "metadata": {},
   "outputs": [],
   "source": [
    "!pip install -U --pre mxnet-cu101mkl\n",
    "!pip install d2l\n"
   ]
  },
  {
   "cell_type": "markdown",
   "metadata": {},
   "source": [
    "# Language Models and the Dataset\n",
    "\n",
    "\n",
    ":label:`sec_language_model`\n",
    "\n",
    "\n",
    "\n",
    "In :numref:`sec_text_preprocessing`, we see how to map text data into tokens, and these tokens can be viewed as a time series of discrete observations. Assuming the tokens in a text of length $T$ are in turn $x_1, x_2, \\ldots, x_T$, then, in the discrete time series, $x_t$($1 \\leq t \\leq T$) can be considered as the output or label of timestep $t$. Given such a sequence, the goal of a language model is to estimate the probability\n",
    "\n",
    "$$p(x_1, x_2, \\ldots, x_T).$$\n",
    "\n",
    "Language models are incredibly useful. For instance, an ideal language model would be able to generate natural text just on its own, simply by drawing one word at a time $w_t \\sim p(w_t \\mid w_{t-1}, \\ldots, w_1)$. Quite unlike the monkey using a typewriter, all text emerging from such a model would pass as natural language, e.g., English text. Furthermore, it would be sufficient for generating a meaningful dialog, simply by conditioning the text on previous dialog fragments. Clearly we are still very far from designing such a system, since it would need to *understand* the text rather than just generate grammatically sensible content.\n",
    "\n",
    "Nonetheless language models are of great service even in their limited form. For instance, the phrases \"to recognize speech\" and \"to wreck a nice beach\" sound very similar. This can cause ambiguity in speech recognition, ambiguity that is easily resolved through a language model which rejects the second translation as outlandish. Likewise, in a document summarization algorithm it is worth while knowing that \"dog bites man\" is much more frequent than \"man bites dog\", or that \"let's eat grandma\" is a rather disturbing statement, whereas \"let's eat, grandma\" is much more benign.\n",
    "\n",
    "## Estimating a Language Model\n",
    "\n",
    "The obvious question is how we should model a document, or even a sequence of words. We can take recourse to the analysis we applied to sequence models in the previous section. Let's start by applying basic probability rules:\n",
    "\n",
    "$$p(w_1, w_2, \\ldots, w_T) = p(w_1) \\prod_{t=2}^T p(w_t  \\mid  w_1, \\ldots, w_{t-1}).$$\n",
    "\n",
    "For example, the probability of a text sequence containing four tokens consisting of words and punctuation would be given as:\n",
    "\n",
    "$$p(\\mathrm{Statistics}, \\mathrm{is}, \\mathrm{fun}, \\mathrm{.}) =  p(\\mathrm{Statistics}) p(\\mathrm{is}  \\mid  \\mathrm{Statistics}) p(\\mathrm{fun}  \\mid  \\mathrm{Statistics}, \\mathrm{is}) p(\\mathrm{.}  \\mid  \\mathrm{Statistics}, \\mathrm{is}, \\mathrm{fun}).$$\n",
    "\n",
    "In order to compute the language model, we need to calculate the\n",
    "probability of words and the conditional probability of a word given\n",
    "the previous few words, i.e., language model parameters. Here, we\n",
    "assume that the training dataset is a large text corpus, such as all\n",
    "Wikipedia entries, [Project Gutenberg](https://en.wikipedia.org/wiki/Project_Gutenberg), or all text posted online on the\n",
    "web. The probability of words can be calculated from the relative word\n",
    "frequency of a given word in the training dataset.\n",
    "\n",
    "For example, $p(\\mathrm{Statistics})$ can be calculated as the\n",
    "probability of any sentence starting with the word \"statistics\". A\n",
    "slightly less accurate approach would be to count all occurrences of\n",
    "the word \"statistics\" and divide it by the total number of words in\n",
    "the corpus. This works fairly well, particularly for frequent\n",
    "words. Moving on, we could attempt to estimate\n",
    "\n",
    "$$\\hat{p}(\\mathrm{is} \\mid \\mathrm{Statistics}) = \\frac{n(\\mathrm{Statistics~is})}{n(\\mathrm{Statistics})}.$$\n",
    "\n",
    "Here $n(w)$ and $n(w, w')$ are the number of occurrences of singletons\n",
    "and pairs of words respectively. Unfortunately, estimating the\n",
    "probability of a word pair is somewhat more difficult, since the\n",
    "occurrences of \"Statistics is\" are a lot less frequent. In\n",
    "particular, for some unusual word combinations it may be tricky to\n",
    "find enough occurrences to get accurate estimates. Things take a turn for the worse for 3-word combinations and beyond. There will be many plausible 3-word combinations that we likely will not see in our dataset. Unless we provide some solution to give such word combinations nonzero weight, we will not be able to use these as a language model. If the dataset is small or if the words are very rare, we might not find even a single one of them.\n",
    "\n",
    "A common strategy is to perform some form of Laplace smoothing. We already\n",
    "encountered this in our discussion of\n",
    "naive Bayes in :numref:`sec_naive_bayes` where the solution was to\n",
    "add a small constant to all counts. This helps with singletons, e.g., via\n",
    "\n",
    "$$\\begin{aligned}\n",
    "\t\\hat{p}(w) & = \\frac{n(w) + \\epsilon_1/m}{n + \\epsilon_1}, \\\\\n",
    "\t\\hat{p}(w' \\mid w) & = \\frac{n(w, w') + \\epsilon_2 \\hat{p}(w')}{n(w) + \\epsilon_2}, \\\\\n",
    "\t\\hat{p}(w'' \\mid w',w) & = \\frac{n(w, w',w'') + \\epsilon_3 \\hat{p}(w',w'')}{n(w, w') + \\epsilon_3}.\n",
    "\\end{aligned}$$\n",
    "\n",
    "Here the coefficients $\\epsilon_i > 0$ determine how much we use the\n",
    "estimate for a shorter sequence as a fill-in for longer\n",
    "ones. Moreover, $m$ is the total number of words we encounter. The\n",
    "above is a rather primitive variant of what is Kneser-Ney smoothing\n",
    "and Bayesian nonparametrics can accomplish. See e.g., :cite:`Wood.Gasthaus.Archambeau.ea.2011` for more detail of how to accomplish\n",
    "this. Unfortunately, models like this get unwieldy rather quickly\n",
    "for the following reasons. First, we need to store all counts.\n",
    "Second, this entirely ignores the meaning of the words. For\n",
    "instance, *\"cat\"* and *\"feline\"* should occur in related contexts.\n",
    "It is quite difficult to adjust such models to additional contexts,\n",
    "whereas, deep learning based language models are well suited to\n",
    "take this into account.  Last, long word\n",
    "sequences are almost certain to be novel, hence a model that simply\n",
    "counts the frequency of previously seen word sequences is bound to\n",
    "perform poorly there.\n",
    "\n",
    "\n",
    "## Markov Models and $n$-grams\n",
    "\n",
    "Before we discuss solutions involving deep learning, we need some more terminology and concepts. Recall our discussion of Markov Models in the previous section. Let's apply this to language modeling. A distribution over sequences satisfies the Markov property of first order if $p(w_{t+1} \\mid w_t, \\ldots, w_1) = p(w_{t+1} \\mid w_t)$. Higher orders correspond to longer dependencies. This leads to a number of approximations that we could apply to model a sequence:\n",
    "\n",
    "$$\n",
    "\\begin{aligned}\n",
    "p(w_1, w_2, w_3, w_4) &=  p(w_1) p(w_2) p(w_3) p(w_4),\\\\\n",
    "p(w_1, w_2, w_3, w_4) &=  p(w_1) p(w_2  \\mid  w_1) p(w_3  \\mid  w_2) p(w_4  \\mid  w_3),\\\\\n",
    "p(w_1, w_2, w_3, w_4) &=  p(w_1) p(w_2  \\mid  w_1) p(w_3  \\mid  w_1, w_2) p(w_4  \\mid  w_2, w_3).\n",
    "\\end{aligned}\n",
    "$$\n",
    "\n",
    "The probability formulae that involve one, two, and three variables are typically referred to as unigram, bigram, and trigram models respectively. In the following, we will learn how to design better models.\n",
    "\n",
    "## Natural Language Statistics\n",
    "\n",
    "Let's see how this works on real data. We construct a vocabulary based on the time machine data similar to :numref:`sec_text_preprocessing` and print the top $10$ most frequent words."
   ]
  },
  {
   "cell_type": "code",
   "execution_count": 1,
   "metadata": {
    "attributes": {
     "classes": [],
     "id": "",
     "n": "1"
    }
   },
   "outputs": [],
   "source": [
    "import d2l\n",
    "from mxnet import np, npx\n",
    "import random\n",
    "npx.set_np()\n",
    "\n",
    "tokens = d2l.tokenize(d2l.read_time_machine())\n",
    "vocab = d2l.Vocab(tokens)\n",
    "print(vocab.token_freqs[:10])"
   ]
  },
  {
   "cell_type": "markdown",
   "metadata": {},
   "source": [
    "As we can see, the most popular words are actually quite boring to look at. They are often referred to as [stop words](https://en.wikipedia.org/wiki/Stop_words) and thus filtered out. That said, they still carry meaning and we will use them nonetheless. However, one thing that is quite clear is that the word frequency decays rather rapidly. The $10^{\\mathrm{th}}$ most frequent word is less than $1/5$ as common as the most popular one. To get a better idea we plot the graph of the word frequency."
   ]
  },
  {
   "cell_type": "code",
   "execution_count": 2,
   "metadata": {
    "attributes": {
     "classes": [],
     "id": "",
     "n": "2"
    }
   },
   "outputs": [],
   "source": [
    "freqs = [freq for token, freq in vocab.token_freqs]\n",
    "d2l.plot(freqs, xlabel='token: x', ylabel='frequency: n(x)',\n",
    "         xscale='log', yscale='log')"
   ]
  },
  {
   "cell_type": "markdown",
   "metadata": {},
   "source": [
    "We are on to something quite fundamental here: the word frequency decays rapidly in a well defined way. After dealing with the first four words as exceptions ('the', 'i', 'and', 'of'), all remaining words follow a straight line on a log-log plot. This means that words satisfy [Zipf's law](https://en.wikipedia.org/wiki/Zipf%27s_law) which states that the item frequency is given by\n",
    "\n",
    "$$n(x) \\propto (x + c)^{-\\alpha} \\text{ and hence }\n",
    "\\log n(x) = -\\alpha \\log (x+c) + \\mathrm{const.}$$\n",
    "\n",
    "This should already give us pause if we want to model words by count statistics and smoothing. After all, we will significantly overestimate the frequency of the tail, also known as the infrequent words. But what about the other word combinations (such as bigrams, trigrams, and beyond)? Let's see whether the bigram frequency behaves in the same manner as the unigram frequency."
   ]
  },
  {
   "cell_type": "code",
   "execution_count": 3,
   "metadata": {
    "attributes": {
     "classes": [],
     "id": "",
     "n": "3"
    }
   },
   "outputs": [],
   "source": [
    "bigram_tokens = [[pair for pair in zip(\n",
    "    line[:-1], line[1:])] for line in tokens]\n",
    "bigram_vocab = d2l.Vocab(bigram_tokens)\n",
    "print(bigram_vocab.token_freqs[:10])"
   ]
  },
  {
   "cell_type": "markdown",
   "metadata": {},
   "source": [
    "Two things are notable. Out of the 10 most frequent word pairs, 9 are composed of stop words and only one is relevant to the actual book---\"the time\". Furthermore, let's see whether the trigram frequency behaves in the same manner."
   ]
  },
  {
   "cell_type": "code",
   "execution_count": 4,
   "metadata": {
    "attributes": {
     "classes": [],
     "id": "",
     "n": "4"
    }
   },
   "outputs": [],
   "source": [
    "trigram_tokens = [[triple for triple in zip(line[:-2], line[1:-1], line[2:])]\n",
    "                  for line in tokens]\n",
    "trigram_vocab = d2l.Vocab(trigram_tokens)\n",
    "print(trigram_vocab.token_freqs[:10])"
   ]
  },
  {
   "cell_type": "markdown",
   "metadata": {},
   "source": [
    "Last, let's visualize the token frequency among these three gram models: unigrams, bigrams, and trigrams."
   ]
  },
  {
   "cell_type": "code",
   "execution_count": 5,
   "metadata": {
    "attributes": {
     "classes": [],
     "id": "",
     "n": "5"
    }
   },
   "outputs": [],
   "source": [
    "bigram_freqs = [freq for token, freq in bigram_vocab.token_freqs]\n",
    "trigram_freqs = [freq for token, freq in trigram_vocab.token_freqs]\n",
    "d2l.plot([freqs, bigram_freqs, trigram_freqs], xlabel='token',\n",
    "         ylabel='frequency', xscale='log', yscale='log',\n",
    "         legend=['unigram', 'bigram', 'trigram'])"
   ]
  },
  {
   "cell_type": "markdown",
   "metadata": {},
   "source": [
    "The graph is quite exciting for a number of reasons. First, beyond unigram words, also sequences of words appear to be following Zipf's law, albeit with a lower exponent, depending on  sequence length. Second, the number of distinct n-grams is not that large. This gives us hope that there is quite a lot of structure in language. Third, many n-grams occur very rarely, which makes Laplace smoothing rather unsuitable for language modeling. Instead, we will use deep learning based models.\n",
    "\n",
    "## Training Data Preparation\n",
    "\n",
    "Before introducing the model, let's assume we will use a neural network to train a language model. Now the question is how to read minibatches of examples and labels at\n",
    "random. Since sequence data is by its very nature sequential, we need to address\n",
    "the issue of processing it. We did so in a rather ad-hoc manner when we\n",
    "introduced in :numref:`sec_sequence`. Let's formalize this a bit.\n",
    "\n",
    "In :numref:`fig_timemachine_5gram`, we visualized several possible ways to obtain 5-grams in a sentence, here a token is a character. Note that we have quite some freedom since we could pick an arbitrary offset.\n",
    "\n",
    "![Different offsets lead to different subsequences when splitting up text.](../img/timemachine-5gram.svg)\n",
    "\n",
    ":label:`fig_timemachine_5gram`\n",
    "\n",
    "\n",
    "In fact, any one of these offsets is fine. Hence, which one should we pick? In fact, all of them are equally good. But if we pick all offsets we end up with rather redundant data due to overlap, particularly if the sequences are long. Picking just a random set of initial positions is no good either since it does not guarantee uniform coverage of the array. For instance, if we pick $n​$ elements at random out of a set of $n​$ with random replacement, the probability for a particular element not being picked is $(1-1/n)^n \\to e^{-1}​$. This means that we cannot expect uniform coverage this way. Even randomly permuting a set of all offsets does not offer good guarantees. Instead we can use a simple trick to get both *coverage* and *randomness*: use a random offset, after which one uses the terms sequentially. We describe how to accomplish this for both random sampling and sequential partitioning strategies below.\n",
    "\n",
    "### Random Sampling\n",
    "\n",
    "The following code randomly generates a minibatch from the data each time. Here, the batch size `batch_size` indicates to the number of examples in each minibatch and `num_steps` is the length of the sequence (or timesteps if we have a time series) included in each example.\n",
    "In random sampling, each example is a sequence arbitrarily captured on the original sequence. The positions of two adjacent random minibatches on the original sequence are not necessarily adjacent. The target is to predict the next character based on what we have seen so far, hence the labels are the original sequence, shifted by one character."
   ]
  },
  {
   "cell_type": "code",
   "execution_count": 1,
   "metadata": {
    "attributes": {
     "classes": [],
     "id": "",
     "n": "1"
    }
   },
   "outputs": [],
   "source": [
    "# Saved in the d2l package for later use\n",
    "def seq_data_iter_random(corpus, batch_size, num_steps):\n",
    "    # Offset the iterator over the data for uniform starts\n",
    "    corpus = corpus[random.randint(0, num_steps):]\n",
    "    # Subtract 1 extra since we need to account for label\n",
    "    num_examples = ((len(corpus) - 1) // num_steps)\n",
    "    example_indices = list(range(0, num_examples * num_steps, num_steps))\n",
    "    random.shuffle(example_indices)\n",
    "\n",
    "    def data(pos):\n",
    "        # This returns a sequence of the length num_steps starting from pos\n",
    "        return corpus[pos: pos + num_steps]\n",
    "\n",
    "    # Discard half empty batches\n",
    "    num_batches = num_examples // batch_size\n",
    "    for i in range(0, batch_size * num_batches, batch_size):\n",
    "        # Batch_size indicates the random examples read each time\n",
    "        batch_indices = example_indices[i:(i+batch_size)]\n",
    "        X = [data(j) for j in batch_indices]\n",
    "        Y = [data(j + 1) for j in batch_indices]\n",
    "        yield np.array(X), np.array(Y)"
   ]
  },
  {
   "cell_type": "markdown",
   "metadata": {},
   "source": [
    "Let's generate an artificial sequence from 0 to 30. We assume that\n",
    "the batch size and numbers of timesteps are 2 and 5\n",
    "respectively. This means that depending on the offset we can generate between 4 and 5 $(x, y)$ pairs. With a minibatch size of 2, we only get 2 minibatches."
   ]
  },
  {
   "cell_type": "code",
   "execution_count": 6,
   "metadata": {
    "attributes": {
     "classes": [],
     "id": "",
     "n": "6"
    }
   },
   "outputs": [],
   "source": [
    "my_seq = list(range(30))\n",
    "for X, Y in seq_data_iter_random(my_seq, batch_size=2, num_steps=6):\n",
    "    print('X: ', X, '\\nY:', Y)"
   ]
  },
  {
   "cell_type": "markdown",
   "metadata": {},
   "source": [
    "### Sequential Partitioning\n",
    "\n",
    "In addition to random sampling of the original sequence, we can also make the positions of two adjacent random minibatches adjacent in the original sequence."
   ]
  },
  {
   "cell_type": "code",
   "execution_count": 7,
   "metadata": {
    "attributes": {
     "classes": [],
     "id": "",
     "n": "7"
    }
   },
   "outputs": [],
   "source": [
    "# Saved in the d2l package for later use\n",
    "def seq_data_iter_consecutive(corpus, batch_size, num_steps):\n",
    "    # Offset for the iterator over the data for uniform starts\n",
    "    offset = random.randint(0, num_steps)\n",
    "    # Slice out data - ignore num_steps and just wrap around\n",
    "    num_indices = ((len(corpus) - offset - 1) // batch_size) * batch_size\n",
    "    Xs = np.array(corpus[offset:offset+num_indices])\n",
    "    Ys = np.array(corpus[offset+1:offset+1+num_indices])\n",
    "    Xs, Ys = Xs.reshape(batch_size, -1), Ys.reshape(batch_size, -1)\n",
    "    num_batches = Xs.shape[1] // num_steps\n",
    "    for i in range(0, num_batches * num_steps, num_steps):\n",
    "        X = Xs[:, i:(i+num_steps)]\n",
    "        Y = Ys[:, i:(i+num_steps)]\n",
    "        yield X, Y"
   ]
  },
  {
   "cell_type": "markdown",
   "metadata": {},
   "source": [
    "Using the same settings, print input `X` and label `Y` for each minibatch of examples read by random sampling. The positions of two adjacent minibatches on the original sequence are adjacent."
   ]
  },
  {
   "cell_type": "code",
   "execution_count": 8,
   "metadata": {
    "attributes": {
     "classes": [],
     "id": "",
     "n": "8"
    }
   },
   "outputs": [],
   "source": [
    "for X, Y in seq_data_iter_consecutive(my_seq, batch_size=2, num_steps=6):\n",
    "    print('X: ', X, '\\nY:', Y)"
   ]
  },
  {
   "cell_type": "markdown",
   "metadata": {},
   "source": [
    "Now we wrap the above two sampling functions to a class so that we can use it as a Gluon data iterator later."
   ]
  },
  {
   "cell_type": "code",
   "execution_count": null,
   "metadata": {},
   "outputs": [],
   "source": [
    "# Saved in the d2l package for later use\n",
    "class SeqDataLoader(object):\n",
    "    \"\"\"A iterator to load sequence data\"\"\"\n",
    "    def __init__(self, batch_size, num_steps, use_random_iter, max_tokens):\n",
    "        if use_random_iter:\n",
    "            self.data_iter_fn = d2l.seq_data_iter_random\n",
    "        else:\n",
    "            self.data_iter_fn = d2l.seq_data_iter_consecutive\n",
    "        self.corpus, self.vocab = d2l.load_corpus_time_machine(max_tokens)\n",
    "        self.batch_size, self.num_steps = batch_size, num_steps\n",
    "\n",
    "    def __iter__(self):\n",
    "        return self.data_iter_fn(self.corpus, self.batch_size, self.num_steps)"
   ]
  },
  {
   "cell_type": "markdown",
   "metadata": {},
   "source": [
    "Last, we define a function `load_data_time_machine` that returns both the data iterator and the vocabulary, so we can use it similarly as other functions with `load_data` prefix."
   ]
  },
  {
   "cell_type": "code",
   "execution_count": null,
   "metadata": {},
   "outputs": [],
   "source": [
    "# Saved in the d2l package for later use\n",
    "def load_data_time_machine(batch_size, num_steps, use_random_iter=False,\n",
    "                           max_tokens=10000):\n",
    "    data_iter = SeqDataLoader(\n",
    "        batch_size, num_steps, use_random_iter, max_tokens)\n",
    "    return data_iter, data_iter.vocab"
   ]
  },
  {
   "cell_type": "markdown",
   "metadata": {},
   "source": [
    "## Summary\n",
    "\n",
    "* Language models are an important technology for natural language processing.\n",
    "* $n$-grams provide a convenient model for dealing with long sequences by truncating the dependence.\n",
    "* Long sequences suffer from the problem that they occur very rarely or never.\n",
    "* Zipf's law governs the word distribution for not only unigrams but also the other $n$-grams.\n",
    "* There is a lot of structure but not enough frequency to deal with infrequent word combinations efficiently via Laplace smoothing.\n",
    "* The main choices for sequence partitioning are picking between consecutive and random sequences.\n",
    "* Given the overall document length, it is usually acceptable to be slightly wasteful with the documents and discard half-empty minibatches.\n",
    "\n",
    "## Exercises\n",
    "\n",
    "1. Suppose there are $100,000$ words in the training dataset. How much word frequency and multi-word adjacent frequency does a four-gram need to store?\n",
    "1. Review the smoothed probability estimates. Why are they not accurate? Hint: we are dealing with a contiguous sequence rather than singletons.\n",
    "1. How would you model a dialogue?\n",
    "1. Estimate the exponent of Zipf's law for unigrams, bigrams, and trigrams.\n",
    "1. What other minibatch data sampling methods can you think of?\n",
    "1. Why is it a good idea to have a random offset?\n",
    "    * Does it really lead to a perfectly uniform distribution over the sequences on the document?\n",
    "    * What would you have to do to make things even more uniform?\n",
    "1. If we want a sequence example to be a complete sentence, what kinds of problems does this introduce in minibatch sampling? Why would we want to do this anyway?\n",
    "\n",
    "\n",
    "## [Discussions](https://discuss.mxnet.io/t/2361)\n",
    "\n",
    "![](../img/qr_lang-model.svg)"
   ]
  }
 ],
 "metadata": {
  "kernelspec": {
   "display_name": "conda_mxnet_p36",
   "name": "conda_mxnet_p36"
  },
  "language_info": {
   "name": "python"
  }
 },
 "nbformat": 4,
 "nbformat_minor": 2
}