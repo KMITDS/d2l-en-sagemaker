{
 "cells": [
  {
   "cell_type": "markdown",
   "metadata": {},
   "source": [
    "Installing (updating) the following libraries for your Sagemaker\n",
    "instance."
   ]
  },
  {
   "cell_type": "code",
   "execution_count": null,
   "metadata": {},
   "outputs": [],
   "source": [
    "!pip install -U mxnet-cu101mkl==1.6.0  # updating mxnet to at least v1.6\n"
   ]
  },
  {
   "cell_type": "markdown",
   "metadata": {},
   "source": [
    "# 自動微分\n",
    "\n",
    ":label:`sec_autograd`\n",
    "\n",
    "\n",
    ":numref:`sec_calculus` で説明したように、ほぼすべての深層学習アルゴリズムに置いて非常に重要なステップです。これらの微分の計算は単純で基本的な計算しか必要ありませんが、複雑なモデルにおいては、手作業で更新していくことは苦痛を伴います（そして、誤りに繋がりやすいです）。\n",
    "\n",
    "`autograd` というパッケージは、自動で微分を計算する、つまり*自動微分*によって、この作業を加速させました。多くの他のライブラリが、自動微分を行うためにシンボリックなグラフのコンパイルを必要とするのに対し、`autograd`は通常のコードを書くだけで微分をすることができます。モデルにデータを渡すときはいつでも、グラフが`autograd`によってその都度作成され、どのデータにどの演算が実行されて出力を得られるのかが追跡されます。このグラフによって、`autograd`は実行命令を受けると、勾配を逆伝播します。\n",
    "*逆伝播*は単純に*計算グラフ*を追跡して、各パラメータに関する偏微分を計算することを意味します。"
   ]
  },
  {
   "cell_type": "code",
   "execution_count": 1,
   "metadata": {
    "attributes": {
     "classes": [],
     "id": "",
     "n": "1"
    }
   },
   "outputs": [],
   "source": [
    "from mxnet import autograd, np, npx\n",
    "npx.set_np()"
   ]
  },
  {
   "cell_type": "markdown",
   "metadata": {},
   "source": [
    "## シンプルな例\n",
    "\n",
    "単純な例として、$y = 2\\mathbf{x}^{\\top}\\mathbf{x}$を列ベクトル $\\mathbf{x}$に関して微分してみましょう。まず、変数`x`を作成して、初期値を与えます。"
   ]
  },
  {
   "cell_type": "code",
   "execution_count": 2,
   "metadata": {
    "attributes": {
     "classes": [],
     "id": "",
     "n": "2"
    }
   },
   "outputs": [
    {
     "data": {
      "text/plain": [
       "array([0., 1., 2., 3.])"
      ]
     },
     "execution_count": 2,
     "metadata": {},
     "output_type": "execute_result"
    }
   ],
   "source": [
    "x = np.arange(4)\n",
    "x"
   ]
  },
  {
   "cell_type": "markdown",
   "metadata": {},
   "source": [
    "$\\mathbf{x}$ に関する $y の勾配を計算したら、それを保存するための場所を用意しましょう。パラメータに関する微分を計算するときはいつでも、新しいメモリを割り当てないことが重要です。なぜなら、同じパラメータを数千回、数百万回と頻繁に更新するので、メモリを使い尽くしてしまうからです。\n",
    "\n",
    "ベクトル$\\mathbf{x}$に関するスカラー値の関数において、その勾配はベクトル値になり$\\mathbf{x}$と同じshapeをとります。従って、コードにおいて、`x`に関する勾配にアクセスすることは直感的に理解できるでしょう。`attach_grad` のメソッドを使って、`ndarray`の勾配のためのメモリを確保します。"
   ]
  },
  {
   "cell_type": "code",
   "execution_count": 3,
   "metadata": {
    "attributes": {
     "classes": [],
     "id": "",
     "n": "3"
    }
   },
   "outputs": [],
   "source": [
    "x.attach_grad()"
   ]
  },
  {
   "cell_type": "markdown",
   "metadata": {},
   "source": [
    "After we calculate a gradient taken with respect to `x`,\n",
    "we will be able to access it via the `grad` attribute.\n",
    "As a safe default, `x.grad` is initialized as an array containing all zeros.\n",
    "That is sensible because our most common use case\n",
    "for taking gradient in deep learning is to subsequently\n",
    "update parameters by adding (or subtracting) the gradient\n",
    "to maximize (or minimize) the differentiated function.\n",
    "By initializing the gradient to an array of zeros,\n",
    "we ensure that any update accidentally executed\n",
    "before a gradient has actually been calculated\n",
    "will not alter the parameters' value."
   ]
  },
  {
   "cell_type": "code",
   "execution_count": 4,
   "metadata": {
    "attributes": {
     "classes": [],
     "id": "",
     "n": "4"
    }
   },
   "outputs": [
    {
     "data": {
      "text/plain": [
       "array([0., 0., 0., 0.])"
      ]
     },
     "execution_count": 4,
     "metadata": {},
     "output_type": "execute_result"
    }
   ],
   "source": [
    "x.grad"
   ]
  },
  {
   "cell_type": "markdown",
   "metadata": {},
   "source": [
    "ここで$y$を計算しましょう。次に勾配を計算したいので、MXNetに対して計算グラフを必要なときに (on-the-flyで)作成させます。MXNet は、各変数を生成するパスを確実に捉えるために、記憶装置の電源を入れるような状態を想像してみてください。\n",
    "\n",
    "計算グラフの作成にはそれなりの計算を必要とします。そこで、陽に計算グラフを作成するよう指示したときだけ、MXNetは計算グラフを作成します。``autograd.record``のスコープの中にコードを記述することによって、この挙動を実装することができます。"
   ]
  },
  {
   "cell_type": "code",
   "execution_count": 5,
   "metadata": {
    "attributes": {
     "classes": [],
     "id": "",
     "n": "5"
    }
   },
   "outputs": [
    {
     "data": {
      "text/plain": [
       "array(28.)"
      ]
     },
     "execution_count": 5,
     "metadata": {},
     "output_type": "execute_result"
    }
   ],
   "source": [
    "with autograd.record():\n",
    "    y = 2 * np.dot(x.T, x)\n",
    "y"
   ]
  },
  {
   "cell_type": "markdown",
   "metadata": {},
   "source": [
    "`x` は長さ4の  `ndarray` なので、`np.dot` は `x` と `y` の内積を実行し、`y` に割り当てられるスカラーを出力します。次に、`y`の`backward`の関数を呼ぶことで、`x`の各要素に関する `y` の勾配を自動で計算することができます。"
   ]
  },
  {
   "cell_type": "code",
   "execution_count": 6,
   "metadata": {
    "attributes": {
     "classes": [],
     "id": "",
     "n": "6"
    }
   },
   "outputs": [],
   "source": [
    "y.backward()"
   ]
  },
  {
   "cell_type": "markdown",
   "metadata": {},
   "source": [
    "If we recheck the value of `x.grad`, we will find its contents overwritten by the newly calculated gradient."
   ]
  },
  {
   "cell_type": "code",
   "execution_count": 7,
   "metadata": {
    "attributes": {
     "classes": [],
     "id": "",
     "n": "7"
    }
   },
   "outputs": [
    {
     "data": {
      "text/plain": [
       "array([ 0.,  4.,  8., 12.])"
      ]
     },
     "execution_count": 7,
     "metadata": {},
     "output_type": "execute_result"
    }
   ],
   "source": [
    "x.grad"
   ]
  },
  {
   "cell_type": "markdown",
   "metadata": {},
   "source": [
    "関数$y = 2\\mathbf{x}^{\\top}\\mathbf{x}$の$\\mathbf{x}$に関する勾配は$4\\mathbf{x}$です。求める勾配が正しく計算されていることを手短に確かめてみましょう。If the two `ndarray`s are indeed the same, then the equality between them holds at every position."
   ]
  },
  {
   "cell_type": "code",
   "execution_count": 8,
   "metadata": {
    "attributes": {
     "classes": [],
     "id": "",
     "n": "8"
    }
   },
   "outputs": [
    {
     "data": {
      "text/plain": [
       "array([ True,  True,  True,  True])"
      ]
     },
     "execution_count": 8,
     "metadata": {},
     "output_type": "execute_result"
    }
   ],
   "source": [
    "x.grad == 4 * x"
   ]
  },
  {
   "cell_type": "markdown",
   "metadata": {},
   "source": [
    "If we subsequently compute the gradient of another variable\n",
    "whose value was calculated as a function of `x`,\n",
    "the contents of `x.grad` will be overwritten."
   ]
  },
  {
   "cell_type": "code",
   "execution_count": 9,
   "metadata": {
    "attributes": {
     "classes": [],
     "id": "",
     "n": "9"
    }
   },
   "outputs": [
    {
     "data": {
      "text/plain": [
       "array([1., 1., 1., 1.])"
      ]
     },
     "execution_count": 9,
     "metadata": {},
     "output_type": "execute_result"
    }
   ],
   "source": [
    "with autograd.record():\n",
    "    y = x.sum()\n",
    "y.backward()\n",
    "x.grad"
   ]
  },
  {
   "cell_type": "markdown",
   "metadata": {},
   "source": [
    "## Backward for Non-Scalar Variables\n",
    "\n",
    "Technically, when `y` is not a scalar,\n",
    "the most natural interpretation of the gradient of `y` (a vector of length $m$)\n",
    "with respect to `x` (a vector of length $n$) is the *Jacobian* (an $m\\times n$ matrix).\n",
    "For higher-order and higher-dimensional `y` and `x`,\n",
    "the Jacobian could be a gnarly high-order tensor.\n",
    "\n",
    "However, while these more exotic objects do show up\n",
    "in advanced machine learning (including in deep learning),\n",
    "more often when we are calling backward on a vector,\n",
    "we are trying to calculate the derivatives of the loss functions\n",
    "for each constituent of a *batch* of training examples.\n",
    "Here, our intent is not to calculate the Jacobian\n",
    "but rather the sum of the partial derivatives\n",
    "computed individually for each example in the batch.\n",
    "\n",
    "Thus when we invoke `backward` on a vector-valued variable `y`,\n",
    "which is a function of `x`,\n",
    "MXNet assumes that we want the sum of the gradients.\n",
    "In short, MXNet will create a new scalar variable\n",
    "by summing the elements in `y`,\n",
    "and compute the gradient of that scalar variable with respect to `x`."
   ]
  },
  {
   "cell_type": "code",
   "execution_count": 10,
   "metadata": {
    "attributes": {
     "classes": [],
     "id": "",
     "n": "10"
    }
   },
   "outputs": [
    {
     "data": {
      "text/plain": [
       "array([ True,  True,  True,  True])"
      ]
     },
     "execution_count": 10,
     "metadata": {},
     "output_type": "execute_result"
    }
   ],
   "source": [
    "with autograd.record():\n",
    "    y = x * x  # y is a vector\n",
    "y.backward()\n",
    "\n",
    "u = x.copy()\n",
    "u.attach_grad()\n",
    "with autograd.record():\n",
    "    v = (u * u).sum()  # v is a scalar\n",
    "v.backward()\n",
    "\n",
    "x.grad == u.grad"
   ]
  },
  {
   "cell_type": "markdown",
   "metadata": {},
   "source": [
    "## Detaching Computation\n",
    "\n",
    "Sometimes, we wish to move some calculations\n",
    "outside of the recorded computational graph.\n",
    "For example, say that `y` was calculated as a function of `x`,\n",
    "and that subsequently `z` was calculated as a function of both `y` and `x`.\n",
    "Now, imagine that we wanted to calculate\n",
    "the gradient of `z` with respect to `x`,\n",
    "but wanted for some reason to treat `y` as a constant,\n",
    "and only take into account the role\n",
    "that `x` played after `y` was calculated.\n",
    "\n",
    "Here, we can call `u = y.detach()` to return a new variable `u`\n",
    "that has the same value as `y` but discards any information\n",
    "about how `y` was computed in the computational graph.\n",
    "In other words, the gradient will not flow backwards through `u` to `x`.\n",
    "This will provide the same functionality as if we had\n",
    "calculated `u` as a function of `x` outside of the `autograd.record` scope,\n",
    "yielding a `u` that will be treated as a constant in any `backward` call.\n",
    "Thus, the following `backward` function computes\n",
    "the partial derivative of `z = u * x` with respect to `x` while treating `u` as a constant,\n",
    "instead of the partial derivative of `z = x * x * x` with respect to `x`."
   ]
  },
  {
   "cell_type": "code",
   "execution_count": 11,
   "metadata": {
    "attributes": {
     "classes": [],
     "id": "",
     "n": "11"
    }
   },
   "outputs": [
    {
     "data": {
      "text/plain": [
       "array([ True,  True,  True,  True])"
      ]
     },
     "execution_count": 11,
     "metadata": {},
     "output_type": "execute_result"
    }
   ],
   "source": [
    "with autograd.record():\n",
    "    y = x * x\n",
    "    u = y.detach()\n",
    "    z = u * x\n",
    "z.backward()\n",
    "x.grad == u"
   ]
  },
  {
   "cell_type": "markdown",
   "metadata": {},
   "source": [
    "Since the computation of `y` was recorded,\n",
    "we can subsequently call `y.backward()` to get the derivative of `y = x * x` with respect to `x`, which is `2 * x`."
   ]
  },
  {
   "cell_type": "code",
   "execution_count": 12,
   "metadata": {
    "attributes": {
     "classes": [],
     "id": "",
     "n": "12"
    }
   },
   "outputs": [
    {
     "data": {
      "text/plain": [
       "array([ True,  True,  True,  True])"
      ]
     },
     "execution_count": 12,
     "metadata": {},
     "output_type": "execute_result"
    }
   ],
   "source": [
    "y.backward()\n",
    "x.grad == 2 * x"
   ]
  },
  {
   "cell_type": "markdown",
   "metadata": {},
   "source": [
    "Note that attaching gradients to a variable `x` implicitly calls `x = x.detach()`.\n",
    "If `x` is computed based on other variables,\n",
    "this part of computation will not be used in the `backward` function."
   ]
  },
  {
   "cell_type": "code",
   "execution_count": 13,
   "metadata": {
    "attributes": {
     "classes": [],
     "id": "",
     "n": "13"
    }
   },
   "outputs": [
    {
     "data": {
      "text/plain": [
       "(array([-1., -1., -1., -1.]), array([5., 5., 5., 5.]), array([0., 0., 0., 0.]))"
      ]
     },
     "execution_count": 13,
     "metadata": {},
     "output_type": "execute_result"
    }
   ],
   "source": [
    "y = np.ones(4) * 2\n",
    "y.attach_grad()\n",
    "with autograd.record():\n",
    "    u = x * y\n",
    "    u.attach_grad()  # Implicitly run u = u.detach()\n",
    "    z = 5 * u - x\n",
    "z.backward()\n",
    "x.grad, u.grad, y.grad"
   ]
  },
  {
   "cell_type": "markdown",
   "metadata": {},
   "source": [
    "## Pythonの制御フローに対する勾配を計算する\n",
    "\n",
    "自動微分のメリットとして、たとえ計算グラフが複雑なPythonの制御フロー（条件分岐、ループ、任意の関数呼び出し）を含んでいたとしても、その変数の微分を得られる点があります。次のスニペットでは、`while` ループのイテレーション数や `if` 文の評価回数がが、入力 `a` に依存しています。"
   ]
  },
  {
   "cell_type": "code",
   "execution_count": 14,
   "metadata": {
    "attributes": {
     "classes": [],
     "id": "",
     "n": "16"
    }
   },
   "outputs": [],
   "source": [
    "def f(a):\n",
    "    b = a * 2\n",
    "    while np.linalg.norm(b) < 1000:\n",
    "        b = b * 2\n",
    "    if b.sum() > 0:\n",
    "        c = b\n",
    "    else:\n",
    "        c = 100 * b\n",
    "    return c"
   ]
  },
  {
   "cell_type": "markdown",
   "metadata": {},
   "source": [
    "再度、勾配を計算するために、その計算を`record`(保存)する必要があり、また`backward`呼び出す必要があります。"
   ]
  },
  {
   "cell_type": "code",
   "execution_count": 15,
   "metadata": {
    "attributes": {
     "classes": [],
     "id": "",
     "n": "17"
    }
   },
   "outputs": [],
   "source": [
    "a = np.random.normal()\n",
    "a.attach_grad()\n",
    "with autograd.record():\n",
    "    d = f(a)\n",
    "d.backward()"
   ]
  },
  {
   "cell_type": "markdown",
   "metadata": {},
   "source": [
    "上で定義された関数`f`を解析してみましょう。関数`f`は入力`a`に対する区分線形関数であることは確認できると思います。言い換えれば、どのような`a`に対しても、`k`の値が入力`a`に依存して、`f(a) = k * a`を満たす定数スカラー`k`が存在します。従って、`d / a`という計算を行うことで、その勾配が正しいかどうかを検証することができます。"
   ]
  },
  {
   "cell_type": "code",
   "execution_count": 16,
   "metadata": {
    "attributes": {
     "classes": [],
     "id": "",
     "n": "10"
    }
   },
   "outputs": [
    {
     "name": "stdout",
     "output_type": "stream",
     "text": [
      "True\n"
     ]
    }
   ],
   "source": [
    "print(a.grad == (d / a))"
   ]
  },
  {
   "cell_type": "markdown",
   "metadata": {},
   "source": [
    "## 学習モードと推論モード\n",
    "\n",
    "上記で確認したように、`autograd.record`の関数を呼ぶと、MXNetは以降のブロックの演算を記録します。また、\n",
    "`autograd.record`は*推論モード*から*学習モード*へと実行モードを切り替えます。このことは、`is_training`関数を実行すると確認することができます。"
   ]
  },
  {
   "cell_type": "code",
   "execution_count": 17,
   "metadata": {
    "attributes": {
     "classes": [],
     "id": "",
     "n": "19"
    }
   },
   "outputs": [
    {
     "name": "stdout",
     "output_type": "stream",
     "text": [
      "False\n",
      "True\n"
     ]
    }
   ],
   "source": [
    "print(autograd.is_training())\n",
    "with autograd.record():\n",
    "    print(autograd.is_training())"
   ]
  },
  {
   "cell_type": "markdown",
   "metadata": {},
   "source": [
    "複雑な深層学習モデルを扱うときは、学習するときと、それを使って推論を行うときで、違った挙動をするモデルのアルゴリズムに直面することもあるでしょう。以降の章では、これらの違いの詳細について説明をします。\n",
    "\n",
    "## まとめ\n",
    "\n",
    "* MXNetでは微分の処理を自動化する`autograd`パッケージを提供してます。これを利用するためには、偏微分を計算したい変数に関して勾配をまずアタッチします。そして、対象となる値の計算を記録し、その`backward`関数を実行し、変数の `grad` 属性から最終的な勾配を知ることができます。\n",
    "* `backward`関数で利用される計算の一部を制御するために、勾配をデタッチすることができます。\n",
    "* MXNetの実行モードには学習モードと推論モードがあります。`autograd.is_training`を呼ぶと、実行モードを知ることができます。\n",
    "\n",
    "## 練習\n",
    "\n",
    "1. なぜ2階微分は、1階微分よりもずっと多くの計算を必要とするのでしょうか。\n",
    "1. After running `y.backward()`, immediately run it again and see what happens.\n",
    "1. `a`に関する`d`の微分を計算する制御フローを例としてとりあげましたが、`a`をランダムなベクトルや行列に変更するとどうなるでしょうか。このとき、`f(a)`の計算結果はスカラーではなくなってしまいます。どういった結果になるでしょうか。どのように解析すれば良いでしょうか。\n",
    "1. その制御フローの勾配を計算する例を変えてみましょう。実行して結果を解析してみましょう。\n",
    "1. $f(x) = \\sin(x)$を考えます。そして、$f(x)$と$\\frac{df(x)}{dx}$をグラフ化してください。ただし、$\\frac{df(x)}{dx}$については、数式の計算を使わない、つまり $f'(x) = \\cos(x)$を使わずにグラフ化しましょう。\n",
    "1. eBayやComputational advertisingのようなセカンド・プライスオークションにおいては、せりに買った人は二番目に高い入札金額を支払います。`autograd`を使って、せりに買った人の入札金額に関する最終的な価格の勾配を計算してみましょう。その結果から、セカンド・プライスオークションのメカニズムについてわかることがありますか? もしセカンド・プライスオークションについてより深く知りたいと思うのであれば、Edelmanの論文  :cite:`Edelman.Ostrovsky.Schwarz.2007` を参照してください。\n",
    "\n",
    "\n",
    "## [議論](https://discuss.mxnet.io/t/2318)\n",
    "\n",
    "![](../img/qr_autograd.svg)"
   ]
  }
 ],
 "metadata": {
  "kernelspec": {
   "display_name": "conda_mxnet_p36",
   "name": "conda_mxnet_p36"
  },
  "language_info": {
   "name": "python"
  }
 },
 "nbformat": 4,
 "nbformat_minor": 2
}