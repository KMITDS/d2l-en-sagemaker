{
 "cells": [
  {
   "cell_type": "markdown",
   "metadata": {},
   "source": [
    "Installing (updating) the following libraries for your Sagemaker\n",
    "instance."
   ]
  },
  {
   "cell_type": "code",
   "execution_count": null,
   "metadata": {},
   "outputs": [],
   "source": [
    "!pip install -U mxnet-cu101mkl==1.6.0  # updating mxnet to at least v1.6\n"
   ]
  },
  {
   "cell_type": "markdown",
   "metadata": {},
   "source": [
    "# ドキュメント\n",
    "\n",
    "この本の長さの制約から、すべてのMXNetの関数とクラスを紹介することはできません (そしてこれを読むみなさんも望んでいないでしょう)。 APIドキュメント、追加のチュートリアルと例は、この本以上に多くのドキュメントを提供します。この節ではMXNet APIを探すための手引を紹介します。\n",
    "\n",
    "\n",
    "## モジュール内のすべての関数とクラスを探す\n",
    "\n",
    "どの関数とクラスがモジュール内で呼ばれているかを知るために、`dir`という関数を呼び出します。例えば、`np.random`のモジュールのすべてのプロパティを問い合わせるためには以下を実行します。"
   ]
  },
  {
   "cell_type": "code",
   "execution_count": 1,
   "metadata": {
    "attributes": {
     "classes": [],
     "id": "",
     "n": "1"
    }
   },
   "outputs": [
    {
     "name": "stdout",
     "output_type": "stream",
     "text": [
      "['__all__', '__builtins__', '__cached__', '__doc__', '__file__', '__loader__', '__name__', '__package__', '__spec__', '_mx_nd_np', 'absolute_import', 'choice', 'multinomial', 'normal', 'rand', 'randint', 'shuffle', 'uniform']\n"
     ]
    }
   ],
   "source": [
    "from mxnet import np\n",
    "print(dir(np.random))"
   ]
  },
  {
   "cell_type": "markdown",
   "metadata": {},
   "source": [
    "一般に、`__` (Pythonの特殊なオブジェクト) で始まって終わる関数、または単一の `_`で始まる関数 (通常は内部的に利用されている関数) は無視しても構いません。残りの関数/属性名にもとづいて、このモジュールが、一様分布 (`uniform`)、正規分布 (`normal`)、ポアソン分布 (`poisson`) といった乱数を生成する様々なメソッドをもっていることを推定することができます。\n",
    "\n",
    "## 特定の関数やクラスの利用方法を探す\n",
    "\n",
    "ある関数やクラスの利用方法について知りたい場合は、`help`関数を利用します。以下の例では、`ndarray`の`ones_like`の関数の使い方を探しています。"
   ]
  },
  {
   "cell_type": "code",
   "execution_count": 2,
   "metadata": {},
   "outputs": [
    {
     "name": "stdout",
     "output_type": "stream",
     "text": [
      "Help on function ones_like in module mxnet.numpy:\n",
      "\n",
      "ones_like(a)\n",
      "    Return an array of ones with the same shape and type as a given array.\n",
      "    \n",
      "    Parameters\n",
      "    ----------\n",
      "    a : ndarray\n",
      "        The shape and data-type of `a` define these same attributes of\n",
      "        the returned array.\n",
      "    \n",
      "    Returns\n",
      "    -------\n",
      "    out : ndarray\n",
      "        Array of ones with the same shape and type as `a`.\n",
      "    \n",
      "    Examples\n",
      "    --------\n",
      "    >>> x = np.arange(6)\n",
      "    >>> x = x.reshape((2, 3))\n",
      "    >>> x\n",
      "    array([[0., 1., 2.],\n",
      "           [3., 4., 5.]])\n",
      "    >>> np.ones_like(x)\n",
      "    array([[1., 1., 1.],\n",
      "           [1., 1., 1.]])\n",
      "    \n",
      "    >>> y = np.arange(3, dtype=float)\n",
      "    >>> y\n",
      "    array([0., 1., 2.], dtype=float64)\n",
      "    >>>\n",
      "    >>> np.ones_like(y)\n",
      "    array([1., 1., 1.], dtype=float64)\n",
      "\n"
     ]
    }
   ],
   "source": [
    "help(np.ones_like)"
   ]
  },
  {
   "cell_type": "markdown",
   "metadata": {},
   "source": [
    "ドキュメントから、 `ones_like`の関数は与えられた`ndarray`と同じshapeの配列を新しく作成し、すべての要素を`1`にセットすることがわかります。可能な場合はいつでも、そのドキュメントに対する理解を確かめるために、手短にテストすることをおすすめします。"
   ]
  },
  {
   "cell_type": "code",
   "execution_count": 3,
   "metadata": {},
   "outputs": [
    {
     "data": {
      "text/plain": [
       "array([[1., 1., 1.],\n",
       "       [1., 1., 1.]])"
      ]
     },
     "execution_count": 3,
     "metadata": {},
     "output_type": "execute_result"
    }
   ],
   "source": [
    "x = np.array([[0, 0, 0], [2, 2, 2]])\n",
    "np.ones_like(x)"
   ]
  },
  {
   "cell_type": "markdown",
   "metadata": {},
   "source": [
    "Jupyter notebookでは、別のウィンドウでドキュメントを表示するために`?`を利用することができます。例えば、`np.random.uniform?`とすれば、それは`help(np.random.uniform)`のコンテンツを、新しいブラウザのウィンドウで表示します。さらに、`np.random.uniform??`のように2つの疑問符を使えば、その関数を実装するコードを表示することができます。\n",
    "\n",
    "## APIのドキュメント\n",
    "\n",
    "APIの詳細について知りたい場合は、MXNetのウェブサイト [http://mxnet.apache.org/](http://mxnet.apache.org/) をチェックしてください。適切な見出しのところに詳細を見つけることができるでしょう (そして、Python以外のプログラミング言語についても詳細を見つけられます)。\n",
    "\n",
    "\n",
    "## まとめ\n",
    "\n",
    "* 公式のドキュメントは、この書籍以上の説明と例を十分に提供しています。\n",
    "* `dir` や `help` を呼び出したり、MXNet のウェブサイトを見ることによって、MXNet の API の使い方に関するドキュメントを調べることができます。\n",
    "\n",
    "## 練習\n",
    "\n",
    "1. `ones_like`と`autograd`をAPIのドキュメントから探してみましょう。\n",
    "2. `np.random.choice(4, 2)` を実行した後に、起こりうる全ての出力は何でしょうか。\n",
    "3. `np.random.choice(4, 2)` を、 `np.random.randint` を使って書き換えることができますか? \n",
    "\n",
    "## [議論](https://discuss.mxnet.io/t/2322)\n",
    "\n",
    "![](../img/qr_lookup-api.svg)"
   ]
  }
 ],
 "metadata": {
  "kernelspec": {
   "display_name": "conda_mxnet_p36",
   "name": "conda_mxnet_p36"
  },
  "language_info": {
   "name": "python"
  }
 },
 "nbformat": 4,
 "nbformat_minor": 2
}