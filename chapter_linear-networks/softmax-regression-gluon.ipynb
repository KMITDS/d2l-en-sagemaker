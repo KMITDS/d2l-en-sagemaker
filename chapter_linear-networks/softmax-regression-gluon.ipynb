{
 "cells": [
  {
   "cell_type": "markdown",
   "metadata": {},
   "source": [
    "The following additional libraries are needed to run this\n",
    "notebook on Sagemaker."
   ]
  },
  {
   "cell_type": "code",
   "execution_count": null,
   "metadata": {},
   "outputs": [],
   "source": [
    "!pip install -U --pre mxnet-cu101mkl\n",
    "!pip install d2l\n"
   ]
  },
  {
   "cell_type": "markdown",
   "metadata": {},
   "source": [
    "# Concise Implementation of Softmax Regression\n",
    "\n",
    "Just as Gluon made it much easier\n",
    "to implement linear regression in :numref:`sec_linear_gluon`,\n",
    "we will find it similarly (or possibly more)\n",
    "convenient for implementing classification models.\n",
    "Again, we begin with our import ritual."
   ]
  },
  {
   "cell_type": "code",
   "execution_count": 1,
   "metadata": {
    "attributes": {
     "classes": [],
     "id": "",
     "n": "1"
    }
   },
   "outputs": [],
   "source": [
    "import d2l\n",
    "from mxnet import gluon, init, npx\n",
    "from mxnet.gluon import nn\n",
    "npx.set_np()"
   ]
  },
  {
   "cell_type": "markdown",
   "metadata": {},
   "source": [
    "Let's stick with the Fashion-MNIST dataset \n",
    "and keep the batch size at $256$ as in the last section."
   ]
  },
  {
   "cell_type": "code",
   "execution_count": 2,
   "metadata": {
    "attributes": {
     "classes": [],
     "id": "",
     "n": "2"
    }
   },
   "outputs": [],
   "source": [
    "batch_size = 256\n",
    "train_iter, test_iter = d2l.load_data_fashion_mnist(batch_size)"
   ]
  },
  {
   "cell_type": "markdown",
   "metadata": {},
   "source": [
    "## Initializing Model Parameters\n",
    "\n",
    "As mentioned in :numref:`sec_softmax`,\n",
    "the output layer of softmax regression \n",
    "is a fully-connected (`Dense`) layer.\n",
    "Therefore, to implement our model,\n",
    "we just need to add one `Dense` layer \n",
    "with 10 outputs to our `Sequential`.\n",
    "Again, here, the `Sequential` is not really necessary,\n",
    "but we might as well form the habit since it will be ubiquitous\n",
    "when implementing deep models.\n",
    "Again, we initialize the weights at random\n",
    "with zero mean and standard deviation $0.01$."
   ]
  },
  {
   "cell_type": "code",
   "execution_count": 3,
   "metadata": {
    "attributes": {
     "classes": [],
     "id": "",
     "n": "3"
    }
   },
   "outputs": [],
   "source": [
    "net = nn.Sequential()\n",
    "net.add(nn.Dense(10))\n",
    "net.initialize(init.Normal(sigma=0.01))"
   ]
  },
  {
   "cell_type": "markdown",
   "metadata": {},
   "source": [
    "## The Softmax\n",
    "\n",
    "In the previous example, we calculated our model's output\n",
    "and then ran this output through the cross-entropy loss.\n",
    "Mathematically, that is a perfectly reasonable thing to do.\n",
    "However, from a computational perspective, \n",
    "exponentiation can be a source of numerical stability issues\n",
    "(as discussed  in :numref:`sec_naive_bayes`).\n",
    "Recall that the softmax function calculates\n",
    "$\\hat y_j = \\frac{e^{z_j}}{\\sum_{i=1}^{n} e^{z_i}}$, \n",
    "where $\\hat y_j$ is the $j^\\mathrm{th}$ element of ``yhat`` \n",
    "and $z_j$ is the $j^\\mathrm{th}$ element of the input\n",
    "``y_linear`` variable, as computed by the softmax.\n",
    "\n",
    "If some of the $z_i$ are very large (i.e., very positive),\n",
    "then $e^{z_i}$ might be larger than the largest number\n",
    "we can have for certain types of ``float`` (i.e., overflow).\n",
    "This would make the denominator (and/or numerator) ``inf`` \n",
    "and we wind up encountering either $0$, ``inf``, or ``nan`` for $\\hat y_j$.\n",
    "In these situations we do not get a well-defined \n",
    "return value for ``cross_entropy``.\n",
    "One trick to get around this is to first subtract $\\text{max}(z_i)$\n",
    "from all $z_i$ before proceeding with the ``softmax`` calculation.\n",
    "You can verify that this shifting of each $z_i$ by constant factor\n",
    "does not change the return value of ``softmax``.\n",
    "\n",
    "After the subtraction and normalization step,\n",
    "it might be that possible that some $z_j$ have large negative values\n",
    "and thus that the corresponding $e^{z_j}$ will take values close to zero.\n",
    "These might be rounded to zero due to finite precision (i.e underflow),\n",
    "making $\\hat y_j$ zero and giving us ``-inf`` for $\\text{log}(\\hat y_j)$.\n",
    "A few steps down the road in backpropagation,\n",
    "we might find ourselves faced with a screenful \n",
    "of the dreaded not-a-number (``nan``) results.\n",
    "\n",
    "Fortunately, we are saved by the fact that \n",
    "even though we are computing exponential functions, \n",
    "we ultimately intend to take their log \n",
    "(when calculating the cross-entropy loss).\n",
    "By combining these two operators \n",
    "(``softmax`` and ``cross_entropy``) together,\n",
    "we can escape the numerical stability issues\n",
    "that might otherwise plague us during backpropagation.\n",
    "As shown in the equation below, we avoided calculating $e^{z_j}$\n",
    "and can instead $z_j$ directly due to the canceling in $\\log(\\exp(\\cdot))$.\n",
    "\n",
    "$$\n",
    "\\begin{aligned}\n",
    "\\log{(\\hat y_j)} & = \\log\\left( \\frac{e^{z_j}}{\\sum_{i=1}^{n} e^{z_i}}\\right) \\\\\n",
    "& = \\log{(e^{z_j})}-\\text{log}{\\left( \\sum_{i=1}^{n} e^{z_i} \\right)} \\\\\n",
    "& = z_j -\\log{\\left( \\sum_{i=1}^{n} e^{z_i} \\right)}.\n",
    "\\end{aligned}\n",
    "$$\n",
    "\n",
    "We will want to keep the conventional softmax function handy\n",
    "in case we ever want to evaluate the probabilities output by our model.\n",
    "But instead of passing softmax probabilities into our new loss function,\n",
    "we will just pass the logits and compute the softmax and its log\n",
    "all at once inside the softmax_cross_entropy loss function,\n",
    "which does smart things like the log-sum-exp trick ([see on Wikipedia](https://en.wikipedia.org/wiki/LogSumExp))."
   ]
  },
  {
   "cell_type": "code",
   "execution_count": 4,
   "metadata": {
    "attributes": {
     "classes": [],
     "id": "",
     "n": "4"
    }
   },
   "outputs": [],
   "source": [
    "loss = gluon.loss.SoftmaxCrossEntropyLoss()"
   ]
  },
  {
   "cell_type": "markdown",
   "metadata": {},
   "source": [
    "## Optimization Algorithm\n",
    "\n",
    "Here, we use minibatch stochastic gradient descent\n",
    "with a learning rate of $0.1$ as the optimization algorithm.\n",
    "Note that this is the same as we applied in the linear regression example\n",
    "and it illustrates the general applicability of the optimizers."
   ]
  },
  {
   "cell_type": "code",
   "execution_count": 5,
   "metadata": {
    "attributes": {
     "classes": [],
     "id": "",
     "n": "5"
    }
   },
   "outputs": [],
   "source": [
    "trainer = gluon.Trainer(net.collect_params(), 'sgd', {'learning_rate': 0.1})"
   ]
  },
  {
   "cell_type": "markdown",
   "metadata": {},
   "source": [
    "## Training\n",
    "\n",
    "Next we call the training function defined in the last section to train a model."
   ]
  },
  {
   "cell_type": "code",
   "execution_count": 6,
   "metadata": {
    "attributes": {
     "classes": [],
     "id": "",
     "n": "6"
    }
   },
   "outputs": [],
   "source": [
    "num_epochs = 10\n",
    "d2l.train_ch3(net, train_iter, test_iter, loss, num_epochs, trainer)"
   ]
  },
  {
   "cell_type": "markdown",
   "metadata": {},
   "source": [
    "As before, this algorithm converges to a solution\n",
    "that achieves an accuracy of 83.7%,\n",
    "albeit this time with fewer lines of code than before.\n",
    "Note that in many cases, Gluon takes additional precautions\n",
    "beyond these most well-known tricks to ensure numerical stability,\n",
    "saving us from even more pitfalls that we would encounter\n",
    "if we tried to code all of our models from scratch in practice.\n",
    "\n",
    "## Exercises\n",
    "\n",
    "1. Try adjusting the hyper-parameters, such as batch size, epoch, and learning rate, to see what the results are.\n",
    "1. Why might the test accuracy decrease again after a while? How could we fix this?\n",
    "\n",
    "## [Discussions](https://discuss.mxnet.io/t/2337)\n",
    "\n",
    "![](../img/qr_softmax-regression-gluon.svg)"
   ]
  }
 ],
 "metadata": {
  "kernelspec": {
   "display_name": "conda_mxnet_p36",
   "name": "conda_mxnet_p36"
  },
  "language_info": {
   "name": "python"
  }
 },
 "nbformat": 4,
 "nbformat_minor": 2
}