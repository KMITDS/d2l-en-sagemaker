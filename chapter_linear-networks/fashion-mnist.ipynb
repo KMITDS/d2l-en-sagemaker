{
 "cells": [
  {
   "cell_type": "markdown",
   "metadata": {},
   "source": [
    "The following additional libraries are needed to run this\n",
    "notebook on Sagemaker."
   ]
  },
  {
   "cell_type": "code",
   "execution_count": null,
   "metadata": {},
   "outputs": [],
   "source": [
    "!pip install -U\n",
    "!pip install --pre\n",
    "!pip install mxnet-cu101mkl\n",
    "!pip install d2l\n"
   ]
  },
  {
   "cell_type": "markdown",
   "metadata": {},
   "source": [
    "# The Image Classification Dataset (Fashion-MNIST)\n",
    "\n",
    ":label:`sec_fashion_mnist`\n",
    "\n",
    "\n",
    "In :numref:`sec_naive_bayes`, we trained a naive Bayes classifier,\n",
    "using the MNIST dataset introduced in 1998 :cite:`LeCun.Bottou.Bengio.ea.1998`. \n",
    "While MNIST had a good run as a benchmark dataset, \n",
    "even simple models by today's standards achieve classification accuracy over 95%.\n",
    "making it unsuitable for distinguishing between stronger models and weaker ones. \n",
    "Today, MNIST serves as more of sanity checks than as a benchmark.\n",
    "To up the ante just a bit, we will focus our discussion in the coming sections\n",
    "on the qualitatively similar, but comparatively complex Fashion-MNIST \n",
    "dataset :cite:`Xiao.Rasul.Vollgraf.2017`, which was released in 2017."
   ]
  },
  {
   "cell_type": "code",
   "execution_count": 7,
   "metadata": {
    "attributes": {
     "classes": [],
     "id": "",
     "n": "7"
    }
   },
   "outputs": [],
   "source": [
    "%matplotlib inline\n",
    "import d2l\n",
    "from mxnet import gluon\n",
    "import sys\n",
    "\n",
    "d2l.use_svg_display()"
   ]
  },
  {
   "cell_type": "markdown",
   "metadata": {},
   "source": [
    "## Getting the Dataset\n",
    "\n",
    "Just as with MNIST, Gluon makes it easy to download and load the FashionMNIST dataset into memory via the `FashionMNIST` class contained in `gluon.data.vision`.\n",
    "We briefly work through the mechanics of loading and exploring the dataset below. \n",
    "Please refer to :numref:`sec_naive_bayes` for more details on loading data."
   ]
  },
  {
   "cell_type": "code",
   "execution_count": 23,
   "metadata": {
    "attributes": {
     "classes": [],
     "id": "",
     "n": "23"
    }
   },
   "outputs": [],
   "source": [
    "mnist_train = gluon.data.vision.FashionMNIST(train=True)\n",
    "mnist_test = gluon.data.vision.FashionMNIST(train=False)"
   ]
  },
  {
   "cell_type": "markdown",
   "metadata": {},
   "source": [
    "FashionMNIST consists of images from 10 categories, each represented \n",
    "by 6k images in the training set and by 1k in the test set. \n",
    "Consequently the training set and the test set \n",
    "contain 60k and 10k images, respectively."
   ]
  },
  {
   "cell_type": "code",
   "execution_count": null,
   "metadata": {},
   "outputs": [],
   "source": [
    "len(mnist_train), len(mnist_test)"
   ]
  },
  {
   "cell_type": "markdown",
   "metadata": {},
   "source": [
    "The images in Fashion-MNIST are associated with the following categories: \n",
    "t-shirt, trousers, pullover, dress, coat, sandal, shirt, sneaker, bag and ankle boot. \n",
    "The following function converts between numeric label indices and their names in text."
   ]
  },
  {
   "cell_type": "code",
   "execution_count": 25,
   "metadata": {
    "attributes": {
     "classes": [],
     "id": "",
     "n": "25"
    }
   },
   "outputs": [],
   "source": [
    "# Saved in the d2l package for later use\n",
    "def get_fashion_mnist_labels(labels):\n",
    "    text_labels = ['t-shirt', 'trouser', 'pullover', 'dress', 'coat',\n",
    "                   'sandal', 'shirt', 'sneaker', 'bag', 'ankle boot']\n",
    "    return [text_labels[int(i)] for i in labels]"
   ]
  },
  {
   "cell_type": "markdown",
   "metadata": {},
   "source": [
    "We can now create a function to visualize these examples."
   ]
  },
  {
   "cell_type": "code",
   "execution_count": null,
   "metadata": {},
   "outputs": [],
   "source": [
    "# Saved in the d2l package for later use\n",
    "def show_images(imgs, num_rows, num_cols, titles=None, scale=1.5):\n",
    "    \"\"\"Plot a list of images.\"\"\"\n",
    "    figsize = (num_cols * scale, num_rows * scale)\n",
    "    _, axes = d2l.plt.subplots(num_rows, num_cols, figsize=figsize)\n",
    "    axes = axes.flatten()\n",
    "    for i, (ax, img) in enumerate(zip(axes, imgs)):\n",
    "        ax.imshow(img.asnumpy())\n",
    "        ax.axes.get_xaxis().set_visible(False)\n",
    "        ax.axes.get_yaxis().set_visible(False)\n",
    "        if titles:\n",
    "            ax.set_title(titles[i])\n",
    "    return axes"
   ]
  },
  {
   "cell_type": "markdown",
   "metadata": {},
   "source": [
    "Here are the images and their corresponding labels (in text)\n",
    "for the first few examples in the training dataset."
   ]
  },
  {
   "cell_type": "code",
   "execution_count": null,
   "metadata": {},
   "outputs": [],
   "source": [
    "X, y = mnist_train[:18]\n",
    "show_images(X.squeeze(axis=-1), 2, 9, titles=get_fashion_mnist_labels(y));"
   ]
  },
  {
   "cell_type": "markdown",
   "metadata": {},
   "source": [
    "## Reading a Minibatch\n",
    "\n",
    "To make our life easier when reading from the training and test sets,\n",
    "we use a `DataLoader` rather than creating one from scratch, \n",
    "as we did in :numref:`sec_linear_scratch`. \n",
    "Recall that at each iteration, a `DataLoader` \n",
    "reads a minibatch of data with size `batch_size` each time.\n",
    "\n",
    "During training, reading data can be a significant performance bottleneck, \n",
    "especially when our model is simple or when our computer is fast. \n",
    "A handy feature of Gluon's `DataLoader` is the ability \n",
    "to use multiple processes to speed up data reading.\n",
    "For instance, we can set aside 4 processes to read the data (via `num_workers`).\n",
    "Because this feature is not currently supported on Windows\n",
    "the following code checks the platform to make sure\n",
    "that we do not saddle our Windows-using friends \n",
    "with error messages later on."
   ]
  },
  {
   "cell_type": "code",
   "execution_count": null,
   "metadata": {},
   "outputs": [],
   "source": [
    "# Saved in the d2l package for later use\n",
    "def get_dataloader_workers(num_workers=4):\n",
    "    # 0 means no additional process is used to speed up the reading of data.\n",
    "    if sys.platform.startswith('win'):\n",
    "        return 0\n",
    "    else:\n",
    "        return num_workers"
   ]
  },
  {
   "cell_type": "markdown",
   "metadata": {},
   "source": [
    "Below, we convert the image data from uint8 to 32-bit \n",
    "floating point numbers using the `ToTensor` class.\n",
    "Additionally, the transformer will divide all numbers by 255 \n",
    "so that all pixels have values between 0 and 1. \n",
    "The `ToTensor` class also moves the image channel \n",
    "from the last dimension to the first dimension \n",
    "to facilitate the convolutional neural network calculations introduced later. \n",
    "Through the `transform_first` function of the dataset, \n",
    "we apply the transformation of `ToTensor` \n",
    "to the first element of each instance (image and label)."
   ]
  },
  {
   "cell_type": "code",
   "execution_count": 28,
   "metadata": {
    "attributes": {
     "classes": [],
     "id": "",
     "n": "28"
    }
   },
   "outputs": [],
   "source": [
    "batch_size = 256\n",
    "transformer = gluon.data.vision.transforms.ToTensor()\n",
    "train_iter = gluon.data.DataLoader(mnist_train.transform_first(transformer),\n",
    "                                   batch_size, shuffle=True,\n",
    "                                   num_workers=get_dataloader_workers())"
   ]
  },
  {
   "cell_type": "markdown",
   "metadata": {},
   "source": [
    "Let's look at the time it takes to read the training data."
   ]
  },
  {
   "cell_type": "code",
   "execution_count": null,
   "metadata": {},
   "outputs": [],
   "source": [
    "timer = d2l.Timer()\n",
    "for X, y in train_iter:\n",
    "    continue\n",
    "'%.2f sec' % timer.stop()"
   ]
  },
  {
   "cell_type": "markdown",
   "metadata": {},
   "source": [
    "## Putting All Things Together \n",
    "\n",
    "Now we define the `load_data_fashion_mnist` function \n",
    "that obtains and reads the Fashion-MNIST dataset. \n",
    "It returns the data iterators for both the training set and validation set. \n",
    "In addition, it accepts an optional argument to resize images to another shape."
   ]
  },
  {
   "cell_type": "code",
   "execution_count": 4,
   "metadata": {
    "attributes": {
     "classes": [],
     "id": "",
     "n": "4"
    }
   },
   "outputs": [],
   "source": [
    "# Saved in the d2l package for later use\n",
    "def load_data_fashion_mnist(batch_size, resize=None):\n",
    "    \"\"\"Download the Fashion-MNIST dataset and then load into memory.\"\"\"\n",
    "    dataset = gluon.data.vision\n",
    "    trans = [dataset.transforms.Resize(resize)] if resize else []\n",
    "    trans.append(dataset.transforms.ToTensor())\n",
    "    trans = dataset.transforms.Compose(trans)\n",
    "    mnist_train = dataset.FashionMNIST(train=True).transform_first(trans)\n",
    "    mnist_test = dataset.FashionMNIST(train=False).transform_first(trans)\n",
    "    return (gluon.data.DataLoader(mnist_train, batch_size, shuffle=True,\n",
    "                                  num_workers=get_dataloader_workers()),\n",
    "            gluon.data.DataLoader(mnist_test, batch_size, shuffle=False,\n",
    "                                  num_workers=get_dataloader_workers()))"
   ]
  },
  {
   "cell_type": "markdown",
   "metadata": {},
   "source": [
    "Below, we verify that image resizing works."
   ]
  },
  {
   "cell_type": "code",
   "execution_count": 5,
   "metadata": {
    "attributes": {
     "classes": [],
     "id": "",
     "n": "5"
    }
   },
   "outputs": [],
   "source": [
    "train_iter, test_iter = load_data_fashion_mnist(32, (64, 64))\n",
    "for X, y in train_iter:\n",
    "    print(X.shape)\n",
    "    break"
   ]
  },
  {
   "cell_type": "markdown",
   "metadata": {},
   "source": [
    "We are now ready to work with the FashionMNIST dataset in the sections that follow.\n",
    "\n",
    "## Summary\n",
    "\n",
    "* Fashion-MNIST is an apparel classification dataset consisting of images representing 10 categories. \n",
    " * We will use this dataset in subsequent sections and chapters to evaluate various classification algorithms.\n",
    "* We store the shape of each image with height $h$ width $w$ pixels as $h \\times w$ or `(h, w)`.\n",
    "* Data iterators are a key component for efficient performance. Rely on well-implemented iterators that exploit multi-threading to avoid slowing down your training loop.\n",
    "\n",
    "## Exercises\n",
    "\n",
    "1. Does reducing the `batch_size` (for instance, to 1) affect read performance?\n",
    "1. For non-Windows users, try modifying `num_workers` to see how it affects read performance. Plot the performance against the number of works employed.\n",
    "1. Use the MXNet documentation to see which other datasets are available in `mxnet.gluon.data.vision`.\n",
    "1. Use the MXNet documentation to see which other transformations are available in `mxnet.gluon.data.vision.transforms`.\n",
    "\n",
    "## [Discussions](https://discuss.mxnet.io/t/2335)\n",
    "\n",
    "![](../img/qr_fashion-mnist.svg)"
   ]
  }
 ],
 "metadata": {
  "kernelspec": {
   "display_name": "conda_mxnet_p36",
   "name": "conda_mxnet_p36"
  },
  "language_info": {
   "name": "python"
  }
 },
 "nbformat": 4,
 "nbformat_minor": 2
}