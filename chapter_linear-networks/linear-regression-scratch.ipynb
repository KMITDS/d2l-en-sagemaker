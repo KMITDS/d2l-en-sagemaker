{
 "cells": [
  {
   "cell_type": "markdown",
   "metadata": {},
   "source": [
    "The following additional libraries are needed to run this\n",
    "notebook on Sagemaker."
   ]
  },
  {
   "cell_type": "code",
   "execution_count": null,
   "metadata": {},
   "outputs": [],
   "source": [
    "!pip install d2l\n",
    "!pip install -U\n",
    "!pip install --pre\n",
    "!pip install mxnet-cu101mkl\n"
   ]
  },
  {
   "cell_type": "markdown",
   "metadata": {},
   "source": [
    "# Linear Regression Implementation from Scratch\n",
    "\n",
    ":label:`sec_linear_scratch`\n",
    "\n",
    "\n",
    "Now that you understand the key ideas behind linear regression,\n",
    "we can begin to work through a hands-on implementation in code.\n",
    "In this section, we will implement the entire method from scratch,\n",
    "including the data pipeline, the model,\n",
    "the loss function, and the gradient descent optimizer.\n",
    "While modern deep learning frameworks can automate nearly all of this work,\n",
    "implementing things from scratch is the only\n",
    "to make sure that you really know what you are doing.\n",
    "Moreover, when it comes time to customize models,\n",
    "defining our own layers, loss functions, etc.,\n",
    "understanding how things work under the hood will prove handy.\n",
    "In this section, we will rely only on `ndarray` and `autograd`.\n",
    "Afterwards, we will introduce a more compact implementation,\n",
    "taking advantage of Gluon's bells and whistles.\n",
    "To start off, we import the few required packages."
   ]
  },
  {
   "cell_type": "code",
   "execution_count": 1,
   "metadata": {
    "attributes": {
     "classes": [],
     "id": "",
     "n": "1"
    }
   },
   "outputs": [],
   "source": [
    "%matplotlib inline\n",
    "import d2l\n",
    "from mxnet import autograd, np, npx\n",
    "import random\n",
    "npx.set_np()"
   ]
  },
  {
   "cell_type": "markdown",
   "metadata": {},
   "source": [
    "## Generating the Dataset\n",
    "\n",
    "To keep things simple, we will construct an artificial dataset\n",
    "according to a linear model with additive noise.\n",
    "Out task will be to recover this model's parameters\n",
    "using the finite set of examples contained in our dataset.\n",
    "We will keep the data low-dimensional so we can visualize it easily.\n",
    "In the following code snippet, we generated a dataset \n",
    "containing $1000$ examples, each consisting of $2$ features\n",
    "sampled from a standard normal distribution.\n",
    "Thus our synthetic dataset will be an object\n",
    "$\\mathbf{X}\\in \\mathbb{R}^{1000 \\times 2}$.\n",
    "\n",
    "The true parameters generating our data will be \n",
    "$\\mathbf{w} = [2, -3.4]^\\top$ and $b = 4.2$\n",
    "and our synthetic labels will be assigned according \n",
    "to the following linear model with noise term $\\epsilon$:\n",
    "\n",
    "$$\\mathbf{y}= \\mathbf{X} \\mathbf{w} + b + \\mathbf\\epsilon.$$\n",
    "\n",
    "You could think of $\\epsilon$ as capturing potential \n",
    "measurement errors on the features and labels.\n",
    "We will assume that the standard assumptions hold and thus\n",
    "that $\\epsilon$ obeys a normal distribution with mean of $0$.\n",
    "To make our problem easy, we will set its standard deviation to $0.01$.\n",
    "The following code generates our synthetic dataset:"
   ]
  },
  {
   "cell_type": "code",
   "execution_count": 2,
   "metadata": {
    "attributes": {
     "classes": [],
     "id": "",
     "n": "2"
    }
   },
   "outputs": [],
   "source": [
    "# Saved in the d2l package for later use\n",
    "def synthetic_data(w, b, num_examples):\n",
    "    \"\"\"generate y = X w + b + noise\"\"\"\n",
    "    X = np.random.normal(0, 1, (num_examples, len(w)))\n",
    "    y = np.dot(X, w) + b\n",
    "    y += np.random.normal(0, 0.01, y.shape)\n",
    "    return X, y\n",
    "\n",
    "true_w = np.array([2, -3.4])\n",
    "true_b = 4.2\n",
    "features, labels = synthetic_data(true_w, true_b, 1000)"
   ]
  },
  {
   "cell_type": "markdown",
   "metadata": {},
   "source": [
    "Note that each row in `features` consists of a 2-dimensional data point \n",
    "and that each row in `labels` consists of a 1-dimensional target value (a scalar)."
   ]
  },
  {
   "cell_type": "code",
   "execution_count": 3,
   "metadata": {
    "attributes": {
     "classes": [],
     "id": "",
     "n": "3"
    }
   },
   "outputs": [],
   "source": [
    "print('features:', features[0],'\\nlabel:', labels[0])"
   ]
  },
  {
   "cell_type": "markdown",
   "metadata": {},
   "source": [
    "By generating a scatter plot using the second `features[:, 1]` and `labels`, \n",
    "we can clearly observe the linear correlation between the two."
   ]
  },
  {
   "cell_type": "code",
   "execution_count": 18,
   "metadata": {
    "attributes": {
     "classes": [],
     "id": "",
     "n": "18"
    }
   },
   "outputs": [],
   "source": [
    "d2l.set_figsize((3.5, 2.5))\n",
    "d2l.plt.scatter(features[:, 1].asnumpy(), labels.asnumpy(), 1);"
   ]
  },
  {
   "cell_type": "markdown",
   "metadata": {},
   "source": [
    "## Reading the Dataset\n",
    "\n",
    "Recall that training models consists of \n",
    "making multiple passes over the dataset, \n",
    "grabbing one minibatch of examples at a time,\n",
    "and using them to update our model. \n",
    "Since this process is so fundamental \n",
    "to training machine learning algorithms, \n",
    "its worth defining a utility function \n",
    "to shuffle the data and access it in minibatches.\n",
    "\n",
    "In the following code, we define a `data_iter` function \n",
    "to demonstrate one possible implementation of this functionality.\n",
    "The function takes a batch size, a design matrix,\n",
    "and a vector of labels, yielding minibatches of size `batch_size`.\n",
    "Each minibatch consists of an tuple of features and labels."
   ]
  },
  {
   "cell_type": "code",
   "execution_count": 5,
   "metadata": {
    "attributes": {
     "classes": [],
     "id": "",
     "n": "5"
    }
   },
   "outputs": [],
   "source": [
    "def data_iter(batch_size, features, labels):\n",
    "    num_examples = len(features)\n",
    "    indices = list(range(num_examples))\n",
    "    # The examples are read at random, in no particular order\n",
    "    random.shuffle(indices)\n",
    "    for i in range(0, num_examples, batch_size):\n",
    "        batch_indices = np.array(\n",
    "            indices[i: min(i + batch_size, num_examples)])\n",
    "        yield features[batch_indices], labels[batch_indices]"
   ]
  },
  {
   "cell_type": "markdown",
   "metadata": {},
   "source": [
    "In general, note that we want to use reasonably sized minibatches\n",
    "to take advantage of the GPU hardware,\n",
    "which excels at parallelizing operations.\n",
    "Because each example can be fed through our models in parallel\n",
    "and the gradient of the loss function for each example can also be taken in parallel,\n",
    "GPUs allow us to process hundreds of examples in scarcely more time\n",
    "than it might take to process just a single example.\n",
    "\n",
    "To build some intuition, let's read and print\n",
    "the first small batch of data examples.\n",
    "The shape of the features in each minibatch tells us\n",
    "both the minibatch size and the number of input features.\n",
    "Likewise, our minibatch of labels will have a shape given by `batch_size`."
   ]
  },
  {
   "cell_type": "code",
   "execution_count": 6,
   "metadata": {
    "attributes": {
     "classes": [],
     "id": "",
     "n": "6"
    }
   },
   "outputs": [],
   "source": [
    "batch_size = 10\n",
    "\n",
    "for X, y in data_iter(batch_size, features, labels):\n",
    "    print(X, '\\n', y)\n",
    "    break"
   ]
  },
  {
   "cell_type": "markdown",
   "metadata": {},
   "source": [
    "As we run the iterator, we obtain distinct minibatches \n",
    "successively until all the data has been exhausted (try this).\n",
    "While the iterator implemented above is good for didactic purposes,\n",
    "it is inefficient in ways that might get us in trouble on real problems.\n",
    "For example, it requires that we load all data in memory\n",
    "and that we perform lots of random memory access.\n",
    "The built-in iterators implemented in Apache MXNet\n",
    "are considerably efficient and they can deal\n",
    "both with data stored on file and data fed via a data stream.\n",
    "\n",
    "## Initializing Model Parameters\n",
    "\n",
    "Before we can begin optimizing our model's parameters by gradient descent,\n",
    "we need to have some parameters in the first place.\n",
    "In the following code, we initialize weights by sampling\n",
    "random numbers from a normal distribution with mean 0\n",
    "and a standard deviation of $0.01$, setting the bias $b$ to $0$."
   ]
  },
  {
   "cell_type": "code",
   "execution_count": 7,
   "metadata": {
    "attributes": {
     "classes": [],
     "id": "",
     "n": "7"
    }
   },
   "outputs": [],
   "source": [
    "w = np.random.normal(0, 0.01, (2, 1))\n",
    "b = np.zeros(1)"
   ]
  },
  {
   "cell_type": "markdown",
   "metadata": {},
   "source": [
    "Now that we have initialized our parameters,\n",
    "our next task is to update them until \n",
    "they fit our data sufficiently well.\n",
    "Each update requires taking the gradient\n",
    "(a multi-dimensional derivative)\n",
    "of our loss function with respect to the parameters.\n",
    "Given this gradient, we can update each parameter\n",
    "in the direction that reduces the loss.\n",
    "\n",
    "Since nobody wants to compute gradients explicitly\n",
    "(this is tedious and error prone),\n",
    "we use automatic differentiation to compute the gradient.\n",
    "See :numref:`sec_autograd` for more details.\n",
    "Recall from the autograd chapter\n",
    "that in order for `autograd` to know\n",
    "that it should store a gradient for our parameters,\n",
    "we need to invoke the `attach_grad` function,\n",
    "allocating memory to store the gradients that we plan to take."
   ]
  },
  {
   "cell_type": "code",
   "execution_count": 8,
   "metadata": {
    "attributes": {
     "classes": [],
     "id": "",
     "n": "8"
    }
   },
   "outputs": [],
   "source": [
    "w.attach_grad()\n",
    "b.attach_grad()"
   ]
  },
  {
   "cell_type": "markdown",
   "metadata": {},
   "source": [
    "## Defining the Model\n",
    "\n",
    "Next, we must define our model,\n",
    "relating its inputs and parameters to its outputs.\n",
    "Recall that to calculate the output of the linear model,\n",
    "we simply take the matrix-vector dot product\n",
    "of the examples $\\mathbf{X}$ and the models weights $w$,\n",
    "and add the offset $b$ to each example.\n",
    "Note that below `np.dot(X, w)` is a vector and `b` is a scalar.\n",
    "Recall that when we add a vector and a scalar,\n",
    "the scalar is added to each component of the vector."
   ]
  },
  {
   "cell_type": "code",
   "execution_count": 9,
   "metadata": {
    "attributes": {
     "classes": [],
     "id": "",
     "n": "9"
    }
   },
   "outputs": [],
   "source": [
    "# Saved in the d2l package for later use\n",
    "def linreg(X, w, b):\n",
    "    return np.dot(X, w) + b"
   ]
  },
  {
   "cell_type": "markdown",
   "metadata": {},
   "source": [
    "## Defining the Loss Function\n",
    "\n",
    "Since updating our model requires taking \n",
    "the gradient of our loss function,\n",
    "we ought to define the loss function first.\n",
    "Here we will use the squared loss function\n",
    "as described in the previous section.\n",
    "In the implementation, we need to transform the true value `y` \n",
    "into the predicted value's shape `y_hat`.\n",
    "The result returned by the following function\n",
    "will also be the same as the `y_hat` shape."
   ]
  },
  {
   "cell_type": "code",
   "execution_count": 10,
   "metadata": {
    "attributes": {
     "classes": [],
     "id": "",
     "n": "10"
    }
   },
   "outputs": [],
   "source": [
    "# Saved in the d2l package for later use\n",
    "def squared_loss(y_hat, y):\n",
    "    return (y_hat - y.reshape(y_hat.shape)) ** 2 / 2"
   ]
  },
  {
   "cell_type": "markdown",
   "metadata": {},
   "source": [
    "## Defining the Optimization Algorithm\n",
    "\n",
    "As we discussed in the previous section,\n",
    "linear regression has a closed-form solution.\n",
    "However, this is not a book about linear regression,\n",
    "it is a book about deep learning.\n",
    "Since none of the other models that this book introduces\n",
    "can be solved analytically, we will take this opportunity to introduce your first working example of stochastic gradient descent (SGD).\n",
    "\n",
    "\n",
    "At each step, using one batch randomly drawn from our dataset,\n",
    "we will estimate the gradient of the loss with respect to our parameters.\n",
    "Next, we will update our parameters (a small amount)\n",
    "in the direction that reduces the loss.\n",
    "Recall from :numref:`sec_autograd` that after we call `backward`\n",
    "each parameter (`param`) will have its gradient stored in `param.grad`.\n",
    "The following code applies the SGD update,\n",
    "given a set of parameters, a learning rate, and a batch size.\n",
    "The size of the update step is determined by the learning rate `lr`.\n",
    "Because our loss is calculated as a sum over the batch of examples,\n",
    "we normalize our step size by the batch size (`batch_size`),\n",
    "so that the magnitude of a typical step size\n",
    "does not depend heavily on our choice of the batch size."
   ]
  },
  {
   "cell_type": "code",
   "execution_count": 11,
   "metadata": {
    "attributes": {
     "classes": [],
     "id": "",
     "n": "11"
    }
   },
   "outputs": [],
   "source": [
    "# Saved in the d2l package for later use\n",
    "def sgd(params, lr, batch_size):\n",
    "    for param in params:\n",
    "        param[:] = param - lr * param.grad / batch_size"
   ]
  },
  {
   "cell_type": "markdown",
   "metadata": {},
   "source": [
    "## Training\n",
    "\n",
    "Now that we have all of the parts in place,\n",
    "we are ready to implement the main training loop.\n",
    "It is crucial that you understand this code\n",
    "because you will see nearly identical training loops\n",
    "over and over again throughout your career in deep learning.\n",
    "\n",
    "In each iteration, we will grab minibatches of models,\n",
    "first passing them through our model to obtain a set of predictions.\n",
    "After calculating the loss, we call the `backward` function\n",
    "to initiate the backwards pass through the network, \n",
    "storing the gradients with respect to each parameter\n",
    "in its corresponding `.grad` attribute.\n",
    "Finally, we will call the optimization algorithm `sgd`\n",
    "to update the model parameters.\n",
    "Since we previously set the batch size `batch_size` to $10$,\n",
    "the loss shape `l` for each minibatch is ($10$, $1$).\n",
    "\n",
    "In summary, we will execute the following loop:\n",
    "\n",
    "* Initialize parameters $(\\mathbf{w}, b)$\n",
    "* Repeat until done\n",
    "    * Compute gradient $\\mathbf{g} \\leftarrow \\partial_{(\\mathbf{w},b)} \\frac{1}{\\mathcal{B}} \\sum_{i \\in \\mathcal{B}} l(\\mathbf{x}^i, y^i, \\mathbf{w}, b)$\n",
    "    * Update parameters $(\\mathbf{w}, b) \\leftarrow (\\mathbf{w}, b) - \\eta \\mathbf{g}$\n",
    "\n",
    "In the code below, `l` is a vector of the losses\n",
    "for each example in the minibatch.\n",
    "Because `l` is not a scalar variable,\n",
    "running `l.backward()` adds together the elements in `l`\n",
    "to obtain the new variable and then calculates the gradient.\n",
    "\n",
    "In each epoch (a pass through the data),\n",
    "we will iterate through the entire dataset\n",
    "(using the `data_iter` function) once\n",
    "passing through every examples in the training dataset\n",
    "(assuming the number of examples is divisible by the batch size).\n",
    "The number of epochs `num_epochs` and the learning rate `lr` are both hyper-parameters, \n",
    "which we set here to $3$ and $0.03$, respectively. \n",
    "Unfortunately, setting hyper-parameters is tricky\n",
    "and requires some adjustment by trial and error.\n",
    "We elide these details for now but revise them\n",
    "later in\n",
    ":numref:`chap_optimization`."
   ]
  },
  {
   "cell_type": "code",
   "execution_count": 12,
   "metadata": {
    "attributes": {
     "classes": [],
     "id": "",
     "n": "12"
    }
   },
   "outputs": [],
   "source": [
    "lr = 0.03  # Learning rate\n",
    "num_epochs = 3  # Number of iterations\n",
    "net = linreg  # Our fancy linear model\n",
    "loss = squared_loss  # 0.5 (y-y')^2\n",
    "\n",
    "for epoch in range(num_epochs):\n",
    "    # Assuming the number of examples can be divided by the batch size, all\n",
    "    # the examples in the training dataset are used once in one epoch\n",
    "    # iteration. The features and tags of minibatch examples are given by X\n",
    "    # and y respectively\n",
    "    for X, y in data_iter(batch_size, features, labels):\n",
    "        with autograd.record():\n",
    "            l = loss(net(X, w, b), y)  # Minibatch loss in X and y\n",
    "        l.backward()  # Compute gradient on l with respect to [w, b]\n",
    "        sgd([w, b], lr, batch_size)  # Update parameters using their gradient\n",
    "    train_l = loss(net(features, w, b), labels)\n",
    "    print('epoch %d, loss %f' % (epoch + 1, train_l.mean().asnumpy()))"
   ]
  },
  {
   "cell_type": "markdown",
   "metadata": {},
   "source": [
    "In this case, because we synthesized the data ourselves,\n",
    "we know precisely what the true parameters are. \n",
    "Thus, we can evaluate our success in training \n",
    "by comparing the true parameters\n",
    "with those that we learned through our training loop. \n",
    "Indeed they turn out to be very close to each other."
   ]
  },
  {
   "cell_type": "code",
   "execution_count": 13,
   "metadata": {
    "attributes": {
     "classes": [],
     "id": "",
     "n": "13"
    }
   },
   "outputs": [],
   "source": [
    "print('Error in estimating w', true_w - w.reshape(true_w.shape))\n",
    "print('Error in estimating b', true_b - b)"
   ]
  },
  {
   "cell_type": "markdown",
   "metadata": {},
   "source": [
    "Note that we should not take it for granted\n",
    "that we are able to recover the parameters accurately.\n",
    "This only happens for a special category problems:\n",
    "strongly convex optimization problems with \"enough\" data to ensure\n",
    "that the noisy samples allow us to recover the underlying dependency.\n",
    "In most cases this is *not* the case.\n",
    "In fact, the parameters of a deep network \n",
    "are rarely the same (or even close) between two different runs, \n",
    "unless all conditions are identical,\n",
    "including the order in which the data is traversed.\n",
    "However, in machine learning, we are typically less concerned\n",
    "with recovering true underlying parameters,\n",
    "and more concerned with parameters that lead to accurate prediction.\n",
    "Fortunately, even on difficult optimization problems,\n",
    "stochastic gradient descent can often find remarkably good solutions,\n",
    "owing partly to the fact that, for deep networks,\n",
    "there exist many configurations of the parameters \n",
    "that lead to accurate prediction.\n",
    "\n",
    "## Summary\n",
    "\n",
    "We saw how a deep network can be implemented\n",
    "and optimized from scratch, using just `ndarray` and `autograd`,\n",
    "without any need for defining layers, fancy optimizers, etc.\n",
    "This only scratches the surface of what is possible.\n",
    "In the following sections, we will describe additional models\n",
    "based on the concepts that we have just introduced\n",
    "and learn how to implement them more concisely.\n",
    "\n",
    "## Exercises\n",
    "\n",
    "1. What would happen if we were to initialize the weights $\\mathbf{w} = 0$. Would the algorithm still work?\n",
    "1. Assume that you are [Georg Simon Ohm](https://en.wikipedia.org/wiki/Georg_Ohm) trying to come up with a model between voltage and current. Can you use `autograd` to learn the parameters of your model.\n",
    "1. Can you use [Planck's Law](https://en.wikipedia.org/wiki/Planck%27s_law) to determine the temperature of an object using spectral energy density?\n",
    "1. What are the problems you might encounter if you wanted to extend `autograd` to second derivatives? How would you fix them?\n",
    "1.  Why is the `reshape` function needed in the `squared_loss` function?\n",
    "1. Experiment using different learning rates to find out how fast the loss function value drops.\n",
    "1. If the number of examples cannot be divided by the batch size, what happens to the `data_iter` function's behavior?\n",
    "\n",
    "## [Discussions](https://discuss.mxnet.io/t/2332)\n",
    "\n",
    "![](../img/qr_linear-regression-scratch.svg)"
   ]
  }
 ],
 "metadata": {
  "kernelspec": {
   "display_name": "Python 3",
   "name": "python3"
  },
  "language_info": {
   "name": "python"
  }
 },
 "nbformat": 4,
 "nbformat_minor": 2
}