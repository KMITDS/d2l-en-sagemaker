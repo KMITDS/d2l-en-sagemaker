{
 "cells": [
  {
   "cell_type": "markdown",
   "metadata": {},
   "source": [
    "Installing (updating) the following libraries for your Sagemaker\n",
    "instance."
   ]
  },
  {
   "cell_type": "code",
   "execution_count": null,
   "metadata": {},
   "outputs": [],
   "source": [
    "!pip install -U mxnet-cu101mkl==1.6.0  # updating mxnet to at least v1.6\n",
    "!pip install ..  # installing d2l\n"
   ]
  },
  {
   "cell_type": "markdown",
   "metadata": {
    "origin_pos": 0
   },
   "source": [
    "# Concise Implementation of Linear Regression\n",
    ":label:`sec_linear_gluon`\n",
    "\n",
    "Broad and intense interest in deep learning for the past several years\n",
    "has inspired both companies, academics, and hobbyists\n",
    "to develop a variety of mature open source frameworks\n",
    "for automating the repetitive work of implementing\n",
    "gradient-based learning algorithms.\n",
    "In the previous section, we relied only on\n",
    "(i) `ndarray` for data storage and linear algebra;\n",
    "and (ii) auto differentiation for calculating derivatives.\n",
    "In practice, because data iterators, loss functions, optimizers,\n",
    "and neural network layers (and some whole architectures)\n",
    "are so common, modern libraries implement these components for us as well.\n",
    "\n",
    "In this section, we will show you how to implement\n",
    "the linear regression model from :numref:`sec_linear_scratch`\n",
    "concisely by using framework's high-level APIs.\n",
    "\n",
    "## Generating the Dataset\n",
    "\n",
    "To start, we will generate the same dataset as in the previous section."
   ]
  },
  {
   "cell_type": "markdown",
   "metadata": {},
   "source": [
    "```eval_rst\n",
    "\n",
    ".. raw:: html\n",
    "\n",
    "    <div class=\"mdl-tabs mdl-js-tabs mdl-js-ripple-effect\"><div class=\"mdl-tabs__tab-bar text\"><a href=\"#mxnet-1-0\" class=\"mdl-tabs__tab is-active\">mxnet</a><a href=\"#pytorch-1-1\" class=\"mdl-tabs__tab \">pytorch</a></div>\n",
    "```"
   ]
  },
  {
   "cell_type": "markdown",
   "metadata": {},
   "source": [
    "```eval_rst\n",
    ".. raw:: html\n",
    "\n",
    "    <div class=\"mdl-tabs__panel is-active\" id=\"mxnet-1-0\">\n",
    "```"
   ]
  },
  {
   "cell_type": "code",
   "execution_count": 1,
   "metadata": {
    "origin_pos": 1,
    "tab": "mxnet"
   },
   "outputs": [],
   "source": [
    "from d2l import mxnet as d2l\n",
    "from mxnet import autograd, gluon, np, npx\n",
    "npx.set_np()\n",
    "\n",
    "true_w = np.array([2, -3.4])\n",
    "true_b = 4.2\n",
    "features, labels = d2l.synthetic_data(true_w, true_b, 1000)"
   ]
  },
  {
   "cell_type": "markdown",
   "metadata": {},
   "source": [
    "```eval_rst\n",
    ".. raw:: html\n",
    "\n",
    "    </div>\n",
    "```"
   ]
  },
  {
   "cell_type": "markdown",
   "metadata": {},
   "source": [
    "```eval_rst\n",
    ".. raw:: html\n",
    "\n",
    "    <div class=\"mdl-tabs__panel \" id=\"pytorch-1-1\">\n",
    "```"
   ]
  },
  {
   "cell_type": "code",
   "execution_count": 1,
   "metadata": {
    "origin_pos": 2,
    "tab": "pytorch"
   },
   "outputs": [],
   "source": [
    "from d2l import torch as d2l\n",
    "import numpy as np\n",
    "import torch\n",
    "from torch.utils import data\n",
    "\n",
    "true_w = torch.Tensor([2, -3.4])\n",
    "true_b = 4.2\n",
    "features, labels = d2l.synthetic_data(true_w, true_b, 1000)\n",
    "labels = labels.reshape(-1,1)"
   ]
  },
  {
   "cell_type": "markdown",
   "metadata": {},
   "source": [
    "```eval_rst\n",
    ".. raw:: html\n",
    "\n",
    "    </div>\n",
    "```"
   ]
  },
  {
   "cell_type": "markdown",
   "metadata": {},
   "source": [
    "```eval_rst\n",
    ".. raw:: html\n",
    "\n",
    "    </div>\n",
    "```"
   ]
  },
  {
   "cell_type": "markdown",
   "metadata": {
    "origin_pos": 3
   },
   "source": [
    "## Reading the Dataset\n",
    "\n",
    "Rather than rolling our own iterator,\n",
    "we can call upon the `data` module to read data.\n",
    "The first step will be to instantiate an `ArrayDataset`.\n",
    "This object's constructor takes one or more `ndarray`s as arguments.\n",
    "Here, we pass in `features` and `labels` as arguments.\n",
    "Next, we will use the `ArrayDataset` to instantiate a `DataLoader`,\n",
    "which also requires that we specify a `batch_size`\n",
    "and specify a Boolean value `shuffle` indicating whether or not\n",
    "we want the `DataLoader` to shuffle the data\n",
    "on each epoch (pass through the dataset)."
   ]
  },
  {
   "cell_type": "markdown",
   "metadata": {},
   "source": [
    "```eval_rst\n",
    "\n",
    ".. raw:: html\n",
    "\n",
    "    <div class=\"mdl-tabs mdl-js-tabs mdl-js-ripple-effect\"><div class=\"mdl-tabs__tab-bar text\"><a href=\"#mxnet-3-0\" class=\"mdl-tabs__tab is-active\">mxnet</a><a href=\"#pytorch-3-1\" class=\"mdl-tabs__tab \">pytorch</a></div>\n",
    "```"
   ]
  },
  {
   "cell_type": "markdown",
   "metadata": {},
   "source": [
    "```eval_rst\n",
    ".. raw:: html\n",
    "\n",
    "    <div class=\"mdl-tabs__panel is-active\" id=\"mxnet-3-0\">\n",
    "```"
   ]
  },
  {
   "cell_type": "code",
   "execution_count": 2,
   "metadata": {
    "origin_pos": 4,
    "tab": "mxnet"
   },
   "outputs": [],
   "source": [
    "def load_array(data_arrays, batch_size, is_train=True):  #@save\n",
    "    \"\"\"Construct a Gluon data loader.\"\"\"\n",
    "    dataset = gluon.data.ArrayDataset(*data_arrays)\n",
    "    return gluon.data.DataLoader(dataset, batch_size, shuffle=is_train)\n",
    "\n",
    "batch_size = 10\n",
    "data_iter = load_array((features, labels), batch_size)"
   ]
  },
  {
   "cell_type": "markdown",
   "metadata": {},
   "source": [
    "```eval_rst\n",
    ".. raw:: html\n",
    "\n",
    "    </div>\n",
    "```"
   ]
  },
  {
   "cell_type": "markdown",
   "metadata": {},
   "source": [
    "```eval_rst\n",
    ".. raw:: html\n",
    "\n",
    "    <div class=\"mdl-tabs__panel \" id=\"pytorch-3-1\">\n",
    "```"
   ]
  },
  {
   "cell_type": "code",
   "execution_count": 2,
   "metadata": {
    "origin_pos": 5,
    "tab": "pytorch"
   },
   "outputs": [],
   "source": [
    "def load_array(data_arrays, batch_size, is_train=True):  #@save\n",
    "    \"\"\"Construct a PyTorch data loader\"\"\"\n",
    "    dataset = data.TensorDataset(*data_arrays)\n",
    "    return data.DataLoader(dataset, batch_size, shuffle=is_train)\n",
    "\n",
    "batch_size = 10\n",
    "data_iter = load_array((features, labels), batch_size)"
   ]
  },
  {
   "cell_type": "markdown",
   "metadata": {},
   "source": [
    "```eval_rst\n",
    ".. raw:: html\n",
    "\n",
    "    </div>\n",
    "```"
   ]
  },
  {
   "cell_type": "markdown",
   "metadata": {},
   "source": [
    "```eval_rst\n",
    ".. raw:: html\n",
    "\n",
    "    </div>\n",
    "```"
   ]
  },
  {
   "cell_type": "markdown",
   "metadata": {
    "origin_pos": 6
   },
   "source": [
    "Now we can use `data_iter` in much the same way as we called\n",
    "the `data_iter` function in the previous section.\n",
    "To verify that it is working, we can read and print\n",
    "the first minibatch of instances. Comparing to :numref:`sec_linear_scratch`, here we use `iter` to construct an Python iterator and then use `next` to obtain the first item from the iterator."
   ]
  },
  {
   "cell_type": "markdown",
   "metadata": {},
   "source": [
    "```eval_rst\n",
    "\n",
    ".. raw:: html\n",
    "\n",
    "    <div class=\"mdl-tabs mdl-js-tabs mdl-js-ripple-effect\"><div class=\"mdl-tabs__tab-bar text\"><a href=\"#mxnet-5-0\" class=\"mdl-tabs__tab is-active\">mxnet</a><a href=\"#pytorch-5-1\" class=\"mdl-tabs__tab \">pytorch</a></div>\n",
    "```"
   ]
  },
  {
   "cell_type": "markdown",
   "metadata": {},
   "source": [
    "```eval_rst\n",
    ".. raw:: html\n",
    "\n",
    "    <div class=\"mdl-tabs__panel is-active\" id=\"mxnet-5-0\">\n",
    "```"
   ]
  },
  {
   "cell_type": "code",
   "execution_count": 3,
   "metadata": {
    "origin_pos": 7,
    "tab": "mxnet"
   },
   "outputs": [
    {
     "data": {
      "text/plain": [
       "[array([[ 1.3233095 , -0.94721663],\n",
       "        [ 0.74126935,  1.9509358 ],\n",
       "        [ 2.2813854 , -1.0772606 ],\n",
       "        [ 1.5507985 , -1.2396647 ],\n",
       "        [ 1.2976801 , -1.5063347 ],\n",
       "        [ 0.09016981, -0.5549816 ],\n",
       "        [-1.2246618 ,  0.08797777],\n",
       "        [ 0.07801306, -0.98644793],\n",
       "        [ 0.7231325 , -0.35720438],\n",
       "        [-0.336258  ,  0.47182375]]),\n",
       " array([10.065621 , -0.9511408, 12.43578  , 11.525208 , 11.924601 ,\n",
       "         6.2645936,  1.4494321,  7.7167864,  6.8564215,  1.9278164])]"
      ]
     },
     "execution_count": 3,
     "metadata": {},
     "output_type": "execute_result"
    }
   ],
   "source": [
    "next(iter(data_iter))"
   ]
  },
  {
   "cell_type": "markdown",
   "metadata": {},
   "source": [
    "```eval_rst\n",
    ".. raw:: html\n",
    "\n",
    "    </div>\n",
    "```"
   ]
  },
  {
   "cell_type": "markdown",
   "metadata": {},
   "source": [
    "```eval_rst\n",
    ".. raw:: html\n",
    "\n",
    "    <div class=\"mdl-tabs__panel \" id=\"pytorch-5-1\">\n",
    "```"
   ]
  },
  {
   "cell_type": "code",
   "execution_count": 3,
   "metadata": {
    "origin_pos": 8,
    "tab": "pytorch"
   },
   "outputs": [
    {
     "data": {
      "text/plain": [
       "[tensor([[-0.8123,  0.1376],\n",
       "         [ 0.6098, -0.3520],\n",
       "         [-0.2819, -0.8156],\n",
       "         [-0.7643,  0.5029],\n",
       "         [ 1.7018,  0.8940],\n",
       "         [ 0.0044,  1.6632],\n",
       "         [ 0.0104,  0.5718],\n",
       "         [-0.3610,  1.2840],\n",
       "         [ 0.5950, -1.4920],\n",
       "         [ 1.6771, -0.9707]]),\n",
       " tensor([[ 2.0963],\n",
       "         [ 6.6269],\n",
       "         [ 6.4154],\n",
       "         [ 0.9576],\n",
       "         [ 4.5704],\n",
       "         [-1.4372],\n",
       "         [ 2.2806],\n",
       "         [-0.8868],\n",
       "         [10.4626],\n",
       "         [10.8526]])]"
      ]
     },
     "execution_count": 3,
     "metadata": {},
     "output_type": "execute_result"
    }
   ],
   "source": [
    "next(iter(data_iter))"
   ]
  },
  {
   "cell_type": "markdown",
   "metadata": {},
   "source": [
    "```eval_rst\n",
    ".. raw:: html\n",
    "\n",
    "    </div>\n",
    "```"
   ]
  },
  {
   "cell_type": "markdown",
   "metadata": {},
   "source": [
    "```eval_rst\n",
    ".. raw:: html\n",
    "\n",
    "    </div>\n",
    "```"
   ]
  },
  {
   "cell_type": "markdown",
   "metadata": {
    "origin_pos": 9
   },
   "source": [
    "## Defining the Model\n",
    "\n",
    "When we implemented linear regression from scratch\n",
    "(in :numref:`sec_linear_scratch`),\n",
    "we defined our model parameters explicitly\n",
    "and coded up the calculations to produce output\n",
    "using basic linear algebra operations.\n",
    "You *should* know how to do this.\n",
    "But once your models get more complex,\n",
    "and once you have to do this nearly every day,\n",
    "you will be glad for the assistance.\n",
    "The situation is similar to coding up your own blog from scratch.\n",
    "Doing it once or twice is rewarding and instructive,\n",
    "but you would be a lousy web developer\n",
    "if every time you needed a blog you spent a month\n",
    "reinventing the wheel.\n",
    "\n",
    "For standard operations, we can use the framework's predefined layers,\n",
    "which allow us to focus especially\n",
    "on the layers used to construct the model\n",
    "rather than having to focus on the implementation.\n",
    "To define a linear model, we first import the `nn` module,\n",
    "which defines a large number of neural network layers\n",
    "(note that \"nn\" is an abbreviation for neural networks).\n",
    "We will first define a model variable `net`,\n",
    "which will refer to an instance of the `Sequential` class.\n",
    "The `Sequential` class defines a container\n",
    "for several layers that will be chained together.\n",
    "Given input data, a `Sequential` passes it through\n",
    "the first layer, in turn passing the output\n",
    "as the second layer's input and so forth.\n",
    "In the following example, our model consists of only one layer,\n",
    "so we do not really need `Sequential`.\n",
    "But since nearly all of our future models\n",
    "will involve multiple layers,\n",
    "we will use it anyway just to familiarize you\n",
    "with the most standard workflow.\n",
    "\n",
    "Recall the architecture of a single-layer network as shown in :numref:`fig_singleneuron`.\n",
    "The layer is said to be *fully-connected*\n",
    "because each of its inputs are connected to each of its outputs\n",
    "by means of a matrix-vector multiplication.\n",
    "\n",
    "![Linear regression is a single-layer neural network. ](../img/singleneuron.svg)\n",
    ":label:`fig_singleneuron`"
   ]
  },
  {
   "cell_type": "markdown",
   "metadata": {},
   "source": [
    "```eval_rst\n",
    "\n",
    ".. raw:: html\n",
    "\n",
    "    <div class=\"mdl-tabs mdl-js-tabs mdl-js-ripple-effect\"><div class=\"mdl-tabs__tab-bar text\"><a href=\"#mxnet-7-0\" class=\"mdl-tabs__tab is-active\">mxnet</a><a href=\"#pytorch-7-1\" class=\"mdl-tabs__tab \">pytorch</a></div>\n",
    "```"
   ]
  },
  {
   "cell_type": "markdown",
   "metadata": {},
   "source": [
    "```eval_rst\n",
    ".. raw:: html\n",
    "\n",
    "    <div class=\"mdl-tabs__panel is-active\" id=\"mxnet-7-0\">\n",
    "```"
   ]
  },
  {
   "cell_type": "code",
   "execution_count": 4,
   "metadata": {
    "origin_pos": 10,
    "tab": "mxnet"
   },
   "outputs": [],
   "source": [
    "from mxnet.gluon import nn\n",
    "net = nn.Sequential()\n",
    "net.add(nn.Dense(1))"
   ]
  },
  {
   "cell_type": "markdown",
   "metadata": {
    "origin_pos": 12,
    "tab": "mxnet"
   },
   "source": [
    "In Gluon, the fully-connected layer is defined in the `Dense` class.\n",
    "Since we only want to generate a single scalar output,\n",
    "we set that number to $1$.\n",
    "\n",
    "It is worth noting that, for convenience,\n",
    "Gluon does not require us to specify\n",
    "the input shape for each layer.\n",
    "So here, we do not need to tell Gluon\n",
    "how many inputs go into this linear layer.\n",
    "When we first try to pass data through our model,\n",
    "e.g., when we execute `net(X)` later,\n",
    "Gluon will automatically infer the number of inputs to each layer.\n",
    "We will describe how this works in more detail\n",
    "in the chapter \"Deep Learning Computation\"."
   ]
  },
  {
   "cell_type": "markdown",
   "metadata": {},
   "source": [
    "```eval_rst\n",
    ".. raw:: html\n",
    "\n",
    "    </div>\n",
    "```"
   ]
  },
  {
   "cell_type": "markdown",
   "metadata": {},
   "source": [
    "```eval_rst\n",
    ".. raw:: html\n",
    "\n",
    "    <div class=\"mdl-tabs__panel \" id=\"pytorch-7-1\">\n",
    "```"
   ]
  },
  {
   "cell_type": "code",
   "execution_count": 4,
   "metadata": {
    "origin_pos": 11,
    "tab": "pytorch"
   },
   "outputs": [],
   "source": [
    "from torch import nn\n",
    "net = nn.Sequential(nn.Linear(2, 1))"
   ]
  },
  {
   "cell_type": "markdown",
   "metadata": {
    "origin_pos": 13,
    "tab": "pytorch"
   },
   "source": [
    "In Gluon, the fully-connected layer is defined in the `Linear` class. Note that we passed two arguments into `nn.Linear`. The first one specifies the input feature dimension, which is 2, and the second one is the output feature dimension, which is a single scalar and therefore 1."
   ]
  },
  {
   "cell_type": "markdown",
   "metadata": {},
   "source": [
    "```eval_rst\n",
    ".. raw:: html\n",
    "\n",
    "    </div>\n",
    "```"
   ]
  },
  {
   "cell_type": "markdown",
   "metadata": {},
   "source": [
    "```eval_rst\n",
    ".. raw:: html\n",
    "\n",
    "    </div>\n",
    "```"
   ]
  },
  {
   "cell_type": "markdown",
   "metadata": {
    "origin_pos": 14
   },
   "source": [
    "\n",
    "## Initializing Model Parameters\n",
    "\n",
    "Before using `net`, we need to initialize the model parameters,\n",
    "such as the weights and biases in the linear regression model.\n"
   ]
  },
  {
   "cell_type": "markdown",
   "metadata": {},
   "source": [
    "```eval_rst\n",
    "\n",
    ".. raw:: html\n",
    "\n",
    "    <div class=\"mdl-tabs mdl-js-tabs mdl-js-ripple-effect\"><div class=\"mdl-tabs__tab-bar text\"><a href=\"#mxnet-9-0\" class=\"mdl-tabs__tab is-active\">mxnet</a><a href=\"#pytorch-9-1\" class=\"mdl-tabs__tab \">pytorch</a></div>\n",
    "```"
   ]
  },
  {
   "cell_type": "markdown",
   "metadata": {},
   "source": [
    "```eval_rst\n",
    ".. raw:: html\n",
    "\n",
    "    <div class=\"mdl-tabs__panel is-active\" id=\"mxnet-9-0\">\n",
    "```"
   ]
  },
  {
   "cell_type": "markdown",
   "metadata": {
    "origin_pos": 15,
    "tab": "mxnet"
   },
   "source": [
    "We will import the `initializer` module from MXNet.\n",
    "This module provides various methods for model parameter initialization.\n",
    "Gluon makes `init` available as a shortcut (abbreviation)\n",
    "to access the `initializer` package.\n",
    "By calling `init.Normal(sigma=0.01)`,\n",
    "we specify that each *weight* parameter\n",
    "should be randomly sampled from a normal distribution\n",
    "with mean $0$ and standard deviation $0.01$.\n",
    "The *bias* parameter will be initialized to zero by default.\n",
    "Both the weight vector and bias will have attached gradients."
   ]
  },
  {
   "cell_type": "code",
   "execution_count": 5,
   "metadata": {
    "origin_pos": 17,
    "tab": "mxnet"
   },
   "outputs": [],
   "source": [
    "from mxnet import init\n",
    "net.initialize(init.Normal(sigma=0.01))"
   ]
  },
  {
   "cell_type": "markdown",
   "metadata": {
    "origin_pos": 19,
    "tab": "mxnet"
   },
   "source": [
    "The code above may look straightforward but you should note\n",
    "that something strange is happening here.\n",
    "We are initializing parameters for a network\n",
    "even though Gluon does not yet know\n",
    "how many dimensions the input will have!\n",
    "It might be $2$ as in our example or it might be $2000$.\n",
    "Gluon lets us get away with this because behind the scenes,\n",
    "the initialization is actually *deferred*.\n",
    "The real initialization will take place only\n",
    "when we for the first time attempt to pass data through the network.\n",
    "Just be careful to remember that since the parameters\n",
    "have not been initialized yet,\n",
    "we cannot access or manipulate them."
   ]
  },
  {
   "cell_type": "markdown",
   "metadata": {},
   "source": [
    "```eval_rst\n",
    ".. raw:: html\n",
    "\n",
    "    </div>\n",
    "```"
   ]
  },
  {
   "cell_type": "markdown",
   "metadata": {},
   "source": [
    "```eval_rst\n",
    ".. raw:: html\n",
    "\n",
    "    <div class=\"mdl-tabs__panel \" id=\"pytorch-9-1\">\n",
    "```"
   ]
  },
  {
   "cell_type": "markdown",
   "metadata": {
    "origin_pos": 16,
    "tab": "pytorch"
   },
   "source": [
    "As we have specified the input and output dimensions when constructing `nn.Linear`. Now we access the parameters directly to specify there initial values. We first locate the layer by `net[0]`, which is the first layer in the network, and then use the `weight.data` and `bias.data` methods to access the parameters. Next we use the replace methods `uniform_` and `fill_` to overwrite parameter values."
   ]
  },
  {
   "cell_type": "code",
   "execution_count": 5,
   "metadata": {
    "origin_pos": 18,
    "tab": "pytorch"
   },
   "outputs": [
    {
     "data": {
      "text/plain": [
       "tensor([0.])"
      ]
     },
     "execution_count": 5,
     "metadata": {},
     "output_type": "execute_result"
    }
   ],
   "source": [
    "net[0].weight.data.uniform_(0.0, 0.01)\n",
    "net[0].bias.data.fill_(0)"
   ]
  },
  {
   "cell_type": "markdown",
   "metadata": {
    "origin_pos": 20,
    "tab": "pytorch"
   },
   "source": []
  },
  {
   "cell_type": "markdown",
   "metadata": {},
   "source": [
    "```eval_rst\n",
    ".. raw:: html\n",
    "\n",
    "    </div>\n",
    "```"
   ]
  },
  {
   "cell_type": "markdown",
   "metadata": {},
   "source": [
    "```eval_rst\n",
    ".. raw:: html\n",
    "\n",
    "    </div>\n",
    "```"
   ]
  },
  {
   "cell_type": "markdown",
   "metadata": {
    "origin_pos": 21
   },
   "source": [
    "\n",
    "## Defining the Loss Function\n"
   ]
  },
  {
   "cell_type": "markdown",
   "metadata": {},
   "source": [
    "```eval_rst\n",
    "\n",
    ".. raw:: html\n",
    "\n",
    "    <div class=\"mdl-tabs mdl-js-tabs mdl-js-ripple-effect\"><div class=\"mdl-tabs__tab-bar text\"><a href=\"#mxnet-11-0\" class=\"mdl-tabs__tab is-active\">mxnet</a><a href=\"#pytorch-11-1\" class=\"mdl-tabs__tab \">pytorch</a></div>\n",
    "```"
   ]
  },
  {
   "cell_type": "markdown",
   "metadata": {},
   "source": [
    "```eval_rst\n",
    ".. raw:: html\n",
    "\n",
    "    <div class=\"mdl-tabs__panel is-active\" id=\"mxnet-11-0\">\n",
    "```"
   ]
  },
  {
   "cell_type": "markdown",
   "metadata": {
    "origin_pos": 22,
    "tab": "mxnet"
   },
   "source": [
    "In Gluon, the `loss` module defines various loss functions.\n",
    "We will use the imported module `loss` with the pseudonym `gloss`\n",
    "to avoid confusing it for the variable\n",
    "holding our chosen loss function.\n",
    "In this example, we will use the Gluon\n",
    "implementation of squared loss (`L2Loss`)."
   ]
  },
  {
   "cell_type": "code",
   "execution_count": 6,
   "metadata": {
    "origin_pos": 24,
    "tab": "mxnet"
   },
   "outputs": [],
   "source": [
    "from mxnet.gluon import loss as gloss\n",
    "loss = gloss.L2Loss()"
   ]
  },
  {
   "cell_type": "markdown",
   "metadata": {},
   "source": [
    "```eval_rst\n",
    ".. raw:: html\n",
    "\n",
    "    </div>\n",
    "```"
   ]
  },
  {
   "cell_type": "markdown",
   "metadata": {},
   "source": [
    "```eval_rst\n",
    ".. raw:: html\n",
    "\n",
    "    <div class=\"mdl-tabs__panel \" id=\"pytorch-11-1\">\n",
    "```"
   ]
  },
  {
   "cell_type": "markdown",
   "metadata": {
    "origin_pos": 23,
    "tab": "pytorch"
   },
   "source": [
    "The `MSELoss` class compute the mean squared error, also known as squared L2 norm. In default it returns the averaged loss over examples."
   ]
  },
  {
   "cell_type": "code",
   "execution_count": 6,
   "metadata": {
    "origin_pos": 25,
    "tab": "pytorch"
   },
   "outputs": [],
   "source": [
    "loss = nn.MSELoss()"
   ]
  },
  {
   "cell_type": "markdown",
   "metadata": {},
   "source": [
    "```eval_rst\n",
    ".. raw:: html\n",
    "\n",
    "    </div>\n",
    "```"
   ]
  },
  {
   "cell_type": "markdown",
   "metadata": {},
   "source": [
    "```eval_rst\n",
    ".. raw:: html\n",
    "\n",
    "    </div>\n",
    "```"
   ]
  },
  {
   "cell_type": "markdown",
   "metadata": {
    "origin_pos": 26
   },
   "source": [
    "## Defining the Optimization Algorithm\n"
   ]
  },
  {
   "cell_type": "markdown",
   "metadata": {},
   "source": [
    "```eval_rst\n",
    "\n",
    ".. raw:: html\n",
    "\n",
    "    <div class=\"mdl-tabs mdl-js-tabs mdl-js-ripple-effect\"><div class=\"mdl-tabs__tab-bar text\"><a href=\"#mxnet-13-0\" class=\"mdl-tabs__tab is-active\">mxnet</a><a href=\"#pytorch-13-1\" class=\"mdl-tabs__tab \">pytorch</a></div>\n",
    "```"
   ]
  },
  {
   "cell_type": "markdown",
   "metadata": {},
   "source": [
    "```eval_rst\n",
    ".. raw:: html\n",
    "\n",
    "    <div class=\"mdl-tabs__panel is-active\" id=\"mxnet-13-0\">\n",
    "```"
   ]
  },
  {
   "cell_type": "markdown",
   "metadata": {
    "origin_pos": 27,
    "tab": "mxnet"
   },
   "source": [
    "Minibatch SGD and related variants\n",
    "are standard tools for optimizing neural networks\n",
    "and thus Gluon supports SGD alongside a number of\n",
    "variations on this algorithm through its `Trainer` class.\n",
    "When we instantiate the `Trainer`,\n",
    "we will specify the parameters to optimize over\n",
    "(obtainable from our net via `net.collect_params()`),\n",
    "the optimization algorithm we wish to use (`sgd`),\n",
    "and a dictionary of hyper-parameters\n",
    "required by our optimization algorithm.\n",
    "SGD just requires that we set the value `learning_rate`,\n",
    "(here we set it to 0.03)."
   ]
  },
  {
   "cell_type": "code",
   "execution_count": 7,
   "metadata": {
    "origin_pos": 29,
    "tab": "mxnet"
   },
   "outputs": [],
   "source": [
    "from mxnet import gluon\n",
    "trainer = gluon.Trainer(net.collect_params(), 'sgd', {'learning_rate': 0.03})"
   ]
  },
  {
   "cell_type": "markdown",
   "metadata": {},
   "source": [
    "```eval_rst\n",
    ".. raw:: html\n",
    "\n",
    "    </div>\n",
    "```"
   ]
  },
  {
   "cell_type": "markdown",
   "metadata": {},
   "source": [
    "```eval_rst\n",
    ".. raw:: html\n",
    "\n",
    "    <div class=\"mdl-tabs__panel \" id=\"pytorch-13-1\">\n",
    "```"
   ]
  },
  {
   "cell_type": "markdown",
   "metadata": {
    "origin_pos": 28,
    "tab": "pytorch"
   },
   "source": [
    "Minibatch SGD and related variants\n",
    "are standard tools for optimizing neural networks\n",
    "and thus PyTorch supports SGD alongside a number of\n",
    "variations on this algorithm in the `optim` module.\n",
    "When we instantiate a SGD instance,\n",
    "we will specify the parameters to optimize over\n",
    "(obtainable from our net via `net.parameters()`), with a dictionary of hyper-parameters\n",
    "required by our optimization algorithm.\n",
    "SGD just requires that we set the value `learning_rate`,\n",
    "(here we set it to 0.03)."
   ]
  },
  {
   "cell_type": "code",
   "execution_count": 7,
   "metadata": {
    "origin_pos": 30,
    "tab": "pytorch"
   },
   "outputs": [],
   "source": [
    "trainer = torch.optim.SGD(net.parameters(), lr = .03)"
   ]
  },
  {
   "cell_type": "markdown",
   "metadata": {},
   "source": [
    "```eval_rst\n",
    ".. raw:: html\n",
    "\n",
    "    </div>\n",
    "```"
   ]
  },
  {
   "cell_type": "markdown",
   "metadata": {},
   "source": [
    "```eval_rst\n",
    ".. raw:: html\n",
    "\n",
    "    </div>\n",
    "```"
   ]
  },
  {
   "cell_type": "markdown",
   "metadata": {
    "origin_pos": 31
   },
   "source": [
    "## Training\n",
    "\n",
    "You might have noticed that expressing our model through Gluon\n",
    "requires comparatively few lines of code.\n",
    "We did not have to individually allocate parameters,\n",
    "define our loss function, or implement stochastic gradient descent.\n",
    "Once we start working with much more complex models,\n",
    "Gluon's advantages will grow considerably.\n",
    "However, once we have all the basic pieces in place,\n",
    "the training loop itself is strikingly similar\n",
    "to what we did when implementing everything from scratch.\n",
    "\n",
    "To refresh your memory: for some number of epochs,\n",
    "we will make a complete pass over the dataset (train_data),\n",
    "iteratively grabbing one minibatch of inputs\n",
    "and the corresponding ground-truth labels.\n",
    "For each minibatch, we go through the following ritual:\n",
    "\n",
    "* Generate predictions by calling `net(X)` and calculate the loss `l` (the forward pass).\n",
    "* Calculate gradients by calling `l.backward()` (the backward pass).\n",
    "* Update the model parameters by invoking our SGD optimizer (note that `trainer` already knows which parameters to optimize over, so we just need to pass in the minibatch size.\n",
    "\n",
    "For good measure, we compute the loss after each epoch and print it to monitor progress."
   ]
  },
  {
   "cell_type": "markdown",
   "metadata": {},
   "source": [
    "```eval_rst\n",
    "\n",
    ".. raw:: html\n",
    "\n",
    "    <div class=\"mdl-tabs mdl-js-tabs mdl-js-ripple-effect\"><div class=\"mdl-tabs__tab-bar text\"><a href=\"#mxnet-15-0\" class=\"mdl-tabs__tab is-active\">mxnet</a><a href=\"#pytorch-15-1\" class=\"mdl-tabs__tab \">pytorch</a></div>\n",
    "```"
   ]
  },
  {
   "cell_type": "markdown",
   "metadata": {},
   "source": [
    "```eval_rst\n",
    ".. raw:: html\n",
    "\n",
    "    <div class=\"mdl-tabs__panel is-active\" id=\"mxnet-15-0\">\n",
    "```"
   ]
  },
  {
   "cell_type": "code",
   "execution_count": 8,
   "metadata": {
    "origin_pos": 32,
    "tab": "mxnet"
   },
   "outputs": [
    {
     "name": "stdout",
     "output_type": "stream",
     "text": [
      "epoch 1, loss: 0.025103\n"
     ]
    },
    {
     "name": "stdout",
     "output_type": "stream",
     "text": [
      "epoch 2, loss: 0.000087\n"
     ]
    },
    {
     "name": "stdout",
     "output_type": "stream",
     "text": [
      "epoch 3, loss: 0.000051\n"
     ]
    }
   ],
   "source": [
    "num_epochs = 3\n",
    "for epoch in range(1, num_epochs + 1):\n",
    "    for X, y in data_iter:\n",
    "        with autograd.record():\n",
    "            l = loss(net(X), y)\n",
    "        l.backward()\n",
    "        trainer.step(batch_size)\n",
    "    l = loss(net(features), labels)\n",
    "    print('epoch %d, loss: %f' % (epoch, l.mean().asnumpy()))"
   ]
  },
  {
   "cell_type": "markdown",
   "metadata": {},
   "source": [
    "```eval_rst\n",
    ".. raw:: html\n",
    "\n",
    "    </div>\n",
    "```"
   ]
  },
  {
   "cell_type": "markdown",
   "metadata": {},
   "source": [
    "```eval_rst\n",
    ".. raw:: html\n",
    "\n",
    "    <div class=\"mdl-tabs__panel \" id=\"pytorch-15-1\">\n",
    "```"
   ]
  },
  {
   "cell_type": "code",
   "execution_count": 8,
   "metadata": {
    "origin_pos": 33,
    "tab": "pytorch"
   },
   "outputs": [
    {
     "name": "stdout",
     "output_type": "stream",
     "text": [
      "epoch 1, loss 0.0002774164022412151\n",
      "epoch 2, loss 0.00011037636431865394\n",
      "epoch 3, loss 0.0001104196417145431\n"
     ]
    }
   ],
   "source": [
    "num_epochs = 3\n",
    "for epoch in range(1, num_epochs + 1):\n",
    "    for X, y in data_iter:\n",
    "        l = loss(net(X) ,y)\n",
    "        trainer.zero_grad()\n",
    "        l.backward()\n",
    "        trainer.step()\n",
    "    l = loss(net(features), labels)\n",
    "    print('epoch {}, loss {}'.format(epoch, l))"
   ]
  },
  {
   "cell_type": "markdown",
   "metadata": {},
   "source": [
    "```eval_rst\n",
    ".. raw:: html\n",
    "\n",
    "    </div>\n",
    "```"
   ]
  },
  {
   "cell_type": "markdown",
   "metadata": {},
   "source": [
    "```eval_rst\n",
    ".. raw:: html\n",
    "\n",
    "    </div>\n",
    "```"
   ]
  },
  {
   "cell_type": "markdown",
   "metadata": {
    "origin_pos": 34
   },
   "source": [
    "Below, we compare the model parameters learned by training on finite data\n",
    "and the actual parameters that generated our dataset.\n",
    "To access parameters with Gluon,\n",
    "we first access the layer that we need from `net`\n",
    "and then access that layer's weight (`weight`) and bias (`bias`).\n",
    "To access each parameter's values as an `ndarray`,\n",
    "we invoke its `data` method.\n",
    "As in our from-scratch implementation,\n",
    "note that our estimated parameters are\n",
    "close to their ground truth counterparts."
   ]
  },
  {
   "cell_type": "markdown",
   "metadata": {},
   "source": [
    "```eval_rst\n",
    "\n",
    ".. raw:: html\n",
    "\n",
    "    <div class=\"mdl-tabs mdl-js-tabs mdl-js-ripple-effect\"><div class=\"mdl-tabs__tab-bar text\"><a href=\"#mxnet-17-0\" class=\"mdl-tabs__tab is-active\">mxnet</a><a href=\"#pytorch-17-1\" class=\"mdl-tabs__tab \">pytorch</a></div>\n",
    "```"
   ]
  },
  {
   "cell_type": "markdown",
   "metadata": {},
   "source": [
    "```eval_rst\n",
    ".. raw:: html\n",
    "\n",
    "    <div class=\"mdl-tabs__panel is-active\" id=\"mxnet-17-0\">\n",
    "```"
   ]
  },
  {
   "cell_type": "code",
   "execution_count": 9,
   "metadata": {
    "origin_pos": 35,
    "tab": "mxnet"
   },
   "outputs": [
    {
     "name": "stdout",
     "output_type": "stream",
     "text": [
      "Error in estimating w [[0.00075781 0.00033426]]\n",
      "Error in estimating b [8.535385e-05]\n"
     ]
    }
   ],
   "source": [
    "w = net[0].weight.data()\n",
    "print('Error in estimating w', true_w.reshape(w.shape) - w)\n",
    "b = net[0].bias.data()\n",
    "print('Error in estimating b', true_b - b)"
   ]
  },
  {
   "cell_type": "markdown",
   "metadata": {},
   "source": [
    "```eval_rst\n",
    ".. raw:: html\n",
    "\n",
    "    </div>\n",
    "```"
   ]
  },
  {
   "cell_type": "markdown",
   "metadata": {},
   "source": [
    "```eval_rst\n",
    ".. raw:: html\n",
    "\n",
    "    <div class=\"mdl-tabs__panel \" id=\"pytorch-17-1\">\n",
    "```"
   ]
  },
  {
   "cell_type": "code",
   "execution_count": 9,
   "metadata": {
    "origin_pos": 36,
    "tab": "pytorch"
   },
   "outputs": [
    {
     "name": "stdout",
     "output_type": "stream",
     "text": [
      "Error in estimating w tensor([[ 0.0005, -0.0006]])\n",
      "Error in estimating b tensor([-0.0003])\n"
     ]
    }
   ],
   "source": [
    "w = net[0].weight.data\n",
    "print('Error in estimating w', true_w.reshape(w.shape) - w)\n",
    "b = net[0].bias.data\n",
    "print('Error in estimating b', true_b - b)"
   ]
  },
  {
   "cell_type": "markdown",
   "metadata": {},
   "source": [
    "```eval_rst\n",
    ".. raw:: html\n",
    "\n",
    "    </div>\n",
    "```"
   ]
  },
  {
   "cell_type": "markdown",
   "metadata": {},
   "source": [
    "```eval_rst\n",
    ".. raw:: html\n",
    "\n",
    "    </div>\n",
    "```"
   ]
  },
  {
   "cell_type": "markdown",
   "metadata": {
    "origin_pos": 37
   },
   "source": [
    "## Summary\n"
   ]
  },
  {
   "cell_type": "markdown",
   "metadata": {},
   "source": [
    "```eval_rst\n",
    "\n",
    ".. raw:: html\n",
    "\n",
    "    <div class=\"mdl-tabs mdl-js-tabs mdl-js-ripple-effect\"><div class=\"mdl-tabs__tab-bar text\"><a href=\"#mxnet-19-0\" class=\"mdl-tabs__tab is-active\">mxnet</a><a href=\"#pytorch-19-1\" class=\"mdl-tabs__tab \">pytorch</a></div>\n",
    "```"
   ]
  },
  {
   "cell_type": "markdown",
   "metadata": {},
   "source": [
    "```eval_rst\n",
    ".. raw:: html\n",
    "\n",
    "    <div class=\"mdl-tabs__panel is-active\" id=\"mxnet-19-0\">\n",
    "```"
   ]
  },
  {
   "cell_type": "markdown",
   "metadata": {
    "origin_pos": 38,
    "tab": "mxnet"
   },
   "source": [
    "* Using Gluon, we can implement models much more succinctly.\n",
    "* In Gluon, the `data` module provides tools for data processing, the `nn` module defines a large number of neural network layers, and the `loss` module defines many common loss functions.\n",
    "* MXNet's module `initializer` provides various methods for model parameter initialization.\n",
    "* Dimensionality and storage are automatically inferred (but be careful not to attempt to access parameters before they have been initialized)."
   ]
  },
  {
   "cell_type": "markdown",
   "metadata": {},
   "source": [
    "```eval_rst\n",
    ".. raw:: html\n",
    "\n",
    "    </div>\n",
    "```"
   ]
  },
  {
   "cell_type": "markdown",
   "metadata": {},
   "source": [
    "```eval_rst\n",
    ".. raw:: html\n",
    "\n",
    "    <div class=\"mdl-tabs__panel \" id=\"pytorch-19-1\">\n",
    "```"
   ]
  },
  {
   "cell_type": "markdown",
   "metadata": {
    "origin_pos": 39,
    "tab": "pytorch"
   },
   "source": [
    "* Using PyTorch's high-level APIs, we can implement models much more succinctly.\n",
    "* In PyTorch, the `data` module provides tools for data processing, the `nn` module defines a large number of neural network layers and common loss functions.\n",
    "* We can initialize the parameters by replacing their values with methods ending with `_`."
   ]
  },
  {
   "cell_type": "markdown",
   "metadata": {},
   "source": [
    "```eval_rst\n",
    ".. raw:: html\n",
    "\n",
    "    </div>\n",
    "```"
   ]
  },
  {
   "cell_type": "markdown",
   "metadata": {},
   "source": [
    "```eval_rst\n",
    ".. raw:: html\n",
    "\n",
    "    </div>\n",
    "```"
   ]
  },
  {
   "cell_type": "markdown",
   "metadata": {
    "origin_pos": 40
   },
   "source": [
    "\n",
    "## Exercises\n"
   ]
  },
  {
   "cell_type": "markdown",
   "metadata": {},
   "source": [
    "```eval_rst\n",
    "\n",
    ".. raw:: html\n",
    "\n",
    "    <div class=\"mdl-tabs mdl-js-tabs mdl-js-ripple-effect\"><div class=\"mdl-tabs__tab-bar text\"><a href=\"#mxnet-21-0\" class=\"mdl-tabs__tab is-active\">mxnet</a><a href=\"#pytorch-21-1\" class=\"mdl-tabs__tab \">pytorch</a></div>\n",
    "```"
   ]
  },
  {
   "cell_type": "markdown",
   "metadata": {},
   "source": [
    "```eval_rst\n",
    ".. raw:: html\n",
    "\n",
    "    <div class=\"mdl-tabs__panel is-active\" id=\"mxnet-21-0\">\n",
    "```"
   ]
  },
  {
   "cell_type": "markdown",
   "metadata": {
    "origin_pos": 41,
    "tab": "mxnet"
   },
   "source": [
    "1. If we replace `l = loss(output, y)` with `l = loss(output, y).mean()`, we need to change `trainer.step(batch_size)` to `trainer.step(1)` for the code to behave identically. Why?\n",
    "1. Review the MXNet documentation to see what loss functions and initialization methods are provided in the modules `gluon.loss` and `init`. Replace the loss by Huber's loss.\n",
    "1. How do you access the gradient of `dense.weight`?\n",
    "\n",
    "[Discussions](https://discuss.d2l.ai/t/44)"
   ]
  },
  {
   "cell_type": "markdown",
   "metadata": {},
   "source": [
    "```eval_rst\n",
    ".. raw:: html\n",
    "\n",
    "    </div>\n",
    "```"
   ]
  },
  {
   "cell_type": "markdown",
   "metadata": {},
   "source": [
    "```eval_rst\n",
    ".. raw:: html\n",
    "\n",
    "    <div class=\"mdl-tabs__panel \" id=\"pytorch-21-1\">\n",
    "```"
   ]
  },
  {
   "cell_type": "markdown",
   "metadata": {
    "origin_pos": 42,
    "tab": "pytorch"
   },
   "source": [
    "1. If we replace `nn.MSELoss()` with `nn.MSELoss(reduction='mean')`, how can we change the learning rate for the code to behave identically. Why?\n",
    "1. Review the PyTorch documentation to see what loss functions and initialization methods are provided. Replace the loss by Huber's loss.\n",
    "1. How do you access the gradient of `net[0].weight`?\n",
    "\n",
    "[Discussions](https://discuss.d2l.ai/t/45)"
   ]
  },
  {
   "cell_type": "markdown",
   "metadata": {},
   "source": [
    "```eval_rst\n",
    ".. raw:: html\n",
    "\n",
    "    </div>\n",
    "```"
   ]
  },
  {
   "cell_type": "markdown",
   "metadata": {},
   "source": [
    "```eval_rst\n",
    ".. raw:: html\n",
    "\n",
    "    </div>\n",
    "```"
   ]
  }
 ],
 "metadata": {
  "kernelspec": {
   "display_name": "conda_mxnet_p36",
   "name": "conda_mxnet_p36"
  },
  "language_info": {
   "name": "python"
  }
 },
 "nbformat": 4,
 "nbformat_minor": 4
}