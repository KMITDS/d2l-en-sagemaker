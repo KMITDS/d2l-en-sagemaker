{
 "cells": [
  {
   "cell_type": "markdown",
   "metadata": {},
   "source": [
    "# Natural Language Processing: Pretraining\n",
    "\n",
    ":label:`chap_nlp_pretrain`\n",
    "\n",
    "\n",
    "Natural language processing is concerned with interactions between computers and humans using natural language. In practice, it is very common for us to use this technique to process and analyze large amounts of natural language data, such language models in :numref:`sec_language_model` and machine translation in :numref:`sec_machine_translation`.\n",
    "\n",
    "![Focus of this chapter is pretraining. ](../img/nlp-map-pretrain.svg)\n",
    "\n",
    ":label:`fig_nlp-map-pretrain`\n",
    "\n",
    "\n",
    "TODO@astonzhang"
   ]
  },
  {
   "cell_type": "markdown",
   "metadata": {},
   "source": [
    " - [word2vec](word2vec.ipynb)\n",
    " - [approx-training](approx-training.ipynb)\n",
    " - [word2vec-dataset](word2vec-dataset.ipynb)\n",
    " - [word2vec-gluon](word2vec-gluon.ipynb)\n",
    " - [subword-embedding](subword-embedding.ipynb)\n",
    " - [glove](glove.ipynb)\n"
   ]
  }
 ],
 "metadata": {
  "kernelspec": {
   "display_name": "conda_mxnet_p36",
   "name": "conda_mxnet_p36"
  },
  "language_info": {
   "name": "python"
  }
 },
 "nbformat": 4,
 "nbformat_minor": 2
}