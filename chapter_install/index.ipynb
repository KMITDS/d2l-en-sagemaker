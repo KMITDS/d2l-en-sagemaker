{
 "cells": [
  {
   "cell_type": "markdown",
   "metadata": {},
   "source": [
    "# インストール\n",
    "\n",
    ":label:`chap_installation`\n",
    "\n",
    "\n",
    "ハンズオンを始めてもらうために、Pythonの環境、Jupyterの対話的なノートブック、関連するライブラリ、この書籍を実行するためのコードをセットアップしてもらう必要があります。\n",
    "\n",
    "\n",
    "## Miniconda のインストール\n",
    "\n",
    "最もシンプルに始めるために\n",
    "[Miniconda](https://conda.io/en/latest/miniconda.html)をインストールしましょう。Python 3系が推奨です。もし conda がすでにインストールされていれば以下のステップをスキップすることができます。ウェブサイトから、対応する Miniconda の sh ファイルをダウンロードして、コマンドラインから `sh <FILENAME> -b` を実行してインストールします。macOS のユーザは以下のように行います。"
   ]
  },
  {
   "cell_type": "markdown",
   "metadata": {},
   "source": [
    "```bash\n",
    "# The file name is subject to changes\n",
    "sh Miniconda3-latest-MacOSX-x86_64.sh -b\n",
    "```\n"
   ]
  },
  {
   "cell_type": "markdown",
   "metadata": {},
   "source": [
    "そして Linux ユーザは以下のように行います。"
   ]
  },
  {
   "cell_type": "markdown",
   "metadata": {},
   "source": [
    "```bash\n",
    "# The file name is subject to changes\n",
    "sh Miniconda3-latest-Linux-x86_64.sh -b\n",
    "```\n"
   ]
  },
  {
   "cell_type": "markdown",
   "metadata": {},
   "source": [
    "次に、`conda`から直接シェルを初期化します。"
   ]
  },
  {
   "cell_type": "markdown",
   "metadata": {},
   "source": [
    "```bash\n",
    "~/miniconda3/bin/conda init\n",
    "```\n"
   ]
  },
  {
   "cell_type": "markdown",
   "metadata": {},
   "source": [
    "いまのシェルを閉じて再度開いてください。以下のように新しい環境を作ることができるはずです。"
   ]
  },
  {
   "cell_type": "markdown",
   "metadata": {},
   "source": [
    "```bash\n",
    "conda create --name d2l -y\n",
    "```\n"
   ]
  },
  {
   "cell_type": "markdown",
   "metadata": {},
   "source": [
    "## D2L ノートブックのダウンロード\n",
    "\n",
    "次にこの書籍のコードをダウンロードしましょう。コードを[link](https://d2l.ai/d2l-en-0.7.1.zip)からダウンロードして解凍します。もし `unzip` がインストール済みであれば (なければ `sudo apt install unzip` でインストールできます)、代わりに以下でも可能です。"
   ]
  },
  {
   "cell_type": "markdown",
   "metadata": {},
   "source": [
    "```bash\n",
    "mkdir d2l-en && cd d2l-en\n",
    "curl https://d2l.ai/d2l-en-0.7.1.zip -o d2l-en.zip\n",
    "unzip d2l-en.zip && rm d2l-en.zip\n",
    "```\n"
   ]
  },
  {
   "cell_type": "markdown",
   "metadata": {},
   "source": [
    "ここで `d2l` の環境を activate して、`pip` をインストールします。このコマンドの最後に `y` を入れておきましょう。"
   ]
  },
  {
   "cell_type": "markdown",
   "metadata": {},
   "source": [
    "```bash\n",
    "conda activate d2l\n",
    "conda install python=3.7 pip -y\n",
    "```\n"
   ]
  },
  {
   "cell_type": "markdown",
   "metadata": {},
   "source": [
    "## MXNet と `d2l` パッケージのインストール\n",
    "\n",
    "MXNet をインストールする前に、まず、利用する計算機に適切なGPU (標準的なノートPCでグラフィックスのために利用されるGPUは対象外です) が利用可能かどうかを確認してください。GPU サーバにインストールしようとしているなら、GPUサポートのMXNet をインストールするための手順 :ref:`subsec_gpu` に従ってください。\n",
    "\n",
    "もし GPU がなければ、CPUバージョンをインストールしましょう。最初の数章を行う際には十分な性能でしょうが、より規模の大きいモデルを動かす際には GPU を必要とするかもしれません。"
   ]
  },
  {
   "cell_type": "markdown",
   "metadata": {},
   "source": [
    "```bash\n",
    "# For Windows users\n",
    "pip install mxnet==1.6.0b20190926\n",
    "\n",
    "# For Linux and macOS users\n",
    "pip install mxnet==1.6.0b20191122\n",
    "```\n"
   ]
  },
  {
   "cell_type": "markdown",
   "metadata": {},
   "source": [
    "この書籍でよく使う関数やクラスをまとめた `d2l` パッケージもインストールしましょう。"
   ]
  },
  {
   "cell_type": "markdown",
   "metadata": {},
   "source": [
    "```bash\n",
    "pip install d2l==0.11.1\n",
    "```\n"
   ]
  },
  {
   "cell_type": "markdown",
   "metadata": {},
   "source": [
    "インストールできたら、実行のために Jupyter ノートブックを開きます。"
   ]
  },
  {
   "cell_type": "markdown",
   "metadata": {},
   "source": [
    "```bash\n",
    "jupyter notebook\n",
    "```\n"
   ]
  },
  {
   "cell_type": "markdown",
   "metadata": {},
   "source": [
    "この段階で、http://localhost:8888 (通常、自動で開きます) をブラウザで開くことができます。そして、この書籍の各章のコードを実行することができます。この書籍のコードを実行したり、MXNet や `d2l` のパッケージを更新する前には、`conda activate d2l` を必ず実行して実行環境を activate しましょう。環境から出る場合は、`conda deactivate` を実行します。\n",
    "\n",
    "## 最新バージョンへ更新\n",
    "\n",
    "この書籍と MXNet は絶えず改善を続けています。次々とリリースされる最新バージョンをチェックしましょう。\n",
    "\n",
    "1.  https://d2l.ai/d2l-en.zip の URL は常に最新版を保持しています。\n",
    "2. `d2l` パッケージを `pip install d2l --upgrade` を実行して更新しましょう。\n",
    "3. CPU バージョンの場合は, `pip install -U --pre mxnet` MXNet を更新できます。\n",
    "\n",
    "\n",
    "## GPUのサポート\n",
    "\n",
    "\n",
    ":label:`subsec_gpu`\n",
    "\n",
    "\n",
    "デフォルトでは、MXNetはあらゆるコンピュータ (ノートパソコンも含む)で実行できるように、GPUを利用しないようにインストールされます。この書籍の一部は、GPUの利用を必要としたり、推薦したりします。もし読者のコンピュータが、NVIDIAのグラフィックカードを備えていて、[CUDA](https://developer.nvidia.com/cuda-downloads)がインストールされているのであれば、GPUを利用可能なMXNet をインストールしましょう。CPU のみをサポートするMXNet をインストールしていた場合は、以下を実行して、まずそれを削除する必要があります。"
   ]
  },
  {
   "cell_type": "markdown",
   "metadata": {},
   "source": [
    "```\n",
    "pip uninstall mxnet\n",
    "```\n"
   ]
  },
  {
   "cell_type": "markdown",
   "metadata": {},
   "source": [
    "次に、インストール済みの CUDA のバージョンを知る必要があります。\n",
    " `nvcc --version` や `cat /usr/local/cuda/version.txt` を実行して知ることができるかもしれません。CUDA 10.1 がインストールされているとすれば、以下のコマンドで MXNet をインストールすることができます。"
   ]
  },
  {
   "cell_type": "markdown",
   "metadata": {},
   "source": [
    "```bash\n",
    "# For Windows users\n",
    "pip install mxnet-cu101==1.6.0b20190926\n",
    "\n",
    "# For Linux and macOS users\n",
    "pip install mxnet-cu101==1.6.0b20191122\n",
    "```\n"
   ]
  },
  {
   "cell_type": "markdown",
   "metadata": {},
   "source": [
    "CPU バージョンと同様に、GPUを利用可能な MXNet は `pip install -U --pre mxnet-cu101` で更新できます。CUDAのバージョンに合わせて、最後の数字を変えることができます。例えば、CUDA 10.0であれば `cu100`、CUDA 9.0であれば `cu90` です。利用可能なMXNetのバージョンをすべて調べるためには、`pip search mxnet` を実行します。\n",
    "\n",
    "## 練習\n",
    "\n",
    "1. この本のコードをダウンロードして、実行環境をインストールしましょう。\n",
    "\n",
    "\n",
    "## [議論](https://discuss.mxnet.io/t/2315)のためのQRコード\n",
    "\n",
    "![](../img/qr_install.svg)"
   ]
  }
 ],
 "metadata": {
  "kernelspec": {
   "display_name": "conda_mxnet_p36",
   "name": "conda_mxnet_p36"
  },
  "language_info": {
   "name": "python"
  }
 },
 "nbformat": 4,
 "nbformat_minor": 2
}