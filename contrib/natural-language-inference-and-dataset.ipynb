{
 "cells": [
  {
   "cell_type": "markdown",
   "metadata": {},
   "source": [
    "Installing (updating) the following libraries for your Sagemaker\n",
    "instance."
   ]
  },
  {
   "cell_type": "code",
   "execution_count": null,
   "metadata": {},
   "outputs": [],
   "source": [
    "!pip install -U --pre mxnet-cu101mkl  # updating mxnet to at least v1.6\n",
    "!pip install ..  # installing d2l\n"
   ]
  },
  {
   "cell_type": "markdown",
   "metadata": {},
   "source": [
    "# Natural language inference and the Dataset\n",
    "\n",
    "In the section “Text Sentiment Classification: Using Recurrent Neural Networks”, we discussed the model of using recurrent neural networks for text classification. Text classification task aims to identify the category of any given text sequence. But in actual scenarios, sometimes we need two given sentences in order to classify the relationship between them, i.e. sentence pair classification. For example, on a shopping website, the online customer service system needs to decide whether users’ questions have the same meanings as the existing ones in the knowledge base, which is the task of identifying the relationship between two sentences. In this case, we can not solve the issue by using the model of categorizing the single text sequence.\n",
    "\n",
    "Now, we are about to analyze the relationship between the two sentence classification. The most typical example of these tasks is natural language inference.\n",
    "\n",
    "## Natural language inference\n",
    "\n",
    "Natural language inference is also known as text entailment. Natural language inference is an important issue of natural language processing. On one hand, semantic relations exit among the seemingly isolated texts. On the other hand, semantic relations of texts enable machine to truly understand and utilize the semantic information.\n",
    "\n",
    "To be more specific, the task of natural language inference refers to identifying the inference relationship between hypothesis and premise. There are three different types of inference relationships. 1. Entailment, i.e. People think the semanteme of hypothesis can be inferred from that of premise. 2. Contradiction, i.e. People believe that hypothesis is false according to the semanteme of premise. 3. Neutral, i.e. People can not decide the semanteme of hypothesis according to that of the premise.\n",
    "\n",
    "Because this task inputs a sentence pair of premise and hypothesis, natural language inference is to classify the sentence pair.\n",
    "\n",
    "Here are three examples:\n",
    "\n",
    "The first example is entailment. “Showing affection” in the hypothesis can be inferred from “hugging one another” in the premise.\n",
    "> Premise：Two blond women are hugging one another.\n",
    "> Hypothesis：There are women showing affection.\n",
    "\n",
    "The second example is contradiction. The premise mentions what a person inspects. It can be inferred that “sleeping” can not happen simultaneously in the hypothesis.\n",
    "> Premise：A man inspects the uniform of a figure in some East Asian country.\n",
    "> Hypothesis：The man is sleeping.\n",
    "\n",
    "The third example is neutrality. There is no relationship between premise and hypothesis.\n",
    "> Premise：A boy is jumping on skateboard in the middle of a red bridge.\n",
    "> Hypothesis：The boy skates down the sidewalk.\n",
    "\n",
    "\n",
    "## Stanford natural language inference(SNLI) dataset\n",
    "\n",
    "Commonly used datasets in natural language inference include Stanford natural language inference(SNLI) and multiple natural language inference (MultiNLI) dataset. SNLI has more than 500,000 manually written English sentence pairs, which are divided into three types of relationships: entailment, contradiction and neutrality. MultiNLI is the upgraded version of SNLI. However, the difference between them is that MultiNLI dataset also involves relevant spoken and written texts. For this reason, it has more variations in comparison with Stanford natural language inference dataset.\n",
    "\n",
    "In this section, we will use Stanford natural language inference dataset. To make better use of this dataset, we need to input the packages or modules needed for the experiment."
   ]
  },
  {
   "cell_type": "code",
   "execution_count": 1,
   "metadata": {
    "attributes": {
     "classes": [],
     "id": "",
     "n": "28"
    }
   },
   "outputs": [],
   "source": [
    "import collections\n",
    "import d2l\n",
    "import os\n",
    "from mxnet import gluon, np, npx\n",
    "import re\n",
    "import zipfile\n",
    "\n",
    "npx.set_np()"
   ]
  },
  {
   "cell_type": "markdown",
   "metadata": {},
   "source": [
    "We download the RAR of this dataset to ../data. The capacity of the RAR is around 100MB. After decompaction, the dataset is stored in ../data/snli_1.0"
   ]
  },
  {
   "cell_type": "code",
   "execution_count": 2,
   "metadata": {
    "attributes": {
     "classes": [],
     "id": "",
     "n": "11"
    }
   },
   "outputs": [],
   "source": [
    "# Saved in the d2l package for later use\n",
    "d2l.DATA_HUB['SNLI'] = (\n",
    "    'https://nlp.stanford.edu/projects/snli/snli_1.0.zip',\n",
    "    '9fcde07509c7e87ec61c640c1b2753d9041758e4')\n",
    "\n",
    "data_dir = d2l.download_extract('SNLI')"
   ]
  },
  {
   "cell_type": "markdown",
   "metadata": {},
   "source": [
    "Having entered `../data/snli_1.0`, we can get access to different components of dataset .The dataset includes separated training set, verification set and test set. Each line of the dataset files includes 14 rows of original sentences and corresponding tags, etc. The dataset files also provide two forms of analytic trees of sentences. The analytic tree shows the text texture in the form of tree according to the grammatical relationship between words and phrases. In this section, we need to use the first three rows of dataset files. The first row is the tag. The second row is the analytical tree of premise. The third row is the analytical tree of hypothesis.\n",
    "\n",
    "Next, we read the training dataset and testing dataset, and retain samples with valid tags. Brackets represent the level of analytic tree. We need to eliminate brackets, merely retain original texts and conduct word segmentation."
   ]
  },
  {
   "cell_type": "code",
   "execution_count": 3,
   "metadata": {
    "attributes": {
     "classes": [],
     "id": "",
     "n": "66"
    }
   },
   "outputs": [],
   "source": [
    "# Saved in the d2l package for later use\n",
    "def read_snli(data_dir, is_train):\n",
    "    def extract_text(s):\n",
    "        s = re.sub('\\(', '', s) \n",
    "        s = re.sub('\\)', '', s) \n",
    "        s = re.sub(\"\\s{2,}\", \" \", s)\n",
    "        return s.strip()\n",
    "    label_set = {'entailment': 0, 'contradiction': 1, 'neutral': 2}\n",
    "    file_name = data_dir + 'snli_1.0_'+ ('train' if is_train else 'test') + '.txt'\n",
    "    with open(file_name, 'r') as f:\n",
    "        examples = [row.split('\\t') for row in f.readlines()[1:]]\n",
    "    premise = [extract_text(row[1]) for row in examples if row[0] in label_set]\n",
    "    hypothesis = [extract_text(row[2]) for row in examples if row[0] in label_set]\n",
    "    labels = [label_set[row[0]] for row in examples if row[0] in label_set]\n",
    "    return premise, hypothesis, labels"
   ]
  },
  {
   "cell_type": "code",
   "execution_count": 4,
   "metadata": {
    "attributes": {
     "classes": [],
     "id": "",
     "n": "67"
    }
   },
   "outputs": [],
   "source": [
    "train_data = read_snli(data_dir, is_train=True)\n",
    "test_data = read_snli(data_dir, is_train=False)"
   ]
  },
  {
   "cell_type": "markdown",
   "metadata": {},
   "source": [
    "We output the first five sentence pairs of premise and hypothesis, as well as corresponding tags of inference relationship."
   ]
  },
  {
   "cell_type": "code",
   "execution_count": 5,
   "metadata": {
    "attributes": {
     "classes": [],
     "id": "",
     "n": "70"
    }
   },
   "outputs": [
    {
     "name": "stdout",
     "output_type": "stream",
     "text": [
      "# trainings: 549367\n",
      "label: 2 premise: A person on a horse jumps over a broken down airplane . hypothesis: A person is training his horse for a competition .\n",
      "label: 1 premise: A person on a horse jumps over a broken down airplane . hypothesis: A person is at a diner , ordering an omelette .\n",
      "label: 0 premise: A person on a horse jumps over a broken down airplane . hypothesis: A person is outdoors , on a horse .\n"
     ]
    }
   ],
   "source": [
    "print('# trainings:', len(train_data[0]))\n",
    "for x0, x1, y in zip(train_data[0][:3], train_data[1][:3], train_data[2][:3]):\n",
    "    print('label:', y, 'premise:', x0[0:60], 'hypothesis:', x1[0:60])"
   ]
  },
  {
   "cell_type": "markdown",
   "metadata": {},
   "source": [
    "According to rough statistics, we find approximately 550,000 training set samples. Three relationship tags account for around 180,000 respectively. We also find about 10,000 testing dataset samples. Three relationship tags account for around 3000 respectively. Each type of tag shows the basically equivalent amount."
   ]
  },
  {
   "cell_type": "code",
   "execution_count": 6,
   "metadata": {
    "attributes": {
     "classes": [],
     "id": "",
     "n": "72"
    }
   },
   "outputs": [
    {
     "name": "stdout",
     "output_type": "stream",
     "text": [
      "Training pairs: 549367\n",
      "Test pairs: 9824\n",
      "Train labels: {'entailment': 183416, 'contradiction': 183187, 'neutral': 0}\n",
      "Test labels: {'entailment': 3368, 'contradiction': 3237, 'neutral': 3219}\n"
     ]
    }
   ],
   "source": [
    "print(\"Training pairs: %d\" % len(train_data[0]))\n",
    "print(\"Test pairs: %d\" % len(test_data[0]))\n",
    "print(\"Train labels: {'entailment': %d, 'contradiction': %d, 'neutral': %d}\" %\n",
    "      ([row for row in train_data[2]].count(0), \n",
    "       [row for row in train_data[2]].count(1), \n",
    "       [row for row in train_data[2]].count('neutral')))\n",
    "print(\"Test labels: {'entailment': %d, 'contradiction': %d, 'neutral': %d}\" %\n",
    "      ([row for row in test_data[2]].count(0), \n",
    "       [row for row in test_data[2]].count(1), \n",
    "       [row for row in test_data[2]].count(2)))"
   ]
  },
  {
   "cell_type": "markdown",
   "metadata": {},
   "source": [
    "### Self-defining dataset\n",
    "By inheriting `Dataset` by Gluon, we self-defined a natural language inference dataset `SNLIDataset`. By realizing `__getitem__` function, we can get access to the sentence pairs with idx index and relevant categories."
   ]
  },
  {
   "cell_type": "code",
   "execution_count": 7,
   "metadata": {
    "attributes": {
     "classes": [],
     "id": "",
     "n": "115"
    }
   },
   "outputs": [],
   "source": [
    "# Saved in the d2l package for later use\n",
    "class SNLIDataset(gluon.data.Dataset):\n",
    "    def __init__(self, dataset, vocab = None):\n",
    "        self.num_steps = 50  # We fix the length of each sentence to 50.\n",
    "        p_tokens = d2l.tokenize(dataset[0], token='word')\n",
    "        h_tokens = d2l.tokenize(dataset[1], token='word')\n",
    "        if vocab is None:\n",
    "            self.vocab = d2l.Vocab(p_tokens + h_tokens, min_freq=5)\n",
    "        else:\n",
    "            self.vocab = vocab\n",
    "        self.premise = self.pad(p_tokens)\n",
    "        self.hypothesis = self.pad(h_tokens)\n",
    "        self.labels = np.array(dataset[2])\n",
    "        print('read ' + str(len(self.premise)) + ' examples')\n",
    "\n",
    "    def pad(self, data):\n",
    "        return np.array([d2l.trim_pad(self.vocab[line], self.num_steps, \n",
    "                                      self.vocab.unk) for line in data])\n",
    "\n",
    "    def __getitem__(self, idx):\n",
    "        return (self.premise[idx], self.hypothesis[idx]), self.labels[idx]\n",
    "\n",
    "    def __len__(self):\n",
    "        return len(self.premise)"
   ]
  },
  {
   "cell_type": "markdown",
   "metadata": {},
   "source": [
    "### Read dataset\n",
    "\n",
    "Training set and testing set examples are respectively established on the basis of self-defining `SNLIDataset`. We define 50 as the maximum text length. Then, we can check the number of samples retained in training set and testing set."
   ]
  },
  {
   "cell_type": "code",
   "execution_count": 8,
   "metadata": {
    "attributes": {
     "classes": [],
     "id": "",
     "n": "114"
    }
   },
   "outputs": [],
   "source": [
    "# Saved in the d2l package for later use\n",
    "def load_data_snli(batch_size, num_steps=50):\n",
    "    data_dir = d2l.download_extract('SNLI')\n",
    "    train_data = read_snli(data_dir, True)\n",
    "    test_data = read_snli(data_dir, False)\n",
    "    train_set = SNLIDataset(train_data)\n",
    "    test_set = SNLIDataset(test_data, train_set.vocab)\n",
    "    train_iter = gluon.data.DataLoader(train_set, batch_size, shuffle=True)\n",
    "    test_iter = gluon.data.DataLoader(test_set, batch_size, shuffle=False)\n",
    "\n",
    "    return train_iter, test_iter, train_set.vocab"
   ]
  },
  {
   "cell_type": "markdown",
   "metadata": {},
   "source": [
    "Assume batch size is 128, respectively define the iterators of training set and testing set."
   ]
  },
  {
   "cell_type": "code",
   "execution_count": 9,
   "metadata": {
    "attributes": {
     "classes": [],
     "id": "",
     "n": "111"
    }
   },
   "outputs": [
    {
     "name": "stdout",
     "output_type": "stream",
     "text": [
      "read 549367 examples\n"
     ]
    },
    {
     "name": "stdout",
     "output_type": "stream",
     "text": [
      "read 9824 examples\n"
     ]
    }
   ],
   "source": [
    "batch_size = 128\n",
    "train_iter, test_iter, vocab = load_data_snli(batch_size)"
   ]
  },
  {
   "cell_type": "markdown",
   "metadata": {},
   "source": [
    "Output the size of the word list, showing 18677 valid words."
   ]
  },
  {
   "cell_type": "code",
   "execution_count": 10,
   "metadata": {
    "attributes": {
     "classes": [],
     "id": "",
     "n": "112"
    }
   },
   "outputs": [
    {
     "name": "stdout",
     "output_type": "stream",
     "text": [
      "Vocab size: 18677\n"
     ]
    }
   ],
   "source": [
    "print('Vocab size:', len(vocab))"
   ]
  },
  {
   "cell_type": "markdown",
   "metadata": {},
   "source": [
    "Print the form of the first small batch. What is different from text classification task is the data here consist of triples (Sentence 1, Sentence 2, Label)"
   ]
  },
  {
   "cell_type": "code",
   "execution_count": 11,
   "metadata": {
    "attributes": {
     "classes": [],
     "id": "",
     "n": "113"
    }
   },
   "outputs": [
    {
     "name": "stdout",
     "output_type": "stream",
     "text": [
      "(128, 50)\n",
      "(128, 50)\n",
      "(128,)\n"
     ]
    }
   ],
   "source": [
    "for X, Y in train_iter:\n",
    "    print(X[0].shape)\n",
    "    print(X[1].shape)\n",
    "    print(Y.shape)\n",
    "    break"
   ]
  },
  {
   "cell_type": "markdown",
   "metadata": {},
   "source": [
    "## Summary\n",
    "- Natural language inference task aims to identify the inference relationship between premise and hypothesis.\n",
    "- In natural language inference task, the sentences have three types of inference relationships: entailment, contradiction and neutral.\n",
    "- An important dataset of natural language inference task is known as Stanford natural language inference (SNLI) dataset."
   ]
  }
 ],
 "metadata": {
  "kernelspec": {
   "display_name": "conda_mxnet_p36",
   "name": "conda_mxnet_p36"
  },
  "language_info": {
   "name": "python"
  }
 },
 "nbformat": 4,
 "nbformat_minor": 2
}