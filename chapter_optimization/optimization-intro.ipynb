{
 "cells": [
  {
   "cell_type": "markdown",
   "metadata": {},
   "source": [
    "The following additional libraries are needed to run this\n",
    "notebook on Sagemaker."
   ]
  },
  {
   "cell_type": "code",
   "execution_count": null,
   "metadata": {},
   "outputs": [],
   "source": [
    "!pip install -U --pre mxnet-cu101mkl\n",
    "!pip install d2l\n"
   ]
  },
  {
   "cell_type": "markdown",
   "metadata": {},
   "source": [
    "# Optimization and Deep Learning\n",
    "\n",
    "In this section, we will discuss the relationship between optimization and deep learning as well as the challenges of using optimization in deep learning. For a deep learning problem, we will usually define a loss function first. Once we have the loss function, we can use an optimization algorithm in attempt to minimize the loss. In optimization, a loss function is often referred to as the objective function of the optimization problem. By tradition and convention most optimization algorithms are concerned with *minimization*. If we ever need to maximize an objective there is a simple solution: just flip the sign on the objective.\n",
    "\n",
    "## Optimization and Estimation\n",
    "\n",
    "Although optimization provides a way to minimize the loss function for deep\n",
    "learning, in essence, the goals of optimization and deep learning are\n",
    "fundamentally different. The former is primarily concerned with minimizing an\n",
    "objective whereas the latter is concerned with finding a suitable model, given a\n",
    "finite amount of data.  In :numref:`sec_model_selection`,\n",
    "we discussed the difference between these two goals in detail. For instance,\n",
    "training error and generalization error generally differ: since the objective\n",
    "function of the optimization algorithm is usually a loss function based on the\n",
    "training dataset, the goal of optimization is to reduce the training error.\n",
    "However, the goal of statistical inference (and thus of deep learning) is to\n",
    "reduce the generalization error.  To accomplish the latter we need to pay\n",
    "attention to overfitting in addition to using the optimization algorithm to\n",
    "reduce the training error. We begin by importing a few libraries with a function to annotate in a figure."
   ]
  },
  {
   "cell_type": "code",
   "execution_count": 1,
   "metadata": {
    "attributes": {
     "classes": [],
     "id": "",
     "n": "1"
    }
   },
   "outputs": [],
   "source": [
    "%matplotlib inline\n",
    "import d2l\n",
    "from mpl_toolkits import mplot3d\n",
    "from mxnet import np, npx\n",
    "npx.set_np()\n",
    "\n",
    "# Saved in the d2l package for later use\n",
    "def annotate(text, xy, xytext):\n",
    "    d2l.plt.gca().annotate(text, xy=xy, xytext=xytext,\n",
    "                           arrowprops=dict(arrowstyle='->'))"
   ]
  },
  {
   "cell_type": "markdown",
   "metadata": {},
   "source": [
    "The graph below illustrates the issue in some more detail. Since we have only a finite amount of data the minimum of the training error may be at a different location than the minimum of the expected error (or of the test error)."
   ]
  },
  {
   "cell_type": "code",
   "execution_count": 2,
   "metadata": {
    "attributes": {
     "classes": [],
     "id": "",
     "n": "2"
    }
   },
   "outputs": [],
   "source": [
    "def f(x): return x * np.cos(np.pi * x)\n",
    "def g(x): return f(x) + 0.2 * np.cos(5 * np.pi * x)\n",
    "\n",
    "d2l.set_figsize((4.5, 2.5))\n",
    "x = np.arange(0.5, 1.5, 0.01)\n",
    "d2l.plot(x, [f(x), g(x)], 'x', 'risk')\n",
    "annotate('empirical risk', (1.0, -1.2), (0.5, -1.1))\n",
    "annotate('expected risk', (1.1, -1.05), (0.95, -0.5))"
   ]
  },
  {
   "cell_type": "markdown",
   "metadata": {},
   "source": [
    "## Optimization Challenges in Deep Learning\n",
    "\n",
    "In this chapter, we are going to focus specifically on the performance of the\n",
    "optimization algorithm in minimizing the objective function, rather than a\n",
    "model's generalization error.  In :numref:`sec_linear_regression`\n",
    "we distinguished between analytical solutions and numerical solutions in\n",
    "optimization problems. In deep learning, most objective functions are\n",
    "complicated and do not have analytical solutions. Instead, we must use numerical\n",
    "optimization algorithms. The optimization algorithms below all fall into this\n",
    "category.\n",
    "\n",
    "There are many challenges in deep learning optimization. Some of the most vexing ones are local minima, saddle points and vanishing gradients. Let's have a look at a few of them.\n",
    "\n",
    "### Local Minima\n",
    "\n",
    "For the objective function $f(x)$, if the value of $f(x)$ at $x$ is smaller than the values of $f(x)$ at any other points in the vicinity of $x$, then $f(x)$ could be a local minimum. If the value of $f(x)$ at $x$ is the minimum of the objective function over the entire domain, then $f(x)$ is the global minimum.\n",
    "\n",
    "For example, given the function\n",
    "\n",
    "$$f(x) = x \\cdot \\text{cos}(\\pi x) \\text{ for } -1.0 \\leq x \\leq 2.0,$$\n",
    "\n",
    "we can approximate the local minimum and global minimum of this function."
   ]
  },
  {
   "cell_type": "code",
   "execution_count": 3,
   "metadata": {
    "attributes": {
     "classes": [],
     "id": "",
     "n": "3"
    }
   },
   "outputs": [],
   "source": [
    "x = np.arange(-1.0, 2.0, 0.01)\n",
    "d2l.plot(x, [f(x), ], 'x', 'f(x)')\n",
    "annotate('local minimum', (-0.3, -0.25), (-0.77, -1.0))\n",
    "annotate('global minimum', (1.1, -0.95), (0.6, 0.8))"
   ]
  },
  {
   "cell_type": "markdown",
   "metadata": {},
   "source": [
    "The objective function of deep learning models usually has many local optima. When the numerical solution of an optimization problem is near the local optimum, the numerical solution obtained by the final iteration may only minimize the objective function locally, rather than globally, as the gradient of the objective function's solutions approaches or becomes zero. Only some degree of noise might knock the parameter out of the local minimum. In fact, this is one of the beneficial properties of stochastic gradient descent where the natural variation of gradients over minibatches is able to dislodge the parameters from local minima.\n",
    "\n",
    "### Saddle Points\n",
    "\n",
    "Besides local minima, saddle points are another reason for gradients to vanish. A [saddle point](https://en.wikipedia.org/wiki/Saddle_point) is any location where all gradients of a function vanish but which is neither a global nor a local minimum. Consider the function $f(x) = x^3$. Its first and second derivative vanish for $x=0$. Optimization might stall at the point, even though it is not a minimum."
   ]
  },
  {
   "cell_type": "code",
   "execution_count": 4,
   "metadata": {
    "attributes": {
     "classes": [],
     "id": "",
     "n": "4"
    }
   },
   "outputs": [],
   "source": [
    "x = np.arange(-2.0, 2.0, 0.01)\n",
    "d2l.plot(x, [x**3], 'x', 'f(x)')\n",
    "annotate('saddle point', (0, -0.2), (-0.52, -5.0))"
   ]
  },
  {
   "cell_type": "markdown",
   "metadata": {},
   "source": [
    "Saddle points in higher dimensions are even more insidious, as the example below shows. Consider the function $f(x, y) = x^2 - y^2$. It has its saddle point at $(0, 0)$. This is a maximum with respect to $y$ and a minimum with respect to $x$. Moreover, it *looks* like a saddle, which is where this mathematical property got its name."
   ]
  },
  {
   "cell_type": "code",
   "execution_count": 5,
   "metadata": {
    "attributes": {
     "classes": [],
     "id": "",
     "n": "5"
    }
   },
   "outputs": [],
   "source": [
    "x, y = np.meshgrid(np.linspace(-1, 1, 101), np.linspace(-1, 1, 101),\n",
    "                   indexing='ij')\n",
    "\n",
    "z = x**2 - y**2\n",
    "\n",
    "ax = d2l.plt.figure().add_subplot(111, projection='3d')\n",
    "ax.plot_wireframe(x, y, z, **{'rstride': 10, 'cstride': 10})\n",
    "ax.plot([0], [0], [0], 'rx')\n",
    "ticks = [-1, 0, 1]\n",
    "d2l.plt.xticks(ticks)\n",
    "d2l.plt.yticks(ticks)\n",
    "ax.set_zticks(ticks)\n",
    "d2l.plt.xlabel('x')\n",
    "d2l.plt.ylabel('y');"
   ]
  },
  {
   "cell_type": "markdown",
   "metadata": {},
   "source": [
    "We assume that the input of a function is a $k$-dimensional vector and its\n",
    "output is a scalar, so its Hessian matrix will have $k$ eigenvalues\n",
    "(refer to :numref:`sec_geometry-linear-algebric-ops`).\n",
    "The solution of the\n",
    "function could be a local minimum, a local maximum, or a saddle point at a\n",
    "position where the function gradient is zero:\n",
    "\n",
    "* When the eigenvalues of the function's Hessian matrix at the zero-gradient position are all positive, we have a local minimum for the function.\n",
    "* When the eigenvalues of the function's Hessian matrix at the zero-gradient position are all negative, we have a local maximum for the function.\n",
    "* When the eigenvalues of the function's Hessian matrix at the zero-gradient position are negative and positive, we have a saddle point for the function.\n",
    "\n",
    "For high-dimensional problems the likelihood that at least some of the eigenvalues are negative is quite high. This makes saddle points more likely than local minima. We will discuss some exceptions to this situation in the next section when introducing convexity. In short, convex functions are those where the eigenvalues of the Hessian are never negative. Sadly, though, most deep learning problems do not fall into this category. Nonetheless it is a great tool to study optimization algorithms.\n",
    "\n",
    "### Vanishing Gradients\n",
    "\n",
    "Probably the most insidious problem to encounter are vanishing gradients. For instance, assume that we want to minimize the function $f(x) = \\tanh(x)$ and we happen to get started at $x = 4$. As we can see, the gradient of $f$ is close to nil. More specifically $f'(x) = 1 - \\tanh^2(x)$ and thus $f'(4) = 0.0013$. Consequently optimization will get stuck for a long time before we make progress. This turns out to be one of the reasons that training deep learning models was quite tricky prior to the introduction of the ReLU activation function."
   ]
  },
  {
   "cell_type": "code",
   "execution_count": 6,
   "metadata": {
    "attributes": {
     "classes": [],
     "id": "",
     "n": "6"
    }
   },
   "outputs": [],
   "source": [
    "x = np.arange(-2.0, 5.0, 0.01)\n",
    "d2l.plot(x, [np.tanh(x)], 'x', 'f(x)')\n",
    "annotate('vanishing gradient', (4, 1), (2, 0.0))"
   ]
  },
  {
   "cell_type": "markdown",
   "metadata": {},
   "source": [
    "As we saw, optimization for deep learning is full of challenges. Fortunately there exists a robust range of algorithms that perform well and that are easy to use even for beginners. Furthermore, it is not really necessary to find *the* best solution. Local optima or even approximate solutions thereof are still very useful.\n",
    "\n",
    "## Summary\n",
    "\n",
    "* Minimizing the training error does *not* guarantee that we find the best set of parameters to minimize the expected error.\n",
    "* The optimization problems may have many local minima.\n",
    "* The problem may have even more saddle points, as generally the problems are not convex.\n",
    "* Vanishing gradients can cause optimization to stall. Often a reparametrization of the problem helps. Good initialization of the parameters can be beneficial, too.\n",
    "\n",
    "\n",
    "## Exercises\n",
    "\n",
    "1. Consider a simple multilayer perceptron with a single hidden layer of, say, $d$ dimensions in the hidden layer and a single output. Show that for any local minimum there are at least $d!$ equivalent solutions that behave identically.\n",
    "1. Assume that we have a symmetric random matrix $\\mathbf{M}$ where the entries\n",
    "   $M_{ij} = M_{ji}$ are each drawn from some probability distribution\n",
    "   $p_{ij}$. Furthermore assume that $p_{ij}(x) = p_{ij}(-x)$, i.e., that the\n",
    "   distribution is symmetric (see e.g., :cite:`Wigner.1958` for details).\n",
    "    * Prove that the distribution over eigenvalues is also symmetric. That is, for any eigenvector $\\mathbf{v}$ the probability that the associated eigenvalue $\\lambda$ satisfies $P(\\lambda > 0) = P(\\lambda < 0)$.\n",
    "    * Why does the above *not* imply $P(\\lambda > 0) = 0.5$?\n",
    "1. What other challenges involved in deep learning optimization can you think of?\n",
    "1. Assume that you want to balance a (real) ball on a (real) saddle.\n",
    "    * Why is this hard?\n",
    "    * Can you exploit this effect also for optimization algorithms?\n",
    "\n",
    "\n",
    "## [Discussions](https://discuss.mxnet.io/t/2371)\n",
    "\n",
    "![](../img/qr_optimization-intro.svg)"
   ]
  }
 ],
 "metadata": {
  "kernelspec": {
   "display_name": "conda_mxnet_p36",
   "name": "conda_mxnet_p36"
  },
  "language_info": {
   "name": "python"
  }
 },
 "nbformat": 4,
 "nbformat_minor": 2
}