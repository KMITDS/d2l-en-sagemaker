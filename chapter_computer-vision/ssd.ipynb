{
 "cells": [
  {
   "cell_type": "markdown",
   "metadata": {},
   "source": [
    "The following additional libraries are needed to run this\n",
    "notebook on Sagemaker."
   ]
  },
  {
   "cell_type": "code",
   "execution_count": null,
   "metadata": {},
   "outputs": [],
   "source": [
    "!pip install -U\n",
    "!pip install --pre\n",
    "!pip install mxnet-cu101mkl\n",
    "!pip install d2l\n"
   ]
  },
  {
   "cell_type": "markdown",
   "metadata": {},
   "source": [
    "# Single Shot Multibox Detection (SSD)\n",
    "\n",
    "In the previous few sections, we have introduced bounding boxes, anchor boxes,\n",
    "multiscale object detection, and datasets. Now, we will use this background\n",
    "knowledge to construct an object detection model: single shot multibox detection\n",
    "(SSD) :cite:`Liu.Anguelov.Erhan.ea.2016`. This quick and easy model is already\n",
    "widely used. Some of the design concepts and implementation details of this\n",
    "model are also applicable to other object detection models.\n",
    "\n",
    "\n",
    "## Model\n",
    "\n",
    ":numref:`fig_ssd` shows the design of an SSD model. The model's main components\n",
    "are a base network block and several multiscale feature blocks connected in a\n",
    "series. Here, the base network block is used to extract features of original\n",
    "images, and it generally takes the form of a deep convolutional neural\n",
    "network. The paper on SSDs chooses to place a truncated VGG before the\n",
    "classification layer :cite:`Liu.Anguelov.Erhan.ea.2016`, but this is now\n",
    "commonly replaced by ResNet. We can design the base network so that it outputs\n",
    "larger heights and widths. In this way, more anchor boxes are generated based on\n",
    "this feature map, allowing us to detect smaller objects. Next, each multiscale\n",
    "feature block reduces the height and width of the feature map provided by the\n",
    "previous layer (for example, it may reduce the sizes by half). The blocks then\n",
    "use each element in the feature map to expand the receptive field on the input\n",
    "image. In this way, the closer a multiscale feature block is to the top of\n",
    ":numref:`fig_ssd` the smaller its output feature map, and the fewer the anchor\n",
    "boxes that are generated based on the feature map. In addition, the closer a\n",
    "feature block is to the top, the larger the receptive field of each element in\n",
    "the feature map and the better suited it is to detect larger objects. As the SSD\n",
    "generates different numbers of anchor boxes of different sizes based on the base\n",
    "network block and each multiscale feature block and then predicts the categories\n",
    "and offsets (i.e., predicted bounding boxes) of the anchor boxes in order to\n",
    "detect objects of different sizes, SSD is a multiscale object detection model.\n",
    "\n",
    "![The SSD is composed of a base network block and several multiscale feature blocks connected in a series. ](../img/ssd.svg)\n",
    "\n",
    ":label:`fig_ssd`\n",
    "\n",
    "\n",
    "\n",
    "Next, we will describe the implementation of the modules in :numref:`fig_ssd`. First, we need to discuss the implementation of category prediction and bounding box prediction.\n",
    "\n",
    "### Category Prediction Layer\n",
    "\n",
    "Set the number of object categories to $q$. In this case, the number of anchor\n",
    "box categories is $q+1$, with 0 indicating an anchor box that only contains\n",
    "background. For a certain scale, set the height and width of the feature map to\n",
    "$h$ and $w$, respectively. If we use each element as the center to generate $a$\n",
    "anchor boxes, we need to classify a total of $hwa$ anchor boxes. If we use a\n",
    "fully connected layer (FCN) for the output, this will likely result in an\n",
    "excessive number of model parameters. Recall how we used convolutional layer\n",
    "channels to output category predictions in :numref:`sec_nin`. SSD uses the\n",
    "same method to reduce the model complexity.\n",
    "\n",
    "Specifically, the category prediction layer uses a convolutional layer that\n",
    "maintains the input height and width. Thus, the output and input have a\n",
    "one-to-one correspondence to the spatial coordinates along the width and height\n",
    "of the feature map. Assuming that the output and input have the same spatial\n",
    "coordinates $(x, y)$, the channel for the coordinates $(x, y)$ on the output\n",
    "feature map contains the category predictions for all anchor boxes generated\n",
    "using the input feature map coordinates $(x, y)$ as the center. Therefore, there\n",
    "are $a(q+1)$ output channels, with the output channels indexed as $i(q+1) + j$\n",
    "($0 \\leq j \\leq q$) representing the predictions of the category index $j$ for\n",
    "the anchor box index $i$.\n",
    "\n",
    "Now, we will define a category prediction layer of this type. After we specify\n",
    "the parameters $a$ and $q$, it uses a $3\\times3$ convolutional layer with a\n",
    "padding of 1. The heights and widths of the input and output of this\n",
    "convolutional layer remain unchanged."
   ]
  },
  {
   "cell_type": "code",
   "execution_count": 1,
   "metadata": {
    "attributes": {
     "classes": [],
     "id": "",
     "n": "1"
    }
   },
   "outputs": [],
   "source": [
    "%matplotlib inline\n",
    "import d2l\n",
    "from mxnet import autograd, contrib, gluon, image, init, np, npx\n",
    "from mxnet.gluon import nn\n",
    "\n",
    "npx.set_np()\n",
    "\n",
    "def cls_predictor(num_anchors, num_classes):\n",
    "    return nn.Conv2D(num_anchors * (num_classes + 1), kernel_size=3,\n",
    "                     padding=1)"
   ]
  },
  {
   "cell_type": "markdown",
   "metadata": {},
   "source": [
    "### Bounding Box Prediction Layer\n",
    "\n",
    "The design of the bounding box prediction layer is similar to that of the category prediction layer. The only difference is that, here, we need to predict 4 offsets for each anchor box, rather than $q+1$ categories."
   ]
  },
  {
   "cell_type": "code",
   "execution_count": 2,
   "metadata": {
    "attributes": {
     "classes": [],
     "id": "",
     "n": "2"
    }
   },
   "outputs": [],
   "source": [
    "def bbox_predictor(num_anchors):\n",
    "    return nn.Conv2D(num_anchors * 4, kernel_size=3, padding=1)"
   ]
  },
  {
   "cell_type": "markdown",
   "metadata": {},
   "source": [
    "### Concatenating Predictions for Multiple Scales\n",
    "\n",
    "As we mentioned, SSD uses feature maps based on multiple scales to generate anchor boxes and predict their categories and offsets. Because the shapes and number of anchor boxes centered on the same element differ for the feature maps of different scales, the prediction outputs at different scales may have different shapes.\n",
    "\n",
    "In the following example, we use the same batch of data to construct feature maps of two different scales, `Y1` and `Y2`. Here, `Y2` has half the height and half the width of `Y1`. Using category prediction as an example, we assume that each element in the `Y1` and `Y2` feature maps generates five (Y1) or three (Y2) anchor boxes. When there are 10 object categories, the number of category prediction output channels is either $5\\times(10+1)=55$ or $3\\times(10+1)=33$. The format of the prediction output is (batch size, number of channels, height, width). As you can see, except for the batch size, the sizes of the other dimensions are different. Therefore, we must transform them into a consistent format and concatenate the predictions of the multiple scales to facilitate subsequent computation."
   ]
  },
  {
   "cell_type": "code",
   "execution_count": 3,
   "metadata": {
    "attributes": {
     "classes": [],
     "id": "",
     "n": "3"
    }
   },
   "outputs": [],
   "source": [
    "def forward(x, block):\n",
    "    block.initialize()\n",
    "    return block(x)\n",
    "\n",
    "Y1 = forward(np.zeros((2, 8, 20, 20)), cls_predictor(5, 10))\n",
    "Y2 = forward(np.zeros((2, 16, 10, 10)), cls_predictor(3, 10))\n",
    "(Y1.shape, Y2.shape)"
   ]
  },
  {
   "cell_type": "markdown",
   "metadata": {},
   "source": [
    "The channel dimension contains the predictions for all anchor boxes with the same center. We first move the channel dimension to the final dimension. Because the batch size is the same for all scales, we can convert the prediction results to binary format (batch size, height $\\times$ width $\\times$ number of channels) to facilitate subsequent concatenation on the $1^{\\mathrm{st}}$ dimension."
   ]
  },
  {
   "cell_type": "code",
   "execution_count": 4,
   "metadata": {
    "attributes": {
     "classes": [],
     "id": "",
     "n": "4"
    }
   },
   "outputs": [],
   "source": [
    "def flatten_pred(pred):\n",
    "    return npx.batch_flatten(pred.transpose(0, 2, 3, 1))\n",
    "\n",
    "def concat_preds(preds):\n",
    "    return np.concatenate([flatten_pred(p) for p in preds], axis=1)"
   ]
  },
  {
   "cell_type": "markdown",
   "metadata": {},
   "source": [
    "Thus, regardless of the different shapes of `Y1` and `Y2`, we can still concatenate the prediction results for the two different scales of the same batch."
   ]
  },
  {
   "cell_type": "code",
   "execution_count": 5,
   "metadata": {
    "attributes": {
     "classes": [],
     "id": "",
     "n": "5"
    }
   },
   "outputs": [],
   "source": [
    "concat_preds([Y1, Y2]).shape"
   ]
  },
  {
   "cell_type": "markdown",
   "metadata": {},
   "source": [
    "### Height and Width Downsample Block\n",
    "\n",
    "For multiscale object detection, we define the following `down_sample_blk` block, which reduces the height and width by 50%. This block consists of two $3\\times3$ convolutional layers with a padding of 1 and a $2\\times2$ maximum pooling layer with a stride of 2 connected in a series. As we know, $3\\times3$ convolutional layers with a padding of 1 do not change the shape of feature maps. However, the subsequent pooling layer directly reduces the size of the feature map by half. Because $1\\times 2+(3-1)+(3-1)=6$, each element in the output feature map has a receptive field on the input feature map of the shape $6\\times6$. As you can see, the height and width downsample block enlarges the receptive field of each element in the output feature map."
   ]
  },
  {
   "cell_type": "code",
   "execution_count": 6,
   "metadata": {
    "attributes": {
     "classes": [],
     "id": "",
     "n": "6"
    }
   },
   "outputs": [],
   "source": [
    "def down_sample_blk(num_channels):\n",
    "    blk = nn.Sequential()\n",
    "    for _ in range(2):\n",
    "        blk.add(nn.Conv2D(num_channels, kernel_size=3, padding=1),\n",
    "                nn.BatchNorm(in_channels=num_channels),\n",
    "                nn.Activation('relu'))\n",
    "    blk.add(nn.MaxPool2D(2))\n",
    "    return blk"
   ]
  },
  {
   "cell_type": "markdown",
   "metadata": {},
   "source": [
    "By testing forward computation in the height and width downsample block, we can see that it changes the number of input channels and halves the height and width."
   ]
  },
  {
   "cell_type": "code",
   "execution_count": 7,
   "metadata": {
    "attributes": {
     "classes": [],
     "id": "",
     "n": "7"
    }
   },
   "outputs": [],
   "source": [
    "forward(np.zeros((2, 3, 20, 20)), down_sample_blk(10)).shape"
   ]
  },
  {
   "cell_type": "markdown",
   "metadata": {},
   "source": [
    "### Base Network Block\n",
    "\n",
    "The base network block is used to extract features from original images. To simplify the computation, we will construct a small base network. This network consists of three height and width downsample blocks connected in a series, so it doubles the number of channels at each step. When we input an original image with the shape $256\\times256$, the base network block outputs a feature map with the shape $32 \\times 32$."
   ]
  },
  {
   "cell_type": "code",
   "execution_count": 8,
   "metadata": {
    "attributes": {
     "classes": [],
     "id": "",
     "n": "8"
    }
   },
   "outputs": [],
   "source": [
    "def base_net():\n",
    "    blk = nn.Sequential()\n",
    "    for num_filters in [16, 32, 64]:\n",
    "        blk.add(down_sample_blk(num_filters))\n",
    "    return blk\n",
    "\n",
    "forward(np.zeros((2, 3, 256, 256)), base_net()).shape"
   ]
  },
  {
   "cell_type": "markdown",
   "metadata": {},
   "source": [
    "### The Complete Model\n",
    "\n",
    "The SSD model contains a total of five modules. Each module outputs a feature\n",
    "map used to generate anchor boxes and predict the categories and offsets of\n",
    "these anchor boxes. The first module is the base network block, modules two to\n",
    "four are height and width downsample blocks, and the fifth module is a global\n",
    "maximum pooling layer that reduces the height and width to 1. Therefore, modules\n",
    "two to five are all multiscale feature blocks shown in :numref:`fig_ssd`."
   ]
  },
  {
   "cell_type": "code",
   "execution_count": 9,
   "metadata": {
    "attributes": {
     "classes": [],
     "id": "",
     "n": "9"
    }
   },
   "outputs": [],
   "source": [
    "def get_blk(i):\n",
    "    if i == 0:\n",
    "        blk = base_net()\n",
    "    elif i == 4:\n",
    "        blk = nn.GlobalMaxPool2D()\n",
    "    else:\n",
    "        blk = down_sample_blk(128)\n",
    "    return blk"
   ]
  },
  {
   "cell_type": "markdown",
   "metadata": {},
   "source": [
    "Now, we will define the forward computation process for each module. In contrast to the previously-described convolutional neural networks, this module not only returns feature map `Y` output by convolutional computation, but also the anchor boxes of the current scale generated from `Y` and their predicted categories and offsets."
   ]
  },
  {
   "cell_type": "code",
   "execution_count": 10,
   "metadata": {
    "attributes": {
     "classes": [],
     "id": "",
     "n": "10"
    }
   },
   "outputs": [],
   "source": [
    "def blk_forward(X, blk, size, ratio, cls_predictor, bbox_predictor):\n",
    "    Y = blk(X)\n",
    "    anchors = npx.multibox_prior(Y, sizes=size, ratios=ratio)\n",
    "    cls_preds = cls_predictor(Y)\n",
    "    bbox_preds = bbox_predictor(Y)\n",
    "    return (Y, anchors, cls_preds, bbox_preds)"
   ]
  },
  {
   "cell_type": "markdown",
   "metadata": {},
   "source": [
    "As we mentioned, the closer a multiscale feature block is to the top in :numref:`fig_ssd`, the larger the objects it detects and the larger the anchor boxes it must generate. Here, we first divide the interval from 0.2 to 1.05 into five equal parts to determine the sizes of smaller anchor boxes at different scales: 0.2, 0.37, 0.54, etc. Then, according to $\\sqrt{0.2 \\times 0.37} = 0.272$, $\\sqrt{0.37 \\times 0.54} = 0.447$, and similar formulas, we determine the sizes of larger anchor boxes at the different scales."
   ]
  },
  {
   "cell_type": "code",
   "execution_count": 11,
   "metadata": {
    "attributes": {
     "classes": [],
     "id": "",
     "n": "11"
    }
   },
   "outputs": [],
   "source": [
    "sizes = [[0.2, 0.272], [0.37, 0.447], [0.54, 0.619], [0.71, 0.79],\n",
    "         [0.88, 0.961]]\n",
    "ratios = [[1, 2, 0.5]] * 5\n",
    "num_anchors = len(sizes[0]) + len(ratios[0]) - 1"
   ]
  },
  {
   "cell_type": "markdown",
   "metadata": {},
   "source": [
    "Now, we can define the complete model, `TinySSD`."
   ]
  },
  {
   "cell_type": "code",
   "execution_count": 12,
   "metadata": {
    "attributes": {
     "classes": [],
     "id": "",
     "n": "12"
    }
   },
   "outputs": [],
   "source": [
    "class TinySSD(nn.Block):\n",
    "    def __init__(self, num_classes, **kwargs):\n",
    "        super(TinySSD, self).__init__(**kwargs)\n",
    "        self.num_classes = num_classes\n",
    "        for i in range(5):\n",
    "            # The assignment statement is self.blk_i = get_blk(i)\n",
    "            setattr(self, 'blk_%d' % i, get_blk(i))\n",
    "            setattr(self, 'cls_%d' % i, cls_predictor(num_anchors,\n",
    "                                                      num_classes))\n",
    "            setattr(self, 'bbox_%d' % i, bbox_predictor(num_anchors))\n",
    "\n",
    "    def forward(self, X):\n",
    "        anchors, cls_preds, bbox_preds = [None] * 5, [None] * 5, [None] * 5\n",
    "        for i in range(5):\n",
    "            # getattr(self, 'blk_%d' % i) accesses self.blk_i\n",
    "            X, anchors[i], cls_preds[i], bbox_preds[i] = blk_forward(\n",
    "                X, getattr(self, 'blk_%d' % i), sizes[i], ratios[i],\n",
    "                getattr(self, 'cls_%d' % i), getattr(self, 'bbox_%d' % i))\n",
    "        # In the reshape function, 0 indicates that the batch size remains\n",
    "        # unchanged\n",
    "        anchors = np.concatenate(anchors, axis=1)\n",
    "        cls_preds = concat_preds(cls_preds)\n",
    "        cls_preds = cls_preds.reshape(\n",
    "            cls_preds.shape[0], -1, self.num_classes + 1)\n",
    "        bbox_preds = concat_preds(bbox_preds)\n",
    "        return anchors, cls_preds, bbox_preds"
   ]
  },
  {
   "cell_type": "markdown",
   "metadata": {},
   "source": [
    "We now create an SSD model instance and use it to perform forward computation on image minibatch `X`, which has a height and width of 256 pixels. As we verified previously, the first module outputs a feature map with the shape $32 \\times 32$. Because modules two to four are height and width downsample blocks, module five is a global pooling layer, and each element in the feature map is used as the center for 4 anchor boxes, a total of $(32^2 + 16^2 + 8^2 + 4^2 + 1)\\times 4 = 5444$ anchor boxes are generated for each image at the five scales."
   ]
  },
  {
   "cell_type": "code",
   "execution_count": 13,
   "metadata": {
    "attributes": {
     "classes": [],
     "id": "",
     "n": "13"
    }
   },
   "outputs": [],
   "source": [
    "net = TinySSD(num_classes=1)\n",
    "net.initialize()\n",
    "X = np.zeros((32, 3, 256, 256))\n",
    "anchors, cls_preds, bbox_preds = net(X)\n",
    "\n",
    "print('output anchors:', anchors.shape)\n",
    "print('output class preds:', cls_preds.shape)\n",
    "print('output bbox preds:', bbox_preds.shape)"
   ]
  },
  {
   "cell_type": "markdown",
   "metadata": {},
   "source": [
    "## Training\n",
    "\n",
    "Now, we will explain, step by step, how to train the SSD model for object detection.\n",
    "\n",
    "### Data Reading and Initialization\n",
    "\n",
    "We read the Pikachu dataset we created in the previous section."
   ]
  },
  {
   "cell_type": "code",
   "execution_count": 14,
   "metadata": {
    "attributes": {
     "classes": [],
     "id": "",
     "n": "14"
    }
   },
   "outputs": [],
   "source": [
    "batch_size = 32\n",
    "train_iter, _ = d2l.load_data_pikachu(batch_size)"
   ]
  },
  {
   "cell_type": "markdown",
   "metadata": {},
   "source": [
    "There is 1 category in the Pikachu dataset. After defining the module, we need to initialize the model parameters and define the optimization algorithm."
   ]
  },
  {
   "cell_type": "code",
   "execution_count": 15,
   "metadata": {
    "attributes": {
     "classes": [],
     "id": "",
     "n": "15"
    }
   },
   "outputs": [],
   "source": [
    "ctx, net = d2l.try_gpu(), TinySSD(num_classes=1)\n",
    "net.initialize(init=init.Xavier(), ctx=ctx)\n",
    "trainer = gluon.Trainer(net.collect_params(), 'sgd',\n",
    "                        {'learning_rate': 0.2, 'wd': 5e-4})"
   ]
  },
  {
   "cell_type": "markdown",
   "metadata": {},
   "source": [
    "### Defining Loss and Evaluation Functions\n",
    "\n",
    "Object detection is subject to two types of losses. The first is anchor box category loss. For this, we can simply reuse the cross-entropy loss function we used in image classification. The second loss is positive anchor box offset loss. Offset prediction is a normalization problem. However, here, we do not use the squared loss introduced previously. Rather, we use the $L_1$ norm loss, which is the absolute value of the difference between the predicted value and the ground-truth value. The mask variable `bbox_masks` removes negative anchor boxes and padding anchor boxes from the loss calculation. Finally, we add the anchor box category and offset losses to find the final loss function for the model."
   ]
  },
  {
   "cell_type": "code",
   "execution_count": 16,
   "metadata": {
    "attributes": {
     "classes": [],
     "id": "",
     "n": "16"
    }
   },
   "outputs": [],
   "source": [
    "cls_loss = gluon.loss.SoftmaxCrossEntropyLoss()\n",
    "bbox_loss = gluon.loss.L1Loss()\n",
    "\n",
    "def calc_loss(cls_preds, cls_labels, bbox_preds, bbox_labels, bbox_masks):\n",
    "    cls = cls_loss(cls_preds, cls_labels)\n",
    "    bbox = bbox_loss(bbox_preds * bbox_masks, bbox_labels * bbox_masks)\n",
    "    return cls + bbox"
   ]
  },
  {
   "cell_type": "markdown",
   "metadata": {},
   "source": [
    "We can use the accuracy rate to evaluate the classification results. As we use the $L_1$ norm loss, we will use the average absolute error to evaluate the bounding box prediction results."
   ]
  },
  {
   "cell_type": "code",
   "execution_count": 17,
   "metadata": {
    "attributes": {
     "classes": [],
     "id": "",
     "n": "17"
    }
   },
   "outputs": [],
   "source": [
    "def cls_eval(cls_preds, cls_labels):\n",
    "    # Because the category prediction results are placed in the final\n",
    "    # dimension, argmax must specify this dimension\n",
    "    return float((cls_preds.argmax(axis=-1) == cls_labels).sum())\n",
    "\n",
    "def bbox_eval(bbox_preds, bbox_labels, bbox_masks):\n",
    "    return float((np.abs((bbox_labels - bbox_preds) * bbox_masks)).sum())"
   ]
  },
  {
   "cell_type": "markdown",
   "metadata": {},
   "source": [
    "### Training the Model\n",
    "\n",
    "During model training, we must generate multiscale anchor boxes (`anchors`) in the model's forward computation process and predict the category (`cls_preds`) and offset (`bbox_preds`) for each anchor box. Afterwards, we label the category (`cls_labels`) and offset (`bbox_labels`) of each generated anchor box based on the label information `Y`. Finally, we calculate the loss function using the predicted and labeled category and offset values. To simplify the code, we do not evaluate the training dataset here."
   ]
  },
  {
   "cell_type": "code",
   "execution_count": 29,
   "metadata": {
    "attributes": {
     "classes": [],
     "id": "",
     "n": "29"
    }
   },
   "outputs": [],
   "source": [
    "num_epochs, timer = 20, d2l.Timer()\n",
    "animator = d2l.Animator(xlabel='epoch', xlim=[1, num_epochs],\n",
    "                        legend=['class error', 'bbox mae'])\n",
    "for epoch in range(num_epochs):\n",
    "    # accuracy_sum, mae_sum, num_examples, num_labels\n",
    "    metric = d2l.Accumulator(4)\n",
    "    train_iter.reset()  # Read data from the start.\n",
    "    for batch in train_iter:\n",
    "        timer.start()\n",
    "        X = batch.data[0].as_in_context(ctx)\n",
    "        Y = batch.label[0].as_in_context(ctx)\n",
    "        with autograd.record():\n",
    "            # Generate multiscale anchor boxes and predict the category and\n",
    "            # offset of each\n",
    "            anchors, cls_preds, bbox_preds = net(X)\n",
    "            # Label the category and offset of each anchor box\n",
    "            bbox_labels, bbox_masks, cls_labels = npx.multibox_target(\n",
    "                anchors, Y, cls_preds.transpose(0, 2, 1))\n",
    "            # Calculate the loss function using the predicted and labeled\n",
    "            # category and offset values\n",
    "            l = calc_loss(cls_preds, cls_labels, bbox_preds, bbox_labels,\n",
    "                          bbox_masks)\n",
    "        l.backward()\n",
    "        trainer.step(batch_size)\n",
    "        metric.add(cls_eval(cls_preds, cls_labels), cls_labels.size,\n",
    "                   bbox_eval(bbox_preds, bbox_labels, bbox_masks),\n",
    "                   bbox_labels.size)\n",
    "    cls_err, bbox_mae = 1-metric[0]/metric[1], metric[2]/metric[3]\n",
    "    animator.add(epoch+1, (cls_err, bbox_mae))\n",
    "print('class err %.2e, bbox mae %.2e' % (cls_err, bbox_mae))\n",
    "print('%.1f exampes/sec on %s' % (train_iter.num_image/timer.stop(), ctx))"
   ]
  },
  {
   "cell_type": "markdown",
   "metadata": {},
   "source": [
    "## Prediction\n",
    "\n",
    "In the prediction stage, we want to detect all objects of interest in the image. Below, we read the test image and transform its size. Then, we convert it to the four-dimensional format required by the convolutional layer."
   ]
  },
  {
   "cell_type": "code",
   "execution_count": 20,
   "metadata": {
    "attributes": {
     "classes": [],
     "id": "",
     "n": "20"
    }
   },
   "outputs": [],
   "source": [
    "img = image.imread('../img/pikachu.jpg')\n",
    "feature = image.imresize(img, 256, 256).astype('float32')\n",
    "X = np.expand_dims(feature.transpose(2, 0, 1), axis=0)"
   ]
  },
  {
   "cell_type": "markdown",
   "metadata": {},
   "source": [
    "Using the `MultiBoxDetection` function, we predict the bounding boxes based on the anchor boxes and their predicted offsets. Then, we use non-maximum suppression to remove similar bounding boxes."
   ]
  },
  {
   "cell_type": "code",
   "execution_count": 21,
   "metadata": {
    "attributes": {
     "classes": [],
     "id": "",
     "n": "21"
    }
   },
   "outputs": [],
   "source": [
    "def predict(X):\n",
    "    anchors, cls_preds, bbox_preds = net(X.as_in_context(ctx))\n",
    "    cls_probs = npx.softmax(cls_preds).transpose(0, 2, 1)\n",
    "    output = npx.multibox_detection(cls_probs, bbox_preds, anchors)\n",
    "    idx = [i for i, row in enumerate(output[0]) if row[0] != -1]\n",
    "    return output[0, idx]\n",
    "\n",
    "output = predict(X)"
   ]
  },
  {
   "cell_type": "markdown",
   "metadata": {},
   "source": [
    "Finally, we take all the bounding boxes with a confidence level of at least 0.3 and display them as the final output."
   ]
  },
  {
   "cell_type": "code",
   "execution_count": 22,
   "metadata": {
    "attributes": {
     "classes": [],
     "id": "",
     "n": "22"
    }
   },
   "outputs": [],
   "source": [
    "def display(img, output, threshold):\n",
    "    d2l.set_figsize((5, 5))\n",
    "    fig = d2l.plt.imshow(img.asnumpy())\n",
    "    for row in output:\n",
    "        score = float(row[1])\n",
    "        if score < threshold:\n",
    "            continue\n",
    "        h, w = img.shape[0:2]\n",
    "        bbox = [row[2:6] * np.array((w, h, w, h), ctx=row.context)]\n",
    "        d2l.show_bboxes(fig.axes, bbox, '%.2f' % score, 'w')\n",
    "\n",
    "display(img, output, threshold=0.3)"
   ]
  },
  {
   "cell_type": "markdown",
   "metadata": {},
   "source": [
    "## Summary\n",
    "\n",
    "* SSD is a multiscale object detection model. This model generates different numbers of anchor boxes of different sizes based on the base network block and each multiscale feature block and predicts the categories and offsets of the anchor boxes to detect objects of different sizes.\n",
    "* During SSD model training, the loss function is calculated using the predicted and labeled category and offset values.\n",
    "\n",
    "\n",
    "\n",
    "## Exercises\n",
    "\n",
    "1. Due to space limitations, we have ignored some of the implementation details of SSD models in this experiment. Can you further improve the model in the following areas?\n",
    "\n",
    "\n",
    "### Loss Function\n",
    "\n",
    "For the predicted offsets, replace $L_1$ norm loss with $L_1$ regularization loss. This loss function uses a square function around zero for greater smoothness. This is the regularized area controlled by the hyperparameter $\\sigma$:\n",
    "\n",
    "$$\n",
    "f(x) =\n",
    "    \\begin{cases}\n",
    "    (\\sigma x)^2/2,& \\text{if }|x| < 1/\\sigma^2\\\\\n",
    "    |x|-0.5/\\sigma^2,& \\text{otherwise}\n",
    "    \\end{cases}\n",
    "$$\n",
    "\n",
    "When $\\sigma$ is large, this loss is similar to the $L_1$ norm loss. When the value is small, the loss function is smoother."
   ]
  },
  {
   "cell_type": "code",
   "execution_count": 23,
   "metadata": {
    "attributes": {
     "classes": [],
     "id": "",
     "n": "23"
    }
   },
   "outputs": [],
   "source": [
    "sigmas = [10, 1, 0.5]\n",
    "lines = ['-', '--', '-.']\n",
    "x = np.arange(-2, 2, 0.1)\n",
    "d2l.set_figsize()\n",
    "\n",
    "for l, s in zip(lines, sigmas):\n",
    "    y = npx.smooth_l1(x, scalar=s)\n",
    "    d2l.plt.plot(x.asnumpy(), y.asnumpy(), l, label='sigma=%.1f' % s)\n",
    "d2l.plt.legend();"
   ]
  },
  {
   "cell_type": "markdown",
   "metadata": {},
   "source": [
    "In the experiment, we used cross-entropy loss for category prediction. Now,\n",
    "assume that the prediction probability of the actual category $j$ is $p_j$ and\n",
    "the cross-entropy loss is $-\\log p_j$. We can also use the focal loss\n",
    ":cite:`Lin.Goyal.Girshick.ea.2017`. Given the positive hyper-parameters $\\gamma$\n",
    "and $\\alpha$, this loss is defined as:\n",
    "\n",
    "$$ - \\alpha (1-p_j)^{\\gamma} \\log p_j.$$\n",
    "\n",
    "As you can see, by increasing $\\gamma$, we can effectively reduce the loss when the probability of predicting the correct category is high."
   ]
  },
  {
   "cell_type": "code",
   "execution_count": 24,
   "metadata": {
    "attributes": {
     "classes": [],
     "id": "",
     "n": "24"
    }
   },
   "outputs": [],
   "source": [
    "def focal_loss(gamma, x):\n",
    "    return -(1 - x) ** gamma * np.log(x)\n",
    "\n",
    "x = np.arange(0.01, 1, 0.01)\n",
    "for l, gamma in zip(lines, [0, 1, 5]):\n",
    "    y = d2l.plt.plot(x.asnumpy(), focal_loss(gamma, x).asnumpy(), l,\n",
    "                     label='gamma=%.1f' % gamma)\n",
    "d2l.plt.legend();"
   ]
  },
  {
   "cell_type": "markdown",
   "metadata": {},
   "source": [
    "### Training and Prediction\n",
    "\n",
    "2. When an object is relatively large compared to the image, the model normally adopts a larger input image size.\n",
    "3. This generally produces a large number of negative anchor boxes when labeling anchor box categories. We can sample the negative anchor boxes to better balance the data categories. To do this, we can set the `MultiBoxTarget` function's `negative_mining_ratio` parameter.\n",
    "4. Assign hyper-parameters with different weights to the anchor box category loss and positive anchor box offset loss in the loss function.\n",
    "5. Refer to the SSD paper. What methods can be used to evaluate the precision of\n",
    "  object detection models :cite:`Liu.Anguelov.Erhan.ea.2016`?\n",
    "\n",
    "## [Discussions](https://discuss.mxnet.io/t/2453)\n",
    "\n",
    "![](../img/qr_ssd.svg)"
   ]
  }
 ],
 "metadata": {
  "kernelspec": {
   "display_name": "conda_mxnet_p36",
   "name": "conda_mxnet_p36"
  },
  "language_info": {
   "name": "python"
  }
 },
 "nbformat": 4,
 "nbformat_minor": 2
}