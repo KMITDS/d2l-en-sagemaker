{
 "cells": [
  {
   "cell_type": "markdown",
   "metadata": {},
   "source": [
    "The following additional libraries are needed to run this\n",
    "notebook on Sagemaker."
   ]
  },
  {
   "cell_type": "code",
   "execution_count": null,
   "metadata": {},
   "outputs": [],
   "source": [
    "!pip install d2l\n",
    "!pip install -U\n",
    "!pip install --pre\n",
    "!pip install mxnet-cu101mkl\n"
   ]
  },
  {
   "cell_type": "markdown",
   "metadata": {},
   "source": [
    "# Image Augmentation\n",
    "\n",
    ":label:`sec_image_augmentation`\n",
    "\n",
    "\n",
    "\n",
    "We mentioned that large-scale datasets are prerequisites for the successful\n",
    "application of deep neural networks in\n",
    ":numref:`sec_alexnet`. Image augmentation technology expands the scale of training datasets\n",
    "by making a series of random changes to the training images to produce similar,\n",
    "but different, training examples. Another way to explain image augmentation is\n",
    "that randomly changing training examples can reduce a model's dependence on\n",
    "certain properties, thereby improving its capability for generalization. For\n",
    "example, we can crop the images in different ways, so that the objects of\n",
    "interest appear in different positions, reducing the model's dependence on the\n",
    "position where objects appear. We can also adjust the brightness, color, and\n",
    "other factors to reduce model's sensitivity to color. It can be said that image\n",
    "augmentation technology contributed greatly to the success of AlexNet. In this\n",
    "section we will discuss this technology, which is widely used in computer\n",
    "vision.\n",
    "\n",
    "First, import the packages or modules required for the experiment in this section."
   ]
  },
  {
   "cell_type": "code",
   "execution_count": 1,
   "metadata": {
    "attributes": {
     "classes": [],
     "id": "",
     "n": "1"
    }
   },
   "outputs": [],
   "source": [
    "%matplotlib inline\n",
    "import d2l\n",
    "from mxnet import autograd, gluon, image, init, np, npx\n",
    "from mxnet.gluon import nn\n",
    "\n",
    "npx.set_np()"
   ]
  },
  {
   "cell_type": "markdown",
   "metadata": {},
   "source": [
    "## Common Image Augmentation Method\n",
    "\n",
    "In this experiment, we will use an image with a shape of $400\\times 500$ as an example."
   ]
  },
  {
   "cell_type": "code",
   "execution_count": 2,
   "metadata": {
    "attributes": {
     "classes": [],
     "id": "",
     "n": "2"
    }
   },
   "outputs": [],
   "source": [
    "d2l.set_figsize((3.5, 2.5))\n",
    "img = image.imread('../img/cat1.jpg')\n",
    "d2l.plt.imshow(img.asnumpy());"
   ]
  },
  {
   "cell_type": "markdown",
   "metadata": {},
   "source": [
    "Most image augmentation methods have a certain degree of randomness. To make it easier for us to observe the effect of image augmentation, we next define the auxiliary function `apply`. This function runs the image augmentation method `aug` multiple times on the input image `img` and shows all results."
   ]
  },
  {
   "cell_type": "code",
   "execution_count": 3,
   "metadata": {
    "attributes": {
     "classes": [],
     "id": "",
     "n": "3"
    }
   },
   "outputs": [],
   "source": [
    "def apply(img, aug, num_rows=2, num_cols=4, scale=1.5):\n",
    "    Y = [aug(img) for _ in range(num_rows * num_cols)]\n",
    "    d2l.show_images(Y, num_rows, num_cols, scale=scale)"
   ]
  },
  {
   "cell_type": "markdown",
   "metadata": {},
   "source": [
    "### Flipping and Cropping\n",
    "\n",
    "Flipping the image left and right usually does not change the category of the object. This is one of the earliest and most widely used methods of image augmentation. Next, we use the `transforms` module to create the `RandomFlipLeftRight` instance, which introduces a 50% chance that the image is flipped left and right."
   ]
  },
  {
   "cell_type": "code",
   "execution_count": 4,
   "metadata": {
    "attributes": {
     "classes": [],
     "id": "",
     "n": "4"
    }
   },
   "outputs": [],
   "source": [
    "apply(img, gluon.data.vision.transforms.RandomFlipLeftRight())"
   ]
  },
  {
   "cell_type": "markdown",
   "metadata": {},
   "source": [
    "Flipping up and down is not as commonly used as flipping left and right. However, at least for this example image, flipping up and down does not hinder recognition. Next, we create a `RandomFlipTopBottom` instance for a 50% chance of flipping the image up and down."
   ]
  },
  {
   "cell_type": "code",
   "execution_count": 5,
   "metadata": {
    "attributes": {
     "classes": [],
     "id": "",
     "n": "5"
    }
   },
   "outputs": [],
   "source": [
    "apply(img, gluon.data.vision.transforms.RandomFlipTopBottom())"
   ]
  },
  {
   "cell_type": "markdown",
   "metadata": {},
   "source": [
    "In the example image we used, the cat is in the middle of the image, but this\n",
    "may not be the case for all images. In\n",
    ":numref:`sec_pooling`,\n",
    "we explained that the pooling layer can reduce the sensitivity of the\n",
    "convolutional layer to the target location. In addition, we can make objects\n",
    "appear at different positions in the image in different proportions by randomly\n",
    "cropping the image. This can also reduce the sensitivity of the model to the\n",
    "target position.\n",
    "\n",
    "In the following code, we randomly crop a region with an area of 10% to 100% of the original area, and the ratio of width to height of the region is randomly selected from between 0.5 and 2. Then, the width and height of the region are both scaled to 200 pixels. Unless otherwise stated, the random number between $a$ and $b$ in this section refers to a continuous value obtained by uniform sampling in the interval $[a, b]$."
   ]
  },
  {
   "cell_type": "code",
   "execution_count": 6,
   "metadata": {
    "attributes": {
     "classes": [],
     "id": "",
     "n": "6"
    }
   },
   "outputs": [],
   "source": [
    "shape_aug = gluon.data.vision.transforms.RandomResizedCrop(\n",
    "    (200, 200), scale=(0.1, 1), ratio=(0.5, 2))\n",
    "apply(img, shape_aug)"
   ]
  },
  {
   "cell_type": "markdown",
   "metadata": {},
   "source": [
    "### Changing the Color\n",
    "\n",
    "Another augmentation method is changing colors. We can change four aspects of the image color: brightness, contrast, saturation, and hue. In the example below, we randomly change the brightness of the image to a value between 50% ($1-0.5$) and 150% ($1+0.5$) of the original image."
   ]
  },
  {
   "cell_type": "code",
   "execution_count": 7,
   "metadata": {
    "attributes": {
     "classes": [],
     "id": "",
     "n": "7"
    }
   },
   "outputs": [],
   "source": [
    "apply(img, gluon.data.vision.transforms.RandomBrightness(0.5))"
   ]
  },
  {
   "cell_type": "markdown",
   "metadata": {},
   "source": [
    "Similarly, we can randomly change the hue of the image."
   ]
  },
  {
   "cell_type": "code",
   "execution_count": 8,
   "metadata": {
    "attributes": {
     "classes": [],
     "id": "",
     "n": "8"
    }
   },
   "outputs": [],
   "source": [
    "apply(img, gluon.data.vision.transforms.RandomHue(0.5))"
   ]
  },
  {
   "cell_type": "markdown",
   "metadata": {},
   "source": [
    "We can also create a `RandomColorJitter` instance and set how to randomly change the `brightness`, `contrast`, `saturation`, and `hue` of the image at the same time."
   ]
  },
  {
   "cell_type": "code",
   "execution_count": 9,
   "metadata": {
    "attributes": {
     "classes": [],
     "id": "",
     "n": "9"
    }
   },
   "outputs": [],
   "source": [
    "color_aug = gluon.data.vision.transforms.RandomColorJitter(\n",
    "    brightness=0.5, contrast=0.5, saturation=0.5, hue=0.5)\n",
    "apply(img, color_aug)"
   ]
  },
  {
   "cell_type": "markdown",
   "metadata": {},
   "source": [
    "### Overlying Multiple Image Augmentation Methods\n",
    "\n",
    "In practice, we will overlay multiple image augmentation methods. We can overlay the different image augmentation methods defined above and apply them to each image by using a `Compose` instance."
   ]
  },
  {
   "cell_type": "code",
   "execution_count": 10,
   "metadata": {
    "attributes": {
     "classes": [],
     "id": "",
     "n": "10"
    }
   },
   "outputs": [],
   "source": [
    "augs = gluon.data.vision.transforms.Compose([\n",
    "    gluon.data.vision.transforms.RandomFlipLeftRight(), color_aug, shape_aug])\n",
    "apply(img, augs)"
   ]
  },
  {
   "cell_type": "markdown",
   "metadata": {},
   "source": [
    "## Using an Image Augmentation Training Model\n",
    "\n",
    "Next, we will look at how to apply image augmentation in actual training. Here, we use the CIFAR-10 dataset, instead of the Fashion-MNIST dataset we have been using. This is because the position and size of the objects in the Fashion-MNIST dataset have been normalized, and the differences in color and size of the objects in CIFAR-10 dataset are more significant. The first 32 training images in the CIFAR-10 dataset are shown below."
   ]
  },
  {
   "cell_type": "code",
   "execution_count": 11,
   "metadata": {
    "attributes": {
     "classes": [],
     "id": "",
     "n": "11"
    }
   },
   "outputs": [],
   "source": [
    "d2l.show_images(gluon.data.vision.CIFAR10(\n",
    "    train=True)[0:32][0], 4, 8, scale=0.8);"
   ]
  },
  {
   "cell_type": "markdown",
   "metadata": {},
   "source": [
    "In order to obtain a definitive results during prediction, we usually only apply image augmentation to the training example, and do not use image augmentation with random operations during prediction. Here, we only use the simplest random left-right flipping method. In addition, we use a `ToTensor` instance to convert minibatch images into the format required by MXNet, i.e., 32-bit floating point numbers with the shape of (batch size, number of channels, height, width) and value range between 0 and 1."
   ]
  },
  {
   "cell_type": "code",
   "execution_count": 12,
   "metadata": {
    "attributes": {
     "classes": [],
     "id": "",
     "n": "12"
    }
   },
   "outputs": [],
   "source": [
    "train_augs = gluon.data.vision.transforms.Compose([\n",
    "    gluon.data.vision.transforms.RandomFlipLeftRight(),\n",
    "    gluon.data.vision.transforms.ToTensor()])\n",
    "\n",
    "test_augs = gluon.data.vision.transforms.Compose([\n",
    "    gluon.data.vision.transforms.ToTensor()])"
   ]
  },
  {
   "cell_type": "markdown",
   "metadata": {},
   "source": [
    "Next, we define an auxiliary function to make it easier to read the image and\n",
    "apply image augmentation. The `transform_first` function provided by Gluon's\n",
    "dataset applies image augmentation to the first element of each training\n",
    "example (image and label), i.e., the element at the top of the image. For\n",
    "detailed description of `DataLoader`, refer to :numref:`sec_fashion_mnist`."
   ]
  },
  {
   "cell_type": "code",
   "execution_count": 13,
   "metadata": {
    "attributes": {
     "classes": [],
     "id": "",
     "n": "13"
    }
   },
   "outputs": [],
   "source": [
    "def load_cifar10(is_train, augs, batch_size):\n",
    "    return gluon.data.DataLoader(\n",
    "        gluon.data.vision.CIFAR10(train=is_train).transform_first(augs),\n",
    "        batch_size=batch_size, shuffle=is_train,\n",
    "        num_workers=d2l.get_dataloader_workers())"
   ]
  },
  {
   "cell_type": "markdown",
   "metadata": {},
   "source": [
    "### Using a Multi-GPU Training Model\n",
    "\n",
    "We train the ResNet-18 model described in :numref:`sec_resnet` on the\n",
    "CIFAR-10 dataset. We will also apply the methods described in\n",
    ":numref:`sec_multi_gpu_gluon` and use a multi-GPU training model.\n",
    "\n",
    "Next, we define the training function to train and evaluate the model using multiple GPUs."
   ]
  },
  {
   "cell_type": "code",
   "execution_count": 14,
   "metadata": {
    "attributes": {
     "classes": [],
     "id": "",
     "n": "14"
    }
   },
   "outputs": [],
   "source": [
    "# Saved in the d2l package for later use\n",
    "def train_batch_ch13(net, features, labels, loss, trainer, ctx_list,\n",
    "                     split_f=d2l.split_batch):\n",
    "    Xs, ys = split_f(features, labels, ctx_list)\n",
    "    with autograd.record():\n",
    "        pys = [net(X) for X in Xs]\n",
    "        ls = [loss(py, y) for py, y in zip(pys, ys)]\n",
    "    for l in ls:\n",
    "        l.backward()\n",
    "    trainer.step(features.shape[0])\n",
    "    train_loss_sum = sum([float(l.sum()) for l in ls])\n",
    "    train_acc_sum = sum(d2l.accuracy(py, y) for py, y in zip(pys, ys))\n",
    "    return train_loss_sum, train_acc_sum"
   ]
  },
  {
   "cell_type": "code",
   "execution_count": 16,
   "metadata": {
    "attributes": {
     "classes": [],
     "id": "",
     "n": "16"
    }
   },
   "outputs": [],
   "source": [
    "# Saved in the d2l package for later use\n",
    "def train_ch13(net, train_iter, test_iter, loss, trainer, num_epochs,\n",
    "               ctx_list=d2l.try_all_gpus(), split_f=d2l.split_batch):\n",
    "    num_batches, timer = len(train_iter), d2l.Timer()\n",
    "    animator = d2l.Animator(xlabel='epoch', xlim=[0, num_epochs], ylim=[0, 1],\n",
    "                            legend=['train loss', 'train acc', 'test acc'])\n",
    "    for epoch in range(num_epochs):\n",
    "        # Store training_loss, training_accuracy, num_examples, num_features\n",
    "        metric = d2l.Accumulator(4)\n",
    "        for i, (features, labels) in enumerate(train_iter):\n",
    "            timer.start()\n",
    "            l, acc = train_batch_ch13(\n",
    "                net, features, labels, loss, trainer, ctx_list, split_f)\n",
    "            metric.add(l, acc, labels.shape[0], labels.size)\n",
    "            timer.stop()\n",
    "            if (i+1) % (num_batches // 5) == 0:\n",
    "                animator.add(epoch+i/num_batches,\n",
    "                             (metric[0]/metric[2], metric[1]/metric[3], None))\n",
    "        test_acc = d2l.evaluate_accuracy_gpus(net, test_iter, split_f)\n",
    "        animator.add(epoch+1, (None, None, test_acc))\n",
    "    print('loss %.3f, train acc %.3f, test acc %.3f' % (\n",
    "        metric[0]/metric[2], metric[1]/metric[3], test_acc))\n",
    "    print('%.1f exampes/sec on %s' % (\n",
    "        metric[2]*num_epochs/timer.sum(), ctx_list))"
   ]
  },
  {
   "cell_type": "markdown",
   "metadata": {},
   "source": [
    "Now, we can define the `train_with_data_aug` function to use image augmentation to train the model. This function obtains all available GPUs and uses Adam as the optimization algorithm for training. It then applies image augmentation to the training dataset, and finally calls the `train` function just defined to train and evaluate the model."
   ]
  },
  {
   "cell_type": "code",
   "execution_count": 18,
   "metadata": {
    "attributes": {
     "classes": [],
     "id": "",
     "n": "18"
    }
   },
   "outputs": [],
   "source": [
    "batch_size, ctx, net = 256, d2l.try_all_gpus(), d2l.resnet18(10)\n",
    "net.initialize(init=init.Xavier(), ctx=ctx)\n",
    "\n",
    "def train_with_data_aug(train_augs, test_augs, net, lr=0.001):\n",
    "    train_iter = load_cifar10(True, train_augs, batch_size)\n",
    "    test_iter = load_cifar10(False, test_augs, batch_size)\n",
    "    loss = gluon.loss.SoftmaxCrossEntropyLoss()\n",
    "    trainer = gluon.Trainer(net.collect_params(), 'adam',\n",
    "                            {'learning_rate': lr})\n",
    "    train_ch13(net, train_iter, test_iter, loss, trainer, 10, ctx)"
   ]
  },
  {
   "cell_type": "markdown",
   "metadata": {},
   "source": [
    "Now we train the model using image augmentation of random flipping left and right."
   ]
  },
  {
   "cell_type": "code",
   "execution_count": 19,
   "metadata": {
    "attributes": {
     "classes": [],
     "id": "",
     "n": "19"
    }
   },
   "outputs": [],
   "source": [
    "train_with_data_aug(train_augs, test_augs, net)"
   ]
  },
  {
   "cell_type": "markdown",
   "metadata": {},
   "source": [
    "## Summary\n",
    "\n",
    "* Image augmentation generates random images based on existing training data to cope with overfitting.\n",
    "* In order to obtain a definitive results during prediction, we usually only apply image augmentation to the training example, and do not use image augmentation with random operations during prediction.\n",
    "* We can obtain classes related to image augmentation from Gluon's `transforms` module.\n",
    "\n",
    "## Exercises\n",
    "\n",
    "1. Train the model without using image augmentation: `train_with_data_aug(no_aug, no_aug)`. Compare training and testing accuracy when using and not using image augmentation. Can this comparative experiment support the argument that image augmentation can mitigate overfitting? Why?\n",
    "1. Add different image augmentation methods in model training based on the CIFAR-10 dataset. Observe the implementation results.\n",
    "1. With reference to the MXNet documentation, what other image augmentation methods are provided in Gluon's `transforms` module?\n",
    "\n",
    "## [Discussions](https://discuss.mxnet.io/t/2442)\n",
    "\n",
    "![](../img/qr_image-augmentation.svg)"
   ]
  }
 ],
 "metadata": {
  "kernelspec": {
   "display_name": "Python 3",
   "name": "python3"
  },
  "language_info": {
   "name": "python"
  }
 },
 "nbformat": 4,
 "nbformat_minor": 2
}