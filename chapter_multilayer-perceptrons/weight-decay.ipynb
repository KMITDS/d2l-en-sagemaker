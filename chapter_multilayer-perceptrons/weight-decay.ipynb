{
 "cells": [
  {
   "cell_type": "markdown",
   "metadata": {},
   "source": [
    "The following additional libraries are needed to run this\n",
    "notebook on Sagemaker."
   ]
  },
  {
   "cell_type": "code",
   "execution_count": null,
   "metadata": {},
   "outputs": [],
   "source": [
    "!pip install d2l\n",
    "!pip install -U\n",
    "!pip install --pre\n",
    "!pip install mxnet-cu101mkl\n"
   ]
  },
  {
   "cell_type": "markdown",
   "metadata": {},
   "source": [
    "# Weight Decay\n",
    "\n",
    ":label:`sec_weight_decay`\n",
    "\n",
    "\n",
    "Now that we have characterized the problem of overfitting\n",
    "and motivated the need for capacity control,\n",
    "we can begin discussing some of the popular techniques\n",
    "used to these ends in practice.\n",
    "Recall that we can always mitigate overfitting\n",
    "by going out and collecting more training data,\n",
    "that can be costly and time consuming,\n",
    "typically making it impossible in the short run.\n",
    "For now, let's assume that we have already obtained\n",
    "as much high-quality data as our resources permit\n",
    "and focus on techniques aimed at limiting the capacity\n",
    "of the function classes under consideration.\n",
    "\n",
    "In our toy example,\n",
    "we saw that we could control the complexity of a polynomial\n",
    "by adjusting its degree.\n",
    "However, most of machine learning\n",
    "does not consist of polynomial curve fitting.\n",
    "And moreover, even when we focus on polynomial regression,\n",
    "when we deal with high-dimensional data,\n",
    "manipulating model capacity by tweaking the degree $d$ is problematic.\n",
    "To see why, note that for multivariate data\n",
    "we must generalize the concept of polynomials\n",
    "to include *monomials*, which are simply\n",
    "products of powers of variables.\n",
    "For example, $x_1^2 x_2$, and $x_3 x_5^2$ are both monomials of degree $3$.\n",
    "The number of such terms with a given degree $d$\n",
    "blows up as a function of the degree $d$.\n",
    "\n",
    "Concretely, for vectors of dimensionality $D$,\n",
    "the number of monomials of a given degree $d$ is ${D -1 + d} \\choose {D-1}$.\n",
    "Hence, a small change in degree, even from say $1$ to $2$ or $2$ to $3$\n",
    "would entail a massive blowup in the complexity of our model.\n",
    "Thus, tweaking the degree is too blunt a hammer.\n",
    "Instead, we need a more fine-grained tool\n",
    "for adjusting function complexity.\n",
    "\n",
    "## Squared Norm Regularization\n",
    "\n",
    "*Weight decay* (commonly called *L2* regularization),\n",
    "might be the most widely-used technique\n",
    "for regularizing parametric machine learning models.\n",
    "The basic intuition behind weight decay is\n",
    "the notion that among all functions $f$,\n",
    "the function $f = 0$ is the simplest.\n",
    "Intuitively, we can then measure functions by their proximity to zero.\n",
    "But how precisely should we measure\n",
    "the distance between a function and zero?\n",
    "There is no single right answer.\n",
    "In fact, entire branches of mathematics,\n",
    "e.g., in functional analysis and the theory of Banach spaces\n",
    "are devoted to answering this issue.\n",
    "\n",
    "For our present purposes, a very simple interpretation will suffice:\n",
    "We will consider a linear function\n",
    "$f(\\mathbf{x}) = \\mathbf{w}^\\top \\mathbf{x}$\n",
    "to be simple if its weight vector is small.\n",
    "We can measure this via $||mathbf{w}||^2$.\n",
    "One way of keeping the weight vector small\n",
    "is to add its norm as a penalty term\n",
    "to the problem of minimizing the loss.\n",
    "Thus we replace our original objective,\n",
    "*minimize the prediction error on the training labels*,\n",
    "with new objective,\n",
    "*minimize the sum of the prediction error and the penalty term*.\n",
    "Now, if the weight vector becomes too large,\n",
    "our learning algorithm will find more profit in\n",
    "minimizing the norm $|| \\mathbf{w} ||^2$\n",
    "versus minimizing the training error.\n",
    "That is exactly what we want.\n",
    "To illustrate things in code, let's revive our previous example\n",
    "from :numref:`sec_linear_regression` for linear regression.\n",
    "There, our loss was given by\n",
    "\n",
    "$$l(\\mathbf{w}, b) = \\frac{1}{n}\\sum_{i=1}^n \\frac{1}{2}\\left(\\mathbf{w}^\\top \\mathbf{x}^{(i)} + b - y^{(i)}\\right)^2.$$\n",
    "\n",
    "Recall that $\\mathbf{x}^{(i)}$ are the observations,\n",
    "$y^{(i)}$ are labels, and $(\\mathbf{w}, b)$\n",
    "are the weight and bias parameters respectively.\n",
    "To arrive at a new loss function\n",
    "that penalizes the size of the weight vector,\n",
    "we need to add $||mathbf{w}||^2$, but how much should we add?\n",
    "To address this, we need to add a new hyperparameter,\n",
    "that we will call the *regularization constant* and denote by $\\lambda$:\n",
    "\n",
    "$$l(\\mathbf{w}, b) + \\frac{\\lambda}{2} \\|\\mathbf{w}\\|^2.$$\n",
    "\n",
    "This non-negative parameter $\\lambda \\geq 0$\n",
    "governs the amount of regularization.\n",
    "For $\\lambda = 0$, we recover our original loss function,\n",
    "whereas for $\\lambda > 0$ we ensure that $\\mathbf{w}$ cannot grow too large. The astute reader might wonder why we are squaring\n",
    "the norm of the weight vector.\n",
    "We do this for two reasons.\n",
    "First, we do it for computational convenience.\n",
    "By squaring the L2 norm, we remove the square root,\n",
    "leaving the sum of squares of each component of the weight vector.\n",
    "This is convenient because it is easy to compute derivatives of a sum of terms (the sum of derivatives equals the derivative of the sum).\n",
    "\n",
    "Moreover, you might ask, why the L2 norm in the first place and not the L1 norm, or some other distance function.\n",
    "In fact, several other choices are valid\n",
    "and are popular throughout statistics.\n",
    "While L2-regularized linear models constitute\n",
    "the classic *ridge regression* algorithm\n",
    "L1-regularized linear regression\n",
    "is a similarly fundamental model in statistics\n",
    "popularly known as *lasso regression*.\n",
    "\n",
    "One mathematical reason for working with the L2 norm and not some other norm,\n",
    "is that it penalizes large components of the weight vector\n",
    "much more than it penalizes small ones.\n",
    "This encourages our learning algorithm to discover models\n",
    "which distribute their weight across a larger number of features,\n",
    "which might make them more robust in practice\n",
    "since they do not depend precariously on a single feature.\n",
    "The stochastic gradient descent updates for L2-regularized regression\n",
    "are as follows:\n",
    "\n",
    "$$\n",
    "\\begin{aligned}\n",
    "w & \\leftarrow \\left(1- \\frac{\\eta\\lambda}{|\\mathcal{B}|} \\right) \\mathbf{w} - \\frac{\\eta}{|\\mathcal{B}|} \\sum_{i \\in \\mathcal{B}} \\mathbf{x}^{(i)} \\left(\\mathbf{w}^\\top \\mathbf{x}^{(i)} + b - y^{(i)}\\right),\n",
    "\\end{aligned}\n",
    "$$\n",
    "\n",
    "As before, we update $\\mathbf{w}$ based on the amount\n",
    "by which our estimate differs from the observation.\n",
    "However, we also shrink the size of $\\mathbf{w}$ towards $0$.\n",
    "That is why the method is sometimes called \"weight decay\":\n",
    "because the penalty term literally causes our optimization algorithm\n",
    "to *decay* the magnitude of the weight at each step of training.\n",
    "This is more convenient than having to pick\n",
    "the number of parameters as we did for polynomials.\n",
    "In particular, we now have a continuous mechanism\n",
    "for adjusting the complexity of $f$.\n",
    "Small values of $\\lambda$ correspond to unconstrained $\\mathbf{w}$,\n",
    "whereas large values of $\\lambda$ constrain $\\mathbf{w}$ considerably.\n",
    "Since we do not want to have large bias terms either,\n",
    "we often add $b^2$ as a penalty, too.\n",
    "\n",
    "## High-Dimensional Linear Regression\n",
    "\n",
    "For high-dimensional regression it is difficult\n",
    "to pick the 'right' dimensions to omit.\n",
    "Weight-decay regularization is a much more convenient alternative.\n",
    "We will illustrate this below.\n",
    "First, we will generate some synthetic data as before\n",
    "\n",
    "$$y = 0.05 + \\sum_{i = 1}^d 0.01 x_i + \\epsilon \\text{ where }\n",
    "\\epsilon \\sim \\mathcal{N}(0, 0.01).$$\n",
    "\n",
    "representing our label as a linear function of our inputs,\n",
    "corrupted by Gaussian noise with zero mean and variance 0.01.\n",
    "To observe the effects of overfitting more easily,\n",
    "we can make our problem high-dimensional,\n",
    "setting the data dimension to $d = 200$\n",
    "and working with a relatively small number of training \n",
    "examples---here we will set the sample size to 20:"
   ]
  },
  {
   "cell_type": "code",
   "execution_count": 2,
   "metadata": {
    "attributes": {
     "classes": [],
     "id": "",
     "n": "2"
    }
   },
   "outputs": [],
   "source": [
    "%matplotlib inline\n",
    "import d2l\n",
    "from mxnet import autograd, gluon, init, np, npx\n",
    "from mxnet.gluon import nn\n",
    "npx.set_np()\n",
    "\n",
    "n_train, n_test, num_inputs, batch_size = 20, 100, 200, 1\n",
    "true_w, true_b = np.ones((num_inputs, 1)) * 0.01, 0.05\n",
    "train_data = d2l.synthetic_data(true_w, true_b, n_train)\n",
    "train_iter = d2l.load_array(train_data, batch_size)\n",
    "test_data = d2l.synthetic_data(true_w, true_b, n_test)\n",
    "test_iter = d2l.load_array(test_data, batch_size, is_train=False)"
   ]
  },
  {
   "cell_type": "markdown",
   "metadata": {},
   "source": [
    "## Implementation from Scratch\n",
    "\n",
    "Next, we will show how to implement weight decay from scratch.\n",
    "All we have to do here is to add the squared $\\ell_2$ penalty\n",
    "as an additional loss term added to the original target function.\n",
    "The squared norm penalty derives its name from the fact\n",
    "that we are adding the second power $\\sum_i w_i^2$.\n",
    "The $\\ell_2$ is just one among an infinite class of norms call p-norms,\n",
    "many of which you might encounter in the future.\n",
    "In general, for some number $p$, the $\\ell_p$ norm is defined as\n",
    "\n",
    "$$\\|\\mathbf{w}\\|_p^p := \\sum_{i=1}^d |w_i|^p.$$\n",
    "\n",
    "### Initializing Model Parameters\n",
    "\n",
    "First, we will define a function to randomly initialize our model parameters and run `attach_grad` on each to allocate memory for the gradients we will calculate."
   ]
  },
  {
   "cell_type": "code",
   "execution_count": 5,
   "metadata": {
    "attributes": {
     "classes": [],
     "id": "",
     "n": "5"
    }
   },
   "outputs": [],
   "source": [
    "def init_params():\n",
    "    w = np.random.normal(scale=1, size=(num_inputs, 1))\n",
    "    b = np.zeros(1)\n",
    "    w.attach_grad()\n",
    "    b.attach_grad()\n",
    "    return [w, b]"
   ]
  },
  {
   "cell_type": "markdown",
   "metadata": {},
   "source": [
    "### Defining $\\ell_2$ Norm Penalty\n",
    "\n",
    "Perhaps the most convenient way to implement this penalty\n",
    "is to square all terms in place and sum them up.\n",
    "We divide by $2$ by convention\n",
    "(when we take the derivative of a quadratic function,\n",
    "the $2$ and $1/2$ cancel out, ensuring that the expression\n",
    "for the update looks nice and simple)."
   ]
  },
  {
   "cell_type": "code",
   "execution_count": 6,
   "metadata": {
    "attributes": {
     "classes": [],
     "id": "",
     "n": "6"
    }
   },
   "outputs": [],
   "source": [
    "def l2_penalty(w):\n",
    "    return (w**2).sum() / 2"
   ]
  },
  {
   "cell_type": "markdown",
   "metadata": {},
   "source": [
    "### Defining the Train and Test Functions\n",
    "\n",
    "The following code defines how to train and test the model\n",
    "separately on the training dataset and the test dataset.\n",
    "Unlike the previous sections, here, the $\\ell_2$ norm penalty term\n",
    "is added when calculating the final loss function.\n",
    "The linear network and the squared loss\n",
    "have not changed since the previous chapter,\n",
    "so we will just import them via `d2l.linreg` and `d2l.squared_loss`\n",
    "to reduce clutter."
   ]
  },
  {
   "cell_type": "code",
   "execution_count": 7,
   "metadata": {
    "attributes": {
     "classes": [],
     "id": "",
     "n": "7"
    }
   },
   "outputs": [],
   "source": [
    "def train(lambd):\n",
    "    w, b = init_params()\n",
    "    net, loss = lambda X: d2l.linreg(X, w, b), d2l.squared_loss\n",
    "    num_epochs, lr = 100, 0.003\n",
    "    animator = d2l.Animator(xlabel='epochs', ylabel='loss', yscale='log',\n",
    "                            xlim=[1, num_epochs], legend=['train', 'test'])\n",
    "    for epoch in range(1, num_epochs + 1):\n",
    "        for X, y in train_iter:\n",
    "            with autograd.record():\n",
    "                # The L2 norm penalty term has been added\n",
    "                l = loss(net(X), y) + lambd * l2_penalty(w)\n",
    "            l.backward()\n",
    "            d2l.sgd([w, b], lr, batch_size)\n",
    "        if epoch % 5 == 0:\n",
    "            animator.add(epoch+1, (d2l.evaluate_loss(net, train_iter, loss),\n",
    "                                   d2l.evaluate_loss(net, test_iter, loss)))\n",
    "    print('l1 norm of w:', np.abs(w).sum())"
   ]
  },
  {
   "cell_type": "markdown",
   "metadata": {},
   "source": [
    "### Training without Regularization\n",
    "\n",
    "Next, let's train and test the high-dimensional linear regression model.\n",
    "When `lambd = 0` we do not use weight decay.\n",
    "As a result, while the training error decreases, the test error does not.\n",
    "This is a perfect example of overfitting."
   ]
  },
  {
   "cell_type": "code",
   "execution_count": 8,
   "metadata": {
    "attributes": {
     "classes": [],
     "id": "",
     "n": "8"
    }
   },
   "outputs": [],
   "source": [
    "train(lambd=0)"
   ]
  },
  {
   "cell_type": "markdown",
   "metadata": {},
   "source": [
    "### Using Weight Decay\n",
    "\n",
    "The example below shows that even though the training error increased,\n",
    "the error on the test set decreased.\n",
    "This is precisely the improvement that we expect from using weight decay.\n",
    "While not perfect, overfitting has been mitigated to some extent.\n",
    "In addition, the $\\ell_2$ norm of the weight $\\mathbf{w}$\n",
    "is smaller than without using weight decay."
   ]
  },
  {
   "cell_type": "code",
   "execution_count": 9,
   "metadata": {
    "attributes": {
     "classes": [],
     "id": "",
     "n": "9"
    }
   },
   "outputs": [],
   "source": [
    "train(lambd=3)"
   ]
  },
  {
   "cell_type": "markdown",
   "metadata": {},
   "source": [
    "## Concise Implementation\n",
    "\n",
    "Because weight decay is ubiquitous in neural network optimization,\n",
    "Gluon makes it especially convenient,\n",
    "integrating weight decay into the optimization algorithm itself\n",
    "for easy use in combination with any loss function.\n",
    "Moreover, this integration serves a computational benefit,\n",
    "allowing implementation tricks to add weight decay to the algorithm,\n",
    "without any additional computational overhead.\n",
    "Since the weight decay portion of the update\n",
    "depends only on the current value of each parameter,\n",
    "and the optimizer must to touch each parameter once anyway.\n",
    "\n",
    "In the following code, we specify\n",
    "the weight decay hyperparameter directly\n",
    "through the `wd` parameter when instantiating our `Trainer`.\n",
    "By default, Gluon decays both weights and biases simultaneously.\n",
    "Note that we can have *different* optimizers\n",
    "for different sets of parameters.\n",
    "For instance, we can have one `Trainer`\n",
    "with weight decay for the weights $\\mathbf{w}$\n",
    "and another without weight decay to take care of the bias $b$."
   ]
  },
  {
   "cell_type": "code",
   "execution_count": null,
   "metadata": {},
   "outputs": [],
   "source": [
    "def train_gluon(wd):\n",
    "    net = nn.Sequential()\n",
    "    net.add(nn.Dense(1))\n",
    "    net.initialize(init.Normal(sigma=1))\n",
    "    loss = gluon.loss.L2Loss()\n",
    "    num_epochs, lr = 100, 0.003\n",
    "    # The weight parameter has been decayed. Weight names generally end with\n",
    "    # \"weight\"\n",
    "    trainer_w = gluon.Trainer(net.collect_params('.*weight'), 'sgd',\n",
    "                              {'learning_rate': lr, 'wd': wd})\n",
    "    # The bias parameter has not decayed. Bias names generally end with \"bias\"\n",
    "    trainer_b = gluon.Trainer(net.collect_params('.*bias'), 'sgd',\n",
    "                              {'learning_rate': lr})\n",
    "    animator = d2l.Animator(xlabel='epochs', ylabel='loss', yscale='log',\n",
    "                            xlim=[1, num_epochs], legend=['train', 'test'])\n",
    "    for epoch in range(1, num_epochs+1):\n",
    "        for X, y in train_iter:\n",
    "            with autograd.record():\n",
    "                l = loss(net(X), y)\n",
    "            l.backward()\n",
    "            # Call the step function on each of the two Trainer instances to\n",
    "            # update the weight and bias separately\n",
    "            trainer_w.step(batch_size)\n",
    "            trainer_b.step(batch_size)\n",
    "        if epoch % 5 == 0:\n",
    "            animator.add(epoch+1, (d2l.evaluate_loss(net, train_iter, loss),\n",
    "                                   d2l.evaluate_loss(net, test_iter, loss)))\n",
    "    print('L1 norm of w:', np.abs(net[0].weight.data()).sum())"
   ]
  },
  {
   "cell_type": "markdown",
   "metadata": {},
   "source": [
    "The plots look just the same as when we implemented weight decay from scratch\n",
    "but they run a bit faster and are easier to implement,\n",
    "a benefit that will become more pronounced for large problems."
   ]
  },
  {
   "cell_type": "code",
   "execution_count": null,
   "metadata": {},
   "outputs": [],
   "source": [
    "train_gluon(0)"
   ]
  },
  {
   "cell_type": "code",
   "execution_count": null,
   "metadata": {},
   "outputs": [],
   "source": [
    "train_gluon(3)"
   ]
  },
  {
   "cell_type": "markdown",
   "metadata": {},
   "source": [
    "So far, we only touched upon one notion of\n",
    "what constitutes a simple *linear* function.\n",
    "For nonlinear functions, what constitutes *simplicity*\n",
    "can be a far more complex question.\n",
    "For instance, there exist [Reproducing Kernel Hilbert Spaces (RKHS)](https://en.wikipedia.org/wiki/Reproducing_kernel_Hilbert_space)\n",
    "which allow one to use many of the tools\n",
    "introduced for linear functions in a nonlinear context.\n",
    "Unfortunately, RKHS-based algorithms\n",
    "do not always scale well to massive amounts of data.\n",
    "For the purposes of this book, we limit ourselves\n",
    "to simply summing over the weights for different layers,\n",
    "e.g., via $\\sum_l \\|\\mathbf{w}_l\\|^2$,\n",
    "which is equivalent to weight decay applied to all layers.\n",
    "\n",
    "\n",
    "## Summary\n",
    "\n",
    "* Regularization is a common method for dealing with overfitting. It adds a penalty term to the loss function on the training set to reduce the complexity of the learned model.\n",
    "* One particular choice for keeping the model simple is weight decay using an $\\ell_2$ penalty. This leads to weight decay in the update steps of the learning algorithm.\n",
    "* Gluon provides automatic weight decay functionality in the optimizer by setting the hyperparameter `wd`.\n",
    "* You can have different optimizers within the same training loop, e.g., for different sets of parameters.\n",
    "\n",
    "\n",
    "## Exercises\n",
    "\n",
    "1. Experiment with the value of $\\lambda$ in the estimation problem in this page. Plot training and test accuracy as a function of $\\lambda$. What do you observe?\n",
    "1. Use a validation set to find the optimal value of $\\lambda$. Is it really the optimal value? Does this matter?\n",
    "1. What would the update equations look like if instead of $\\|\\mathbf{w}\\|^2$ we used $\\sum_i |w_i|$ as our penalty of choice (this is called $\\ell_1$ regularization).\n",
    "1. We know that $\\|\\mathbf{w}\\|^2 = \\mathbf{w}^\\top \\mathbf{w}$. Can you find a similar equation for matrices (mathematicians call this the [Frobenius norm](https://en.wikipedia.org/wiki/Matrix_norm#Frobenius_norm))?\n",
    "1. Review the relationship between training error and generalization error. In addition to weight decay, increased training, and the use of a model of suitable complexity, what other ways can you think of to deal with overfitting?\n",
    "1. In Bayesian statistics we use the product of prior and likelihood to arrive at a posterior via $P(w \\mid x) \\propto P(x \\mid w) P(w)$. How can you identify $P(w)$ with regularization?\n",
    "\n",
    "## [Discussions](https://discuss.mxnet.io/t/2342)\n",
    "\n",
    "![](../img/qr_weight-decay.svg)"
   ]
  }
 ],
 "metadata": {
  "kernelspec": {
   "display_name": "Python 3",
   "name": "python3"
  },
  "language_info": {
   "name": "python"
  }
 },
 "nbformat": 4,
 "nbformat_minor": 2
}