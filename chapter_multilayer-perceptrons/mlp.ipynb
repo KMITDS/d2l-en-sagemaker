{
 "cells": [
  {
   "cell_type": "markdown",
   "metadata": {},
   "source": [
    "The following additional libraries are needed to run this\n",
    "notebook on Sagemaker."
   ]
  },
  {
   "cell_type": "code",
   "execution_count": null,
   "metadata": {},
   "outputs": [],
   "source": [
    "!pip install -U\n",
    "!pip install --pre\n",
    "!pip install mxnet-cu101mkl\n",
    "!pip install d2l\n"
   ]
  },
  {
   "cell_type": "markdown",
   "metadata": {},
   "source": [
    "# Multilayer Perceptron\n",
    "\n",
    ":label:`sec_mlp`\n",
    "\n",
    "\n",
    "In the previous chapters, we showed how you could implement multiclass logistic regression (also called softmax regression)\n",
    "for classifying images of clothing into the 10 possible categories.\n",
    "To get there, we had to learn how to wrangle data,\n",
    "coerce our outputs into a valid probability distribution (via `softmax`),\n",
    "how to apply an appropriate loss function,\n",
    "and how to optimize over our parameters.\n",
    "Now that we’ve covered these preliminaries,\n",
    "we are free to focus our attention on\n",
    "the more exciting enterprise of designing powerful models\n",
    "using deep neural networks.\n",
    "\n",
    "## Hidden Layers\n",
    "\n",
    "Let's recall linear regression and softmax regression\n",
    "with an example as illustrated in :numref:`fig_singlelayer`.\n",
    "In general, we mapped our inputs directly to our outputs\n",
    "via a single linear transformation:\n",
    "\n",
    "$$\n",
    "\\hat{\\mathbf{o}} = \\mathrm{softmax}(\\mathbf{W} \\mathbf{x} + \\mathbf{b}).\n",
    "$$\n",
    "\n",
    "![Single layer perceptron with 5 output units.](../img/singlelayer.svg)\n",
    "\n",
    ":label:`fig_singlelayer`\n",
    "\n",
    "\n",
    "If our labels really were related to our input data\n",
    "by an approximately linear function, then this approach would be perfect.\n",
    "But linearity is a *strong assumption*.\n",
    "Linearity implies that for whatever target value we are trying to predict,\n",
    "increasing the value of each of our inputs\n",
    "should either drive the value of the output up or drive it down,\n",
    "irrespective of the value of the other inputs.\n",
    "\n",
    "Sometimes this makes sense!\n",
    "Say we are trying to predict whether an individual\n",
    "will or will not repay a loan.\n",
    "We might reasonably imagine that all else being equal,\n",
    "an applicant with a higher income\n",
    "would be more likely to repay than one with a lower income.\n",
    "In these cases, linear models might perform well,\n",
    "and they might even be hard to beat.\n",
    "\n",
    "But what about classifying images in FashionMNIST?\n",
    "Should increasing the intensity of the pixel at location (13, 17)\n",
    "always increase the likelihood that the image depicts a pocketbook?\n",
    "That seems ridiculous because we all know\n",
    "that you cannot make sense out of an image\n",
    "without accounting for the interactions among pixels.\n",
    "\n",
    "\n",
    "\n",
    "### From One to Many\n",
    "\n",
    "As another case, consider trying to classify images\n",
    "based on whether they depict *cats* or *dogs* given black-and-white images.\n",
    "\n",
    "If we use a linear model, we'd basically be saying that\n",
    "for each pixel, increasing its value (making it more white)\n",
    "must always increase the probability that the image depicts a dog\n",
    "or must always increase the probability that the image depicts a cat.\n",
    "We would be making the absurd assumption that the only requirement\n",
    "for differentiating cats vs. dogs is to assess how bright they are.\n",
    "That approach is doomed to fail in a work\n",
    "that contains both black dogs and black cats,\n",
    "and both white dogs and white cats.\n",
    "\n",
    "Teasing out what is depicted in an image generally requires\n",
    "allowing more complex relationships between our inputs and outputs.\n",
    "Thus we need models capable of discovering patterns\n",
    "that might be characterized by interactions among the many features.\n",
    "We can over come these limitations of linear models\n",
    "and handle a more general class of functions\n",
    "by incorporating one or more hidden layers.\n",
    "The easiest way to do this is to stack\n",
    "many layers of neurons on top of each other.\n",
    "Each layer feeds into the layer above it, until we generate an output.\n",
    "This architecture is commonly called a *multilayer perceptron*,\n",
    "often abbreviated as *MLP*.\n",
    "The neural network diagram for an MLP looks like :numref:`fig_nlp`.\n",
    "\n",
    "![Multilayer perceptron with hidden layers. This example contains a hidden layer with 5 hidden units in it. ](../img/mlp.svg)\n",
    "\n",
    ":label:`fig_nlp`\n",
    "\n",
    "\n",
    "The multilayer perceptron above has 4 inputs and 3 outputs,\n",
    "and the hidden layer in the middle contains 5 hidden units.\n",
    "Since the input layer does not involve any calculations,\n",
    "building this network would consist of\n",
    "implementing 2 layers of computation.\n",
    "The neurons in the input layer are fully connected\n",
    "to the inputs in the hidden layer.\n",
    "Likewise, the neurons in the hidden layer\n",
    "are fully connected to the neurons in the output layer.\n",
    "\n",
    "\n",
    "### From Linear to Nonlinear\n",
    "\n",
    "We can write out the calculations that define this one-hidden-layer MLP in mathematical notation as follows:\n",
    "$$\n",
    "\\begin{aligned}\n",
    "    \\mathbf{h} & = \\mathbf{W}_1 \\mathbf{x} + \\mathbf{b}_1, \\\\\n",
    "    \\mathbf{o} & = \\mathbf{W}_2 \\mathbf{h} + \\mathbf{b}_2, \\\\\n",
    "    \\hat{\\mathbf{y}} & = \\mathrm{softmax}(\\mathbf{o}).\n",
    "\\end{aligned}\n",
    "$$\n",
    "\n",
    "By adding another layer, we have added two new sets of parameters,\n",
    "but what have we gained in exchange?\n",
    "In the model defined above, we do not achieve anything for our troubles!\n",
    "\n",
    "That is because our hidden units are just a linear function of the inputs\n",
    "and the outputs (pre-softmax) are just a linear function of the hidden units.\n",
    "A linear function of a linear function is itself a linear function.\n",
    "That means that for any values of the weights,\n",
    "we could just collapse out the hidden layer\n",
    "yielding an equivalent single-layer model using\n",
    "$\\mathbf{W} = \\mathbf{W}_2 \\mathbf{W}_1$ and $\\mathbf{b} = \\mathbf{W}_2 \\mathbf{b}_1 + \\mathbf{b}_2$.\n",
    "\n",
    "$$\\mathbf{o} = \\mathbf{W}_2 \\mathbf{h} + \\mathbf{b}_2 = \\mathbf{W}_2 (\\mathbf{W}_1 \\mathbf{x} + \\mathbf{b}_1) + \\mathbf{b}_2 = (\\mathbf{W}_2 \\mathbf{W}_1) \\mathbf{x} + (\\mathbf{W}_2 \\mathbf{b}_1 + \\mathbf{b}_2) = \\mathbf{W} \\mathbf{x} + \\mathbf{b}.$$\n",
    "\n",
    "In order to get a benefit from multilayer architectures,\n",
    "we need another key ingredient---a nonlinearity $\\sigma$ to be applied to each of the hidden units after each layer's linear transformation.\n",
    "The most popular choice for the nonlinearity these days is the rectified linear unit (ReLU) $\\mathrm{max}(x, 0)$.\n",
    "After incorporating these non-linearities\n",
    "it becomes impossible to merge layers.\n",
    "\n",
    "$$\n",
    "\\begin{aligned}\n",
    "    \\mathbf{h} & = \\sigma(\\mathbf{W}_1 \\mathbf{x} + \\mathbf{b}_1), \\\\\n",
    "    \\mathbf{o} & = \\mathbf{W}_2 \\mathbf{h} + \\mathbf{b}_2, \\\\\n",
    "    \\hat{\\mathbf{y}} & = \\mathrm{softmax}(\\mathbf{o}).\n",
    "\\end{aligned}\n",
    "$$\n",
    "\n",
    "Clearly, we could continue stacking such hidden layers,\n",
    "e.g., $\\mathbf{h}_1 = \\sigma(\\mathbf{W}_1 \\mathbf{x} + \\mathbf{b}_1)$\n",
    "and $\\mathbf{h}_2 = \\sigma(\\mathbf{W}_2 \\mathbf{h}_1 + \\mathbf{b}_2)$\n",
    "on top of each other to obtain a true multilayer perceptron.\n",
    "\n",
    "Multilayer perceptrons can account for complex interactions in the inputs\n",
    "because the hidden neurons depend on the values of each of the inputs.\n",
    "It’s easy to design a hidden node that does arbitrary computation,\n",
    "such as, for instance, logical operations on its inputs.\n",
    "Moreover, for certain choices of the activation function\n",
    "it’s widely known that multilayer perceptrons are universal approximators.\n",
    "That means that even for a single-hidden-layer neural network,\n",
    "with enough nodes, and the right set of weights,\n",
    "we can model any function at all!\n",
    "*Actually learning that function is the hard part.*\n",
    "\n",
    "Moreover, just because a single-layer network *can* learn any function\n",
    "does not mean that you should try to solve all of your problems with single-layer networks.\n",
    "It turns out that we can approximate many functions\n",
    "much more compactly if we use deeper (vs wider) neural networks.\n",
    "We’ll get more into the math in a subsequent chapter,\n",
    "but for now let’s actually build an MLP.\n",
    "In this example, we’ll implement a multilayer perceptron\n",
    "with two hidden layers and one output layer.\n",
    "\n",
    "### Vectorization and Minibatch\n",
    "\n",
    "As before, by the matrix $\\mathbf{X}$, we denote a minibatch of inputs.\n",
    "The calculations to produce outputs from an MLP with two hidden layers\n",
    "can thus be expressed:\n",
    "\n",
    "$$\n",
    "\\begin{aligned}\n",
    "    \\mathbf{H}_1 & = \\sigma(\\mathbf{W}_1 \\mathbf{X} + \\mathbf{b}_1), \\\\\n",
    "    \\mathbf{H}_2 & = \\sigma(\\mathbf{W}_2 \\mathbf{H}_1 + \\mathbf{b}_2), \\\\\n",
    "    \\mathbf{O} & = \\mathrm{softmax}(\\mathbf{W}_3 \\mathbf{H}_2 + \\mathbf{b}_3).\n",
    "\\end{aligned}\n",
    "$$\n",
    "\n",
    "With some abuse of notation, we define the nonlinearity $\\sigma$\n",
    "to apply to its inputs on a row-wise fashion, i.e., one observation at a time.\n",
    "Note that we are also using the notation for *softmax* in the same way to denote a row-wise operation.\n",
    "Often, as in this section, the activation functions that we apply to hidden layers are not merely row-wise, but component wise.\n",
    "That means that after computing the linear portion of the layer,\n",
    "we can calculate each nodes activation without looking at the values taken by the other hidden units.\n",
    "This is true for most activation functions\n",
    "(the batch normalization operation will be introduced in :numref:`sec_batch_norm` is a notable exception to that rule)."
   ]
  },
  {
   "cell_type": "code",
   "execution_count": 1,
   "metadata": {
    "attributes": {
     "classes": [],
     "id": "",
     "n": "1"
    }
   },
   "outputs": [],
   "source": [
    "%matplotlib inline\n",
    "import d2l\n",
    "from mxnet import autograd, np, npx\n",
    "npx.set_np()"
   ]
  },
  {
   "cell_type": "markdown",
   "metadata": {},
   "source": [
    "## Activation Functions\n",
    "\n",
    "Because they are so fundamental to deep learning, before going further,\n",
    "let's take a brief look at some common activation functions.\n",
    "\n",
    "### ReLU Function\n",
    "\n",
    "As stated above, the most popular choice,\n",
    "due to its simplicity of implementation\n",
    "and its efficacy in training is the rectified linear unit (ReLU).\n",
    "ReLUs provide a very simple nonlinear transformation.\n",
    "Given the element $z$, the function is defined\n",
    "as the maximum of that element and 0.\n",
    "\n",
    "$$\\mathrm{ReLU}(z) = \\max(z, 0).$$\n",
    "\n",
    "It can be understood that the ReLU function retains only positive elements and discards negative elements (setting those nodes to 0).\n",
    "To get a better idea of what it looks like, we can plot it.\n",
    "\n",
    "\n",
    "Because it is used so commonly, NDarray supports\n",
    "the `relu` function as a basic native operator.\n",
    "As you can see, the activation function is piece-wise linear."
   ]
  },
  {
   "cell_type": "code",
   "execution_count": 2,
   "metadata": {
    "attributes": {
     "classes": [],
     "id": "",
     "n": "2"
    }
   },
   "outputs": [],
   "source": [
    "x = np.arange(-8.0, 8.0, 0.1)\n",
    "x.attach_grad()\n",
    "with autograd.record():\n",
    "    y = npx.relu(x)\n",
    "d2l.set_figsize((4, 2.5))\n",
    "d2l.plot(x, y, 'x', 'relu(x)')"
   ]
  },
  {
   "cell_type": "markdown",
   "metadata": {},
   "source": [
    "When the input is negative, the derivative of ReLU function is 0\n",
    "and when the input is positive, the derivative of ReLU function is 1.\n",
    "Note that the ReLU function is not differentiable\n",
    "when the input takes value precisely equal to  0.\n",
    "In these cases, we go with the left-hand-side (LHS) derivative\n",
    "and say that the derivative is 0 when the input is 0.\n",
    "We can get away with this because the input may never actually be zero.\n",
    "There is an old adage that if subtle boundary conditions matter,\n",
    "we are probably doing (*real*) mathematics, not engineering.\n",
    "That conventional wisdom may apply here.\n",
    "See the derivative of the ReLU function plotted below."
   ]
  },
  {
   "cell_type": "code",
   "execution_count": 3,
   "metadata": {
    "attributes": {
     "classes": [],
     "id": "",
     "n": "3"
    }
   },
   "outputs": [],
   "source": [
    "y.backward()\n",
    "d2l.plot(x, x.grad, 'x', 'grad of relu')"
   ]
  },
  {
   "cell_type": "markdown",
   "metadata": {},
   "source": [
    "Note that there are many variants to the ReLU function, such as the parameterized ReLU (pReLU) of [He et al., 2015](https://arxiv.org/abs/1502.01852). This variation adds a linear term to the ReLU, so some information still gets through, even when the argument is negative.\n",
    "\n",
    "$$\\mathrm{pReLU}(x) = \\max(0, x) + \\alpha \\min(0, x).$$\n",
    "\n",
    "The reason for using the ReLU is that its derivatives are particularly well behaved: either they vanish or they just let the argument through. This makes optimization better behaved and it reduces the issue of the vanishing gradient problem (more on this later).\n",
    "\n",
    "### Sigmoid Function\n",
    "\n",
    "The sigmoid function transforms its inputs which take values in $\\mathbb{R}$ to the interval $(0, 1)$.\n",
    "For that reason, the sigmoid is often called a *squashing* function:\n",
    "it squashes any input in the range (-inf, inf)\n",
    "to some value in the range (0, 1).\n",
    "\n",
    "$$\\mathrm{sigmoid}(x) = \\frac{1}{1 + \\exp(-x)}.$$\n",
    "\n",
    "In the earliest neural networks, scientists\n",
    "were interested in modeling biological neurons\n",
    "which either *fire* or *do not fire*.\n",
    "Thus the pioneers of this field, going all the way back to McCulloch and Pitts in the 1940s, were focused on thresholding units.\n",
    "A thresholding function takes either value $0$\n",
    "(if the input is below the threshold)\n",
    "or value $1$ (if the input exceeds the threshold)\n",
    "\n",
    "\n",
    "When attention shifted to gradient based learning,\n",
    "the sigmoid function was a natural choice\n",
    "because it is a smooth, differentiable approximation to a thresholding unit.\n",
    "Sigmoids are still common as activation functions on the output units,\n",
    "when we want to interpret the outputs as probabilities\n",
    "for binary classification problems\n",
    "(you can think of the sigmoid as a special case of the softmax)\n",
    "but the sigmoid has mostly been replaced by the simpler and easier to train ReLU for most use in hidden layers.\n",
    "In the \"Recurrent Neural Network\" chapter, we will describe\n",
    "how sigmoid units can be used to control\n",
    "the flow of information in a neural network\n",
    "thanks to its capacity to transform the value range between 0 and 1.\n",
    "\n",
    "See the sigmoid function plotted below.\n",
    "When the input is close to 0, the sigmoid function\n",
    "approaches a linear transformation."
   ]
  },
  {
   "cell_type": "code",
   "execution_count": 4,
   "metadata": {
    "attributes": {
     "classes": [],
     "id": "",
     "n": "4"
    }
   },
   "outputs": [],
   "source": [
    "with autograd.record():\n",
    "    y = npx.sigmoid(x)\n",
    "d2l.plot(x, y, 'x', 'sigmoid(x)')"
   ]
  },
  {
   "cell_type": "markdown",
   "metadata": {},
   "source": [
    "The derivative of sigmoid function is given by the following equation:\n",
    "\n",
    "$$\\frac{d}{dx} \\mathrm{sigmoid}(x) = \\frac{\\exp(-x)}{(1 + \\exp(-x))^2} = \\mathrm{sigmoid}(x)\\left(1-\\mathrm{sigmoid}(x)\\right).$$\n",
    "\n",
    "\n",
    "The derivative of sigmoid function is plotted below.\n",
    "Note that when the input is 0, the derivative of the sigmoid function\n",
    "reaches a maximum of 0.25. As the input diverges from 0 in either direction, the derivative approaches 0."
   ]
  },
  {
   "cell_type": "code",
   "execution_count": 5,
   "metadata": {
    "attributes": {
     "classes": [],
     "id": "",
     "n": "5"
    }
   },
   "outputs": [],
   "source": [
    "y.backward()\n",
    "d2l.plot(x, x.grad, 'x', 'grad of sigmoid')"
   ]
  },
  {
   "cell_type": "markdown",
   "metadata": {},
   "source": [
    "### Tanh Function\n",
    "\n",
    "Like the sigmoid function, the tanh (Hyperbolic Tangent)\n",
    "function also squashes its inputs,\n",
    "transforms them into elements on the interval between -1 and 1:\n",
    "\n",
    "$$\\text{tanh}(x) = \\frac{1 - \\exp(-2x)}{1 + \\exp(-2x)}.$$\n",
    "\n",
    "We plot the tanh function blow. Note that as the input nears 0, the tanh function approaches a linear transformation. Although the shape of the function is similar to the sigmoid function, the tanh function exhibits point symmetry about the origin of the coordinate system."
   ]
  },
  {
   "cell_type": "code",
   "execution_count": 6,
   "metadata": {
    "attributes": {
     "classes": [],
     "id": "",
     "n": "6"
    }
   },
   "outputs": [],
   "source": [
    "with autograd.record():\n",
    "    y = np.tanh(x)\n",
    "d2l.plot(x, y, 'x', 'tanh(x)')"
   ]
  },
  {
   "cell_type": "markdown",
   "metadata": {},
   "source": [
    "The derivative of the Tanh function is:\n",
    "\n",
    "$$\\frac{d}{dx} \\mathrm{tanh}(x) = 1 - \\mathrm{tanh}^2(x).$$\n",
    "\n",
    "The derivative of tanh function is plotted below.\n",
    "As the input nears 0,\n",
    "the derivative of the tanh function approaches a maximum of 1.\n",
    "And as we saw with the sigmoid function,\n",
    "as the input moves away from 0 in either direction,\n",
    "the derivative of the tanh function approaches 0."
   ]
  },
  {
   "cell_type": "code",
   "execution_count": 7,
   "metadata": {
    "attributes": {
     "classes": [],
     "id": "",
     "n": "7"
    }
   },
   "outputs": [],
   "source": [
    "y.backward()\n",
    "d2l.plot(x, x.grad, 'x', 'grad of tanh')"
   ]
  },
  {
   "cell_type": "markdown",
   "metadata": {},
   "source": [
    "In summary, we now know how to incorporate nonlinearities\n",
    "to build expressive multilayer neural network architectures.\n",
    "As a side note, your knowledge now already\n",
    "puts you in command of the state of the art in deep learning, circa 1990.\n",
    "In fact, you have an advantage over anyone working the 1990s,\n",
    "because you can leverage powerful open-source deep learning frameworks\n",
    "to build models rapidly, using only a few lines of code.\n",
    "Previously, getting these nets training\n",
    "required researchers to code up thousands of lines of C and Fortran.\n",
    "\n",
    "## Summary\n",
    "\n",
    "* The multilayer perceptron adds one or multiple fully-connected hidden layers between the output and input layers and transforms the output of the hidden layer via an activation function.\n",
    "* Commonly-used activation functions include the ReLU function, the sigmoid function, and the tanh function.\n",
    "\n",
    "\n",
    "## Exercises\n",
    "\n",
    "1. Compute the derivative of the tanh and the pReLU activation function.\n",
    "1. Show that a multilayer perceptron using only ReLU (or pReLU) constructs a continuous piecewise linear function.\n",
    "1. Show that $\\mathrm{tanh}(x) + 1 = 2 \\mathrm{sigmoid}(2x)$.\n",
    "1. Assume we have a multilayer perceptron *without* nonlinearities between the layers. In particular, assume that we have $d$ input dimensions, $d$ output dimensions and that one of the layers had only $d/2$ dimensions. Show that this network is less expressive (powerful) than a single layer perceptron.\n",
    "1. Assume that we have a nonlinearity that applies to one minibatch at a time. What kinds of problems do you expect this to cause?\n",
    "\n",
    "## [Discussions](https://discuss.mxnet.io/t/2338)\n",
    "\n",
    "![](../img/qr_mlp.svg)"
   ]
  }
 ],
 "metadata": {
  "kernelspec": {
   "display_name": "conda_mxnet_p36",
   "name": "conda_mxnet_p36"
  },
  "language_info": {
   "name": "python"
  }
 },
 "nbformat": 4,
 "nbformat_minor": 2
}