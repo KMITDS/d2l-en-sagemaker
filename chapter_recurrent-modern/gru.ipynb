{
 "cells": [
  {
   "cell_type": "markdown",
   "metadata": {},
   "source": [
    "The following additional libraries are needed to run this\n",
    "notebook on Sagemaker."
   ]
  },
  {
   "cell_type": "code",
   "execution_count": null,
   "metadata": {},
   "outputs": [],
   "source": [
    "!pip install -U\n",
    "!pip install --pre\n",
    "!pip install mxnet-cu101mkl\n",
    "!pip install d2l\n"
   ]
  },
  {
   "cell_type": "markdown",
   "metadata": {},
   "source": [
    "# Gated Recurrent Units (GRU)\n",
    "\n",
    ":label:`sec_gru`\n",
    "\n",
    "\n",
    "In the previous section, we discussed how gradients are calculated in a recurrent\n",
    "neural network. In particular we found that long products of matrices can lead\n",
    "to vanishing or divergent gradients. Let's briefly think about what such\n",
    "gradient anomalies mean in practice:\n",
    "\n",
    "* We might encounter a situation where an early observation is highly\n",
    "  significant for predicting all future observations. Consider the somewhat\n",
    "  contrived case where the first observation contains a checksum and the goal is\n",
    "  to discern whether the checksum is correct at the end of the sequence. In this\n",
    "  case, the influence of the first token is vital. We would like to have some\n",
    "  mechanisms for storing vital early information in a *memory cell*. Without such\n",
    "  a mechanism, we will have to assign a very large gradient to this observation,\n",
    "  since it affects all subsequent observations.\n",
    "* We might encounter situations where some symbols carry no pertinent\n",
    "  observation. For instance, when parsing a web page there might be auxiliary\n",
    "  HTML code that is irrelevant for the purpose of assessing the sentiment\n",
    "  conveyed on the page. We would like to have some mechanism for *skipping such\n",
    "  symbols* in the latent state representation.\n",
    "* We might encounter situations where there is a logical break between parts of\n",
    "  a sequence. For instance, there might be a transition between chapters in a\n",
    "  book, or a transition between a bear, and a bull market for securities. In\n",
    "  this case it would be nice to have a means of *resetting* our internal state\n",
    "  representation.\n",
    "\n",
    "A number of methods have been proposed to address this. One of the earliest is Long Short Term Memory (LSTM) :cite:`Hochreiter.Schmidhuber.1997` which we\n",
    "will discuss in :numref:`sec_lstm`. Gated Recurrent Unit (GRU)\n",
    ":cite:`Cho.Van-Merrienboer.Bahdanau.ea.2014` is a slightly more streamlined\n",
    "variant that often offers comparable performance and is significantly faster to\n",
    "compute. See also :cite:`Chung.Gulcehre.Cho.ea.2014` for more\n",
    "details. Due to its simplicity, let's start with the GRU.\n",
    "\n",
    "\n",
    "## Gating the Hidden State\n",
    "\n",
    "The key distinction between regular RNNs and GRUs is that the latter support gating of the hidden state. This means that we have dedicated mechanisms for when a hidden state should be updated and also when it should be reset. These mechanisms are learned and they address the concerns listed above. For instance, if the first symbol is of great importance we will learn not to update the hidden state after the first observation. Likewise, we will learn to skip irrelevant temporary observations. Last, we will learn to reset the latent state whenever needed. We discuss this in detail below.\n",
    "\n",
    "### Reset Gates and Update Gates\n",
    "\n",
    "The first thing we need to introduce are reset and update gates. We engineer them to be vectors with entries in $(0, 1)$ such that we can perform convex combinations. For instance, a reset variable would allow us to control how much of the previous state we might still want to remember. Likewise, an update variable would allow us to control how much of the new state is just a copy of the old state.\n",
    "\n",
    "We begin by engineering gates to generate these variables. :numref:`fig_gru_1` illustrates the inputs for both reset and update gates in a GRU, given the current timestep input $\\mathbf{X}_t$ and the hidden state of the previous timestep $\\mathbf{H}_{t-1}$. The output is given by a fully connected layer with a sigmoid as its activation function.\n",
    "\n",
    "![ Reset and update gate in a GRU. ](../img/gru_1.svg)\n",
    "\n",
    ":label:`fig_gru_1`\n",
    "\n",
    "\n",
    "\n",
    "For a given timestep $t$, the minibatch input is $\\mathbf{X}_t \\in \\mathbb{R}^{n \\times d}$ (number of examples: $n$, number of inputs: $d$) and the hidden state of the last timestep is $\\mathbf{H}_{t-1} \\in \\mathbb{R}^{n \\times h}$ (number of hidden states: $h$). Then, the reset gate $\\mathbf{R}_t \\in \\mathbb{R}^{n \\times h}$ and update gate $\\mathbf{Z}_t \\in \\mathbb{R}^{n \\times h}$ are computed as follows:\n",
    "\n",
    "$$\n",
    "\\begin{aligned}\n",
    "\\mathbf{R}_t = \\sigma(\\mathbf{X}_t \\mathbf{W}_{xr} + \\mathbf{H}_{t-1} \\mathbf{W}_{hr} + \\mathbf{b}_r),\\\\\n",
    "\\mathbf{Z}_t = \\sigma(\\mathbf{X}_t \\mathbf{W}_{xz} + \\mathbf{H}_{t-1} \\mathbf{W}_{hz} + \\mathbf{b}_z).\n",
    "\\end{aligned}\n",
    "$$\n",
    "\n",
    "Here, $\\mathbf{W}_{xr}, \\mathbf{W}_{xz} \\in \\mathbb{R}^{d \\times h}$ and\n",
    "$\\mathbf{W}_{hr}, \\mathbf{W}_{hz} \\in \\mathbb{R}^{h \\times h}$ are weight\n",
    "parameters and $\\mathbf{b}_r, \\mathbf{b}_z \\in \\mathbb{R}^{1 \\times h}$ are\n",
    "biases. We use a sigmoid function (as introduced in :numref:`sec_mlp`) to transform input values to the interval $(0, 1)$.\n",
    "\n",
    "### Reset Gates in Action\n",
    "\n",
    "We begin by integrating the reset gate with a regular latent state updating mechanism. In a conventional RNN, we would have an hidden state update of the form\n",
    "\n",
    "$$\\mathbf{H}_t = \\tanh(\\mathbf{X}_t \\mathbf{W}_{xh} + \\mathbf{H}_{t-1}\\mathbf{W}_{hh} + \\mathbf{b}_h).$$\n",
    "\n",
    "This is essentially identical to the discussion of the previous section, albeit with a nonlinearity in the form of $\\tanh$ to ensure that the values of the hidden states remain in the interval $(-1, 1)$.\n",
    "If we want to be able to reduce the influence of the previous states we can multiply $\\mathbf{H}_{t-1}$ with $\\mathbf{R}_t$ elementwise. Whenever the entries in the reset gate $\\mathbf{R}_t$ are close to $1$, we recover a conventional RNN. For all entries of the reset gate $\\mathbf{R}_t$ that are close to $0$, the hidden state is the result of an MLP with $\\mathbf{X}_t$ as input. Any pre-existing hidden state is thus reset to defaults. This leads to the following *candidate hidden state* (it is a *candidate* since we still need to incorporate the action of the update gate).\n",
    "\n",
    "$$\\tilde{\\mathbf{H}}_t = \\tanh(\\mathbf{X}_t \\mathbf{W}_{xh} + \\left(\\mathbf{R}_t \\odot \\mathbf{H}_{t-1}\\right) \\mathbf{W}_{hh} + \\mathbf{b}_h).$$\n",
    "\n",
    ":numref:`fig_gru_2` illustrates the computational flow after applying the reset gate. The symbol $\\odot$ indicates pointwise multiplication between tensors.\n",
    "\n",
    "![ Candidate hidden state computation in a GRU. The multiplication is carried out elementwise. ](../img/gru_2.svg)\n",
    "\n",
    ":label:`fig_gru_2`\n",
    "\n",
    "\n",
    "\n",
    "### Update Gates in Action\n",
    "\n",
    "Next we need to incorporate the effect of the update gate $\\mathbf{Z}_t$, as shown in :numref:`fig_gru_3`. This determines the extent to which the new state $\\mathbf{H}_t$ is just the old state $\\mathbf{H}_{t-1}$ and by how much the new candidate state $\\tilde{\\mathbf{H}}_t$ is used. The gating variable $\\mathbf{Z}_t$ can be used for this purpose, simply by taking elementwise convex combinations between both candidates. This leads to the final update equation for the GRU.\n",
    "\n",
    "$$\\mathbf{H}_t = \\mathbf{Z}_t \\odot \\mathbf{H}_{t-1}  + (1 - \\mathbf{Z}_t) \\odot \\tilde{\\mathbf{H}}_t.$$\n",
    "\n",
    "\n",
    "![ Hidden state computation in a GRU. As before, the multiplication is carried out elementwise. ](../img/gru_3.svg)\n",
    "\n",
    ":label:`fig_gru_3`\n",
    "\n",
    "\n",
    "Whenever the update gate $\\mathbf{Z}_t$ is close to $1$, we simply retain the old state. In this case the information from $\\mathbf{X}_t$ is essentially ignored, effectively skipping timestep $t$ in the dependency chain. In contrast, whenever $\\mathbf{Z}_t$ is close to $0$, the new latent state $\\mathbf{H}_t$ approaches the candidate latent state $\\tilde{\\mathbf{H}}_t$. These designs can help us cope with the vanishing gradient problem in RNNs and better capture dependencies for time series with large timestep distances. In summary, GRUs have the following two distinguishing features:\n",
    "\n",
    "* Reset gates help capture short-term dependencies in time series.\n",
    "* Update gates help capture long-term dependencies in time series.\n",
    "\n",
    "## Implementation from Scratch\n",
    "\n",
    "To gain a better understanding of the model, let's implement a GRU from scratch.\n",
    "\n",
    "### Reading the Dataset\n",
    "\n",
    "We begin by reading *The Time Machine* corpus that we used in :numref:`sec_rnn_scratch`. The code for reading the dataset is given below:"
   ]
  },
  {
   "cell_type": "code",
   "execution_count": 1,
   "metadata": {
    "attributes": {
     "classes": [],
     "id": "",
     "n": "1"
    }
   },
   "outputs": [],
   "source": [
    "import d2l\n",
    "from mxnet import np, npx\n",
    "from mxnet.gluon import rnn\n",
    "npx.set_np()\n",
    "\n",
    "batch_size, num_steps = 32, 35\n",
    "train_iter, vocab = d2l.load_data_time_machine(batch_size, num_steps)"
   ]
  },
  {
   "cell_type": "markdown",
   "metadata": {},
   "source": [
    "### Initializing Model Parameters\n",
    "\n",
    "The next step is to initialize the model parameters. We draw the weights from a Gaussian with variance to be $0.01$ and set the bias to $0$. The hyperparameter `num_hiddens` defines the number of hidden units. We instantiate all weights and biases relating to the update gate, the reset gate, and the candidate hidden state itself. Subsequently, we attach gradients to all the parameters."
   ]
  },
  {
   "cell_type": "code",
   "execution_count": 2,
   "metadata": {
    "attributes": {
     "classes": [],
     "id": "",
     "n": "2"
    }
   },
   "outputs": [],
   "source": [
    "def get_params(vocab_size, num_hiddens, ctx):\n",
    "    num_inputs = num_outputs = vocab_size\n",
    "\n",
    "    def normal(shape):\n",
    "        return np.random.normal(scale=0.01, size=shape, ctx=ctx)\n",
    "\n",
    "    def three():\n",
    "        return (normal((num_inputs, num_hiddens)),\n",
    "                normal((num_hiddens, num_hiddens)),\n",
    "                np.zeros(num_hiddens, ctx=ctx))\n",
    "\n",
    "    W_xz, W_hz, b_z = three()  # Update gate parameter\n",
    "    W_xr, W_hr, b_r = three()  # Reset gate parameter\n",
    "    W_xh, W_hh, b_h = three()  # Candidate hidden state parameter\n",
    "    # Output layer parameters\n",
    "    W_hq = normal((num_hiddens, num_outputs))\n",
    "    b_q = np.zeros(num_outputs, ctx=ctx)\n",
    "    # Attach gradients\n",
    "    params = [W_xz, W_hz, b_z, W_xr, W_hr, b_r, W_xh, W_hh, b_h, W_hq, b_q]\n",
    "    for param in params:\n",
    "        param.attach_grad()\n",
    "    return params"
   ]
  },
  {
   "cell_type": "markdown",
   "metadata": {},
   "source": [
    "### Defining the Model\n",
    "\n",
    "Now we will define the hidden state initialization function `init_gru_state`. Just like the `init_rnn_state` function defined in :numref:`sec_rnn_scratch`, this function returns an `ndarray` with a shape (batch size, number of hidden units) whose values are all zeros."
   ]
  },
  {
   "cell_type": "code",
   "execution_count": 3,
   "metadata": {
    "attributes": {
     "classes": [],
     "id": "",
     "n": "3"
    }
   },
   "outputs": [],
   "source": [
    "def init_gru_state(batch_size, num_hiddens, ctx):\n",
    "    return (np.zeros(shape=(batch_size, num_hiddens), ctx=ctx), )"
   ]
  },
  {
   "cell_type": "markdown",
   "metadata": {},
   "source": [
    "Now we are ready to define the GRU model. Its structure is the same as the basic RNN cell, except that the update equations are more complex."
   ]
  },
  {
   "cell_type": "code",
   "execution_count": 4,
   "metadata": {
    "attributes": {
     "classes": [],
     "id": "",
     "n": "4"
    }
   },
   "outputs": [],
   "source": [
    "def gru(inputs, state, params):\n",
    "    W_xz, W_hz, b_z, W_xr, W_hr, b_r, W_xh, W_hh, b_h, W_hq, b_q = params\n",
    "    H, = state\n",
    "    outputs = []\n",
    "    for X in inputs:\n",
    "        Z = npx.sigmoid(np.dot(X, W_xz) + np.dot(H, W_hz) + b_z)\n",
    "        R = npx.sigmoid(np.dot(X, W_xr) + np.dot(H, W_hr) + b_r)\n",
    "        H_tilda = np.tanh(np.dot(X, W_xh) + np.dot(R * H, W_hh) + b_h)\n",
    "        H = Z * H + (1 - Z) * H_tilda\n",
    "        Y = np.dot(H, W_hq) + b_q\n",
    "        outputs.append(Y)\n",
    "    return np.concatenate(outputs, axis=0), (H,)"
   ]
  },
  {
   "cell_type": "markdown",
   "metadata": {},
   "source": [
    "### Training and Prediction\n",
    "\n",
    "Training and prediction work in exactly the same manner as before. After training for one epoch, the perplexity and the output sentence will be like the following."
   ]
  },
  {
   "cell_type": "code",
   "execution_count": 3,
   "metadata": {
    "attributes": {
     "classes": [],
     "id": "",
     "n": "3"
    }
   },
   "outputs": [],
   "source": [
    "vocab_size, num_hiddens, ctx = len(vocab), 256, d2l.try_gpu()\n",
    "num_epochs, lr = 500, 1\n",
    "model = d2l.RNNModelScratch(len(vocab), num_hiddens, ctx, get_params,\n",
    "                            init_gru_state, gru)\n",
    "d2l.train_ch8(model, train_iter, vocab, lr, num_epochs, ctx)"
   ]
  },
  {
   "cell_type": "markdown",
   "metadata": {},
   "source": [
    "## Concise Implementation\n",
    "\n",
    "In Gluon, we can directly call the `GRU` class in the `rnn` module. This encapsulates all the configuration detail that we made explicit above. The code is significantly faster as it uses compiled operators rather than Python for many details that we spelled out in detail before."
   ]
  },
  {
   "cell_type": "code",
   "execution_count": 9,
   "metadata": {
    "attributes": {
     "classes": [],
     "id": "",
     "n": "9"
    }
   },
   "outputs": [],
   "source": [
    "gru_layer = rnn.GRU(num_hiddens)\n",
    "model = d2l.RNNModel(gru_layer, len(vocab))\n",
    "d2l.train_ch8(model, train_iter, vocab, lr, num_epochs, ctx)"
   ]
  },
  {
   "cell_type": "markdown",
   "metadata": {},
   "source": [
    "## Summary\n",
    "\n",
    "* Gated recurrent neural networks are better at capturing dependencies for time series with large timestep distances.\n",
    "* Reset gates help capture short-term dependencies in time series.\n",
    "* Update gates help capture long-term dependencies in time series.\n",
    "* GRUs contain basic RNNs as their extreme case whenever the reset gate is switched on. They can ignore sequences as needed.\n",
    "\n",
    "\n",
    "## Exercises\n",
    "\n",
    "1. Compare runtime, perplexity, and the output strings for `rnn.RNN` and `rnn.GRU` implementations with each other.\n",
    "1. Assume that we only want to use the input for timestep $t'$ to predict the output at timestep $t > t'$. What are the best values for the reset and update gates for each timestep?\n",
    "1. Adjust the hyperparameters and observe and analyze the impact on running time, perplexity, and the written lyrics.\n",
    "1. What happens if you implement only parts of a GRU? That is, implement a recurrent cell that only has a reset gate. Likewise, implement a recurrent cell only with an update gate.\n",
    "\n",
    "\n",
    "## [Discussions](https://discuss.mxnet.io/t/2367)\n",
    "\n",
    "![](../img/qr_gru.svg)"
   ]
  }
 ],
 "metadata": {
  "kernelspec": {
   "display_name": "conda_mxnet_p36",
   "name": "conda_mxnet_p36"
  },
  "language_info": {
   "name": "python"
  }
 },
 "nbformat": 4,
 "nbformat_minor": 2
}